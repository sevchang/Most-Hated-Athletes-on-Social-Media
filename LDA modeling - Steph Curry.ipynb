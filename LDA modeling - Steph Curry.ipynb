{
 "cells": [
  {
   "cell_type": "code",
   "execution_count": 1,
   "id": "standing-relay",
   "metadata": {},
   "outputs": [
    {
     "name": "stderr",
     "output_type": "stream",
     "text": [
      "Slow version of gensim.models.doc2vec is being used\n",
      "Slow version of Fasttext is being used\n",
      "[nltk_data] Downloading package punkt to /opt/conda/nltk_data...\n",
      "[nltk_data]   Unzipping tokenizers/punkt.zip.\n"
     ]
    }
   ],
   "source": [
    "import pandas as pd\n",
    "import numpy as np\n",
    "import gensim\n",
    "import re\n",
    "from emoji import UNICODE_EMOJI\n",
    "from textblob import TextBlob\n",
    "from collections import Counter\n",
    "import altair as alt\n",
    "\n",
    "import nltk\n",
    "from nltk.tokenize import word_tokenize\n",
    "from nltk.corpus import stopwords\n",
    "nltk.download('punkt')\n",
    "\n",
    "from sklearn.decomposition import LatentDirichletAllocation\n",
    "from sklearn.feature_extraction.text import CountVectorizer, TfidfVectorizer\n",
    "\n",
    "stops = nltk.corpus.stopwords.words('english')"
   ]
  },
  {
   "cell_type": "code",
   "execution_count": 2,
   "id": "front-radical",
   "metadata": {},
   "outputs": [
    {
     "data": {
      "text/html": [
       "<div>\n",
       "<style scoped>\n",
       "    .dataframe tbody tr th:only-of-type {\n",
       "        vertical-align: middle;\n",
       "    }\n",
       "\n",
       "    .dataframe tbody tr th {\n",
       "        vertical-align: top;\n",
       "    }\n",
       "\n",
       "    .dataframe thead th {\n",
       "        text-align: right;\n",
       "    }\n",
       "</style>\n",
       "<table border=\"1\" class=\"dataframe\">\n",
       "  <thead>\n",
       "    <tr style=\"text-align: right;\">\n",
       "      <th></th>\n",
       "      <th>Created_Date</th>\n",
       "      <th>Tweet Id</th>\n",
       "      <th>Text</th>\n",
       "      <th>Rendered Tweet</th>\n",
       "      <th>User_Name</th>\n",
       "      <th>Followers</th>\n",
       "      <th>Friends</th>\n",
       "      <th>Favourites</th>\n",
       "      <th>Media</th>\n",
       "      <th>Location</th>\n",
       "      <th>Replys</th>\n",
       "      <th>Retweets</th>\n",
       "      <th>Quotes</th>\n",
       "      <th>Likes</th>\n",
       "      <th>Language</th>\n",
       "      <th>Place</th>\n",
       "      <th>Hashtags</th>\n",
       "      <th>Source</th>\n",
       "      <th>Mentions</th>\n",
       "    </tr>\n",
       "  </thead>\n",
       "  <tbody>\n",
       "    <tr>\n",
       "      <th>0</th>\n",
       "      <td>2021-10-19 23:59:44+00:00</td>\n",
       "      <td>1450612663503917056</td>\n",
       "      <td>@Awesemo_Com @AwesemoNBA @NBA @NBAonTNT @Steph...</td>\n",
       "      <td>@Awesemo_Com @AwesemoNBA @NBA @NBAonTNT @Steph...</td>\n",
       "      <td>markFin73763459</td>\n",
       "      <td>28</td>\n",
       "      <td>156</td>\n",
       "      <td>522</td>\n",
       "      <td>18</td>\n",
       "      <td>NaN</td>\n",
       "      <td>0</td>\n",
       "      <td>0</td>\n",
       "      <td>0</td>\n",
       "      <td>0</td>\n",
       "      <td>en</td>\n",
       "      <td>NaN</td>\n",
       "      <td>NaN</td>\n",
       "      <td>&lt;a href=\"http://twitter.com/download/iphone\" r...</td>\n",
       "      <td>[User(username='Awesemo_Com', id=9561989702037...</td>\n",
       "    </tr>\n",
       "    <tr>\n",
       "      <th>1</th>\n",
       "      <td>2021-10-19 23:58:31+00:00</td>\n",
       "      <td>1450612355662897159</td>\n",
       "      <td>@AwesemoNBA @Awesemo_Com @NBA @NBAonTNT @Steph...</td>\n",
       "      <td>@AwesemoNBA @Awesemo_Com @NBA @NBAonTNT @Steph...</td>\n",
       "      <td>Iceman100001</td>\n",
       "      <td>25</td>\n",
       "      <td>365</td>\n",
       "      <td>1200</td>\n",
       "      <td>672</td>\n",
       "      <td>NaN</td>\n",
       "      <td>0</td>\n",
       "      <td>0</td>\n",
       "      <td>0</td>\n",
       "      <td>0</td>\n",
       "      <td>en</td>\n",
       "      <td>NaN</td>\n",
       "      <td>NaN</td>\n",
       "      <td>&lt;a href=\"http://twitter.com/download/iphone\" r...</td>\n",
       "      <td>[User(username='AwesemoNBA', id=11040884038413...</td>\n",
       "    </tr>\n",
       "    <tr>\n",
       "      <th>2</th>\n",
       "      <td>2021-10-19 23:57:35+00:00</td>\n",
       "      <td>1450612122661031940</td>\n",
       "      <td>With @StephenCurry30 being in best player in t...</td>\n",
       "      <td>With @StephenCurry30 being in best player in t...</td>\n",
       "      <td>TheErbaEffect</td>\n",
       "      <td>85</td>\n",
       "      <td>518</td>\n",
       "      <td>706</td>\n",
       "      <td>17</td>\n",
       "      <td>Brooklyn, NY</td>\n",
       "      <td>1</td>\n",
       "      <td>0</td>\n",
       "      <td>0</td>\n",
       "      <td>0</td>\n",
       "      <td>en</td>\n",
       "      <td>NaN</td>\n",
       "      <td>NaN</td>\n",
       "      <td>&lt;a href=\"https://mobile.twitter.com\" rel=\"nofo...</td>\n",
       "      <td>[User(username='StephenCurry30', id=42562446, ...</td>\n",
       "    </tr>\n",
       "  </tbody>\n",
       "</table>\n",
       "</div>"
      ],
      "text/plain": [
       "                Created_Date             Tweet Id  \\\n",
       "0  2021-10-19 23:59:44+00:00  1450612663503917056   \n",
       "1  2021-10-19 23:58:31+00:00  1450612355662897159   \n",
       "2  2021-10-19 23:57:35+00:00  1450612122661031940   \n",
       "\n",
       "                                                Text  \\\n",
       "0  @Awesemo_Com @AwesemoNBA @NBA @NBAonTNT @Steph...   \n",
       "1  @AwesemoNBA @Awesemo_Com @NBA @NBAonTNT @Steph...   \n",
       "2  With @StephenCurry30 being in best player in t...   \n",
       "\n",
       "                                      Rendered Tweet        User_Name  \\\n",
       "0  @Awesemo_Com @AwesemoNBA @NBA @NBAonTNT @Steph...  markFin73763459   \n",
       "1  @AwesemoNBA @Awesemo_Com @NBA @NBAonTNT @Steph...     Iceman100001   \n",
       "2  With @StephenCurry30 being in best player in t...    TheErbaEffect   \n",
       "\n",
       "   Followers  Friends  Favourites  Media      Location  Replys  Retweets  \\\n",
       "0         28      156         522     18           NaN       0         0   \n",
       "1         25      365        1200    672           NaN       0         0   \n",
       "2         85      518         706     17  Brooklyn, NY       1         0   \n",
       "\n",
       "   Quotes  Likes Language Place Hashtags  \\\n",
       "0       0      0       en   NaN      NaN   \n",
       "1       0      0       en   NaN      NaN   \n",
       "2       0      0       en   NaN      NaN   \n",
       "\n",
       "                                              Source  \\\n",
       "0  <a href=\"http://twitter.com/download/iphone\" r...   \n",
       "1  <a href=\"http://twitter.com/download/iphone\" r...   \n",
       "2  <a href=\"https://mobile.twitter.com\" rel=\"nofo...   \n",
       "\n",
       "                                            Mentions  \n",
       "0  [User(username='Awesemo_Com', id=9561989702037...  \n",
       "1  [User(username='AwesemoNBA', id=11040884038413...  \n",
       "2  [User(username='StephenCurry30', id=42562446, ...  "
      ]
     },
     "execution_count": 2,
     "metadata": {},
     "output_type": "execute_result"
    }
   ],
   "source": [
    "df1 = pd.read_csv('Curry 2021_Oct.csv')\n",
    "df2 = pd.read_csv('Curry 2021_Nov.csv')\n",
    "df3 = pd.read_csv('Curry 2021_Dec.csv')\n",
    "df4 = pd.read_csv('Curry 2022_Jan.csv')\n",
    "\n",
    "df = pd.concat([df1,df2,df3,df4])\n",
    "df.dropna(subset=['Text'],inplace=True)\n",
    "df.head(3)"
   ]
  },
  {
   "cell_type": "code",
   "execution_count": 3,
   "id": "alive-raleigh",
   "metadata": {},
   "outputs": [],
   "source": [
    "def extract_tags(text):\n",
    "    return re.findall(\"#([a-zA-Z0-9_]{1,50})\", text)\n",
    "\n",
    "    # will return a list of tags\n",
    "\n",
    "def clean_tweet(txt): \n",
    "    temp = re.sub(\"@[A-Za-z0-9_]+\",\"\", txt)\n",
    "    temp1 = re.sub(\"#[A-Za-z0-9_]+\",\"\", temp)\n",
    "    temp2 = re.sub(r\"http\\S+\", \"\", temp1)\n",
    "    result = ''.join(i for i in temp2 if i not in UNICODE_EMOJI['en'])\n",
    "    return result\n",
    "\n",
    "    # return the cleaned tweet without any mention/tag/url/emoji\n",
    "\n",
    "\n",
    "def sentiment(cleaned_tweet):\n",
    "    blob = TextBlob(cleaned_tweet)\n",
    "    return blob.sentiment.polarity\n",
    "\n",
    "    # return the sentiment score\n",
    "    \n",
    "def sentiment_label(score):\n",
    "    if score >= 0.75:\n",
    "        return 'POSITIVE'\n",
    "    elif score >= 0.2:\n",
    "        return 'positive'\n",
    "    elif score >= -0.2:\n",
    "        return 'neutral'\n",
    "    elif score >= -0.75:\n",
    "        return 'negative'\n",
    "    else:\n",
    "        return 'NEGATIVE'\n",
    "    \n",
    "    # label the tweet based on sentiment score\n",
    "    \n",
    "def word_tokens(text): \n",
    "    tokens = word_tokenize(text)\n",
    "    result = []\n",
    "    for tok in tokens: \n",
    "        if (tok.lower().isalpha()) & (tok.lower() not in stops):\n",
    "            result.append(tok)\n",
    "    \n",
    "    return result\n",
    "    # return a list of tokens for the input text string"
   ]
  },
  {
   "cell_type": "code",
   "execution_count": 4,
   "id": "early-guatemala",
   "metadata": {},
   "outputs": [
    {
     "data": {
      "text/html": [
       "<div>\n",
       "<style scoped>\n",
       "    .dataframe tbody tr th:only-of-type {\n",
       "        vertical-align: middle;\n",
       "    }\n",
       "\n",
       "    .dataframe tbody tr th {\n",
       "        vertical-align: top;\n",
       "    }\n",
       "\n",
       "    .dataframe thead th {\n",
       "        text-align: right;\n",
       "    }\n",
       "</style>\n",
       "<table border=\"1\" class=\"dataframe\">\n",
       "  <thead>\n",
       "    <tr style=\"text-align: right;\">\n",
       "      <th></th>\n",
       "      <th>tags</th>\n",
       "      <th>clean_text</th>\n",
       "      <th>sentiment_score</th>\n",
       "      <th>senti_label</th>\n",
       "    </tr>\n",
       "  </thead>\n",
       "  <tbody>\n",
       "    <tr>\n",
       "      <th>0</th>\n",
       "      <td>[]</td>\n",
       "      <td>Curry</td>\n",
       "      <td>0.000</td>\n",
       "      <td>neutral</td>\n",
       "    </tr>\n",
       "    <tr>\n",
       "      <th>1</th>\n",
       "      <td>[]</td>\n",
       "      <td>Steph Cury</td>\n",
       "      <td>0.000</td>\n",
       "      <td>neutral</td>\n",
       "    </tr>\n",
       "    <tr>\n",
       "      <th>2</th>\n",
       "      <td>[]</td>\n",
       "      <td>With  being in best player in the league form,...</td>\n",
       "      <td>0.435</td>\n",
       "      <td>positive</td>\n",
       "    </tr>\n",
       "    <tr>\n",
       "      <th>3</th>\n",
       "      <td>[]</td>\n",
       "      <td>will lose to  tonight facts</td>\n",
       "      <td>0.000</td>\n",
       "      <td>neutral</td>\n",
       "    </tr>\n",
       "    <tr>\n",
       "      <th>4</th>\n",
       "      <td>[]</td>\n",
       "      <td>Me too!!! Can’t wait!!!!     ️</td>\n",
       "      <td>0.000</td>\n",
       "      <td>neutral</td>\n",
       "    </tr>\n",
       "  </tbody>\n",
       "</table>\n",
       "</div>"
      ],
      "text/plain": [
       "  tags                                         clean_text  sentiment_score  \\\n",
       "0   []                                              Curry            0.000   \n",
       "1   []                                         Steph Cury            0.000   \n",
       "2   []  With  being in best player in the league form,...            0.435   \n",
       "3   []                        will lose to  tonight facts            0.000   \n",
       "4   []                    Me too!!! Can’t wait!!!!     ️             0.000   \n",
       "\n",
       "  senti_label  \n",
       "0     neutral  \n",
       "1     neutral  \n",
       "2    positive  \n",
       "3     neutral  \n",
       "4     neutral  "
      ]
     },
     "execution_count": 4,
     "metadata": {},
     "output_type": "execute_result"
    }
   ],
   "source": [
    "df['tags']= df.apply(lambda row: extract_tags(row['Text']), axis=1)\n",
    "\n",
    "df['clean_text']= df.apply(lambda row: clean_tweet(row['Text']), axis=1)\n",
    "df['sentiment_score']= df.apply(lambda row: sentiment(row['clean_text']), axis=1)\n",
    "df['senti_label']= df.apply(lambda row: sentiment_label(row['sentiment_score']), axis=1)\n",
    "df['words'] = df['clean_text'].apply(word_tokens)\n",
    "\n",
    "df[['tags','clean_text','sentiment_score','senti_label']].head()"
   ]
  },
  {
   "cell_type": "markdown",
   "id": "induced-certificate",
   "metadata": {},
   "source": [
    "### Latent Dirichlet Allocation"
   ]
  },
  {
   "cell_type": "code",
   "execution_count": 5,
   "id": "alternative-frank",
   "metadata": {},
   "outputs": [
    {
     "data": {
      "text/plain": [
       "<144069x1000 sparse matrix of type '<class 'numpy.float64'>'\n",
       "\twith 564653 stored elements in Compressed Sparse Row format>"
      ]
     },
     "execution_count": 5,
     "metadata": {},
     "output_type": "execute_result"
    }
   ],
   "source": [
    "vectorizer = TfidfVectorizer(min_df=10, stop_words='english',lowercase=True,max_df=0.9,max_features=1000)\n",
    "\n",
    "data_matrix = vectorizer.fit_transform(df.clean_text)\n",
    "data_matrix"
   ]
  },
  {
   "cell_type": "code",
   "execution_count": 6,
   "id": "smaller-batch",
   "metadata": {},
   "outputs": [
    {
     "name": "stdout",
     "output_type": "stream",
     "text": [
      "Top 25 words for topic #0:\n",
      "['does', 'game', 'shoot', 'wait', 'going', 'god', 'steph', 'points', 'thanks', 'amazing', 'curry', 'win', 'look', 'lebron', 'gonna', 'come', 'thank', 'tonight', 'right', 'mvp', 'good', 'let', 'man', 'congratulations', 'congrats']\n",
      "\n",
      "\n",
      "Top 25 words for topic #1:\n",
      "['games', 'today', 'legend', 'real', 'people', 'day', 've', 'll', 'say', 'just', 'game', 'night', 'shot', 'nft', 'watch', 'ball', 'shit', 'king', 'play', 'basketball', 'great', 'history', 'lol', 'better', 'goat']\n",
      "\n",
      "\n",
      "Top 25 words for topic #2:\n",
      "['vs', 'chef', 'hit', 'ur', 'allen', 'like', 'shots', 'wow', 'doing', 'ray', 'steph', 'dude', 'bad', 'elon', 'damn', 'mars', 'lmao', 'break', 'nice', 'said', 'stephen', 'guy', 'join', 'really', 'curry']\n",
      "\n",
      "\n",
      "Top 25 words for topic #3:\n",
      "['hey', 'doesn', 'respect', 'steph', 'yes', 'playing', 'drop', 'ratio', 'happy', 'amp', 'think', 'warriors', 'big', 'new', 'fan', 'stop', 'klay', 'don', 'just', 'got', 'need', 'like', 'game', 'bro', 'love']\n",
      "\n",
      "\n",
      "Top 25 words for topic #4:\n",
      "['cool', 'threes', 'favorite', 'breaking', 'awesome', 'gotta', '3pt', 'sure', 'yeah', 'league', 'splash', 'want', 'way', 'make', 'nba', 'point', 'did', 'player', 'steph', 'know', 'greatest', 'record', 'best', 'shooter', 'time']\n",
      "\n",
      "\n"
     ]
    }
   ],
   "source": [
    "lda_model = LatentDirichletAllocation(n_components=5, learning_method='online', random_state=695, n_jobs = -1)\n",
    "\n",
    "lda_output = lda_model.fit_transform(data_matrix)\n",
    "topic_dict = dict()\n",
    "\n",
    "for i, topic in enumerate(lda_model.components_):\n",
    "    print(f'Top 25 words for topic #{i}:')\n",
    "    print([vectorizer.get_feature_names()[i] for i in topic.argsort()[-25:]])\n",
    "    topic_dict[i] = [vectorizer.get_feature_names()[i] for i in topic.argsort()[-25:]]\n",
    "    print('\\n')"
   ]
  },
  {
   "cell_type": "code",
   "execution_count": 7,
   "id": "bored-kinase",
   "metadata": {},
   "outputs": [
    {
     "data": {
      "text/plain": [
       "(-1749645.596907002, 1151.628922928819)"
      ]
     },
     "execution_count": 7,
     "metadata": {},
     "output_type": "execute_result"
    }
   ],
   "source": [
    "lda_model.score(data_matrix), lda_model.perplexity(data_matrix)"
   ]
  },
  {
   "cell_type": "code",
   "execution_count": 8,
   "id": "minute-organ",
   "metadata": {},
   "outputs": [
    {
     "data": {
      "text/plain": [
       "0    2\n",
       "1    4\n",
       "2    4\n",
       "3    0\n",
       "4    0\n",
       "Name: Topic, dtype: int64"
      ]
     },
     "execution_count": 8,
     "metadata": {},
     "output_type": "execute_result"
    }
   ],
   "source": [
    "df['Topic'] = lda_output.argmax(axis=1)\n",
    "df['Topic'].head()"
   ]
  },
  {
   "cell_type": "code",
   "execution_count": 9,
   "id": "domestic-logan",
   "metadata": {},
   "outputs": [
    {
     "data": {
      "text/html": [
       "<div>\n",
       "<style scoped>\n",
       "    .dataframe tbody tr th:only-of-type {\n",
       "        vertical-align: middle;\n",
       "    }\n",
       "\n",
       "    .dataframe tbody tr th {\n",
       "        vertical-align: top;\n",
       "    }\n",
       "\n",
       "    .dataframe thead th {\n",
       "        text-align: right;\n",
       "    }\n",
       "</style>\n",
       "<table border=\"1\" class=\"dataframe\">\n",
       "  <thead>\n",
       "    <tr style=\"text-align: right;\">\n",
       "      <th></th>\n",
       "      <th>Created_Date</th>\n",
       "      <th>Tweet Id</th>\n",
       "      <th>Text</th>\n",
       "      <th>Rendered Tweet</th>\n",
       "      <th>User_Name</th>\n",
       "      <th>Followers</th>\n",
       "      <th>Friends</th>\n",
       "      <th>Favourites</th>\n",
       "      <th>Media</th>\n",
       "      <th>Location</th>\n",
       "      <th>...</th>\n",
       "      <th>Place</th>\n",
       "      <th>Hashtags</th>\n",
       "      <th>Source</th>\n",
       "      <th>Mentions</th>\n",
       "      <th>tags</th>\n",
       "      <th>clean_text</th>\n",
       "      <th>sentiment_score</th>\n",
       "      <th>senti_label</th>\n",
       "      <th>words</th>\n",
       "      <th>Topic</th>\n",
       "    </tr>\n",
       "  </thead>\n",
       "  <tbody>\n",
       "    <tr>\n",
       "      <th>0</th>\n",
       "      <td>2021-10-19 23:59:44+00:00</td>\n",
       "      <td>1450612663503917056</td>\n",
       "      <td>@Awesemo_Com @AwesemoNBA @NBA @NBAonTNT @Steph...</td>\n",
       "      <td>@Awesemo_Com @AwesemoNBA @NBA @NBAonTNT @Steph...</td>\n",
       "      <td>markFin73763459</td>\n",
       "      <td>28</td>\n",
       "      <td>156</td>\n",
       "      <td>522</td>\n",
       "      <td>18</td>\n",
       "      <td>NaN</td>\n",
       "      <td>...</td>\n",
       "      <td>NaN</td>\n",
       "      <td>NaN</td>\n",
       "      <td>&lt;a href=\"http://twitter.com/download/iphone\" r...</td>\n",
       "      <td>[User(username='Awesemo_Com', id=9561989702037...</td>\n",
       "      <td>[]</td>\n",
       "      <td>Curry</td>\n",
       "      <td>0.000</td>\n",
       "      <td>neutral</td>\n",
       "      <td>[Curry]</td>\n",
       "      <td>2</td>\n",
       "    </tr>\n",
       "    <tr>\n",
       "      <th>1</th>\n",
       "      <td>2021-10-19 23:58:31+00:00</td>\n",
       "      <td>1450612355662897159</td>\n",
       "      <td>@AwesemoNBA @Awesemo_Com @NBA @NBAonTNT @Steph...</td>\n",
       "      <td>@AwesemoNBA @Awesemo_Com @NBA @NBAonTNT @Steph...</td>\n",
       "      <td>Iceman100001</td>\n",
       "      <td>25</td>\n",
       "      <td>365</td>\n",
       "      <td>1200</td>\n",
       "      <td>672</td>\n",
       "      <td>NaN</td>\n",
       "      <td>...</td>\n",
       "      <td>NaN</td>\n",
       "      <td>NaN</td>\n",
       "      <td>&lt;a href=\"http://twitter.com/download/iphone\" r...</td>\n",
       "      <td>[User(username='AwesemoNBA', id=11040884038413...</td>\n",
       "      <td>[]</td>\n",
       "      <td>Steph Cury</td>\n",
       "      <td>0.000</td>\n",
       "      <td>neutral</td>\n",
       "      <td>[Steph, Cury]</td>\n",
       "      <td>4</td>\n",
       "    </tr>\n",
       "    <tr>\n",
       "      <th>2</th>\n",
       "      <td>2021-10-19 23:57:35+00:00</td>\n",
       "      <td>1450612122661031940</td>\n",
       "      <td>With @StephenCurry30 being in best player in t...</td>\n",
       "      <td>With @StephenCurry30 being in best player in t...</td>\n",
       "      <td>TheErbaEffect</td>\n",
       "      <td>85</td>\n",
       "      <td>518</td>\n",
       "      <td>706</td>\n",
       "      <td>17</td>\n",
       "      <td>Brooklyn, NY</td>\n",
       "      <td>...</td>\n",
       "      <td>NaN</td>\n",
       "      <td>NaN</td>\n",
       "      <td>&lt;a href=\"https://mobile.twitter.com\" rel=\"nofo...</td>\n",
       "      <td>[User(username='StephenCurry30', id=42562446, ...</td>\n",
       "      <td>[]</td>\n",
       "      <td>With  being in best player in the league form,...</td>\n",
       "      <td>0.435</td>\n",
       "      <td>positive</td>\n",
       "      <td>[best, player, league, form, still, versatile,...</td>\n",
       "      <td>4</td>\n",
       "    </tr>\n",
       "  </tbody>\n",
       "</table>\n",
       "<p>3 rows × 25 columns</p>\n",
       "</div>"
      ],
      "text/plain": [
       "                Created_Date             Tweet Id  \\\n",
       "0  2021-10-19 23:59:44+00:00  1450612663503917056   \n",
       "1  2021-10-19 23:58:31+00:00  1450612355662897159   \n",
       "2  2021-10-19 23:57:35+00:00  1450612122661031940   \n",
       "\n",
       "                                                Text  \\\n",
       "0  @Awesemo_Com @AwesemoNBA @NBA @NBAonTNT @Steph...   \n",
       "1  @AwesemoNBA @Awesemo_Com @NBA @NBAonTNT @Steph...   \n",
       "2  With @StephenCurry30 being in best player in t...   \n",
       "\n",
       "                                      Rendered Tweet        User_Name  \\\n",
       "0  @Awesemo_Com @AwesemoNBA @NBA @NBAonTNT @Steph...  markFin73763459   \n",
       "1  @AwesemoNBA @Awesemo_Com @NBA @NBAonTNT @Steph...     Iceman100001   \n",
       "2  With @StephenCurry30 being in best player in t...    TheErbaEffect   \n",
       "\n",
       "   Followers  Friends  Favourites  Media      Location  ...  Place  Hashtags  \\\n",
       "0         28      156         522     18           NaN  ...    NaN       NaN   \n",
       "1         25      365        1200    672           NaN  ...    NaN       NaN   \n",
       "2         85      518         706     17  Brooklyn, NY  ...    NaN       NaN   \n",
       "\n",
       "                                              Source  \\\n",
       "0  <a href=\"http://twitter.com/download/iphone\" r...   \n",
       "1  <a href=\"http://twitter.com/download/iphone\" r...   \n",
       "2  <a href=\"https://mobile.twitter.com\" rel=\"nofo...   \n",
       "\n",
       "                                            Mentions tags  \\\n",
       "0  [User(username='Awesemo_Com', id=9561989702037...   []   \n",
       "1  [User(username='AwesemoNBA', id=11040884038413...   []   \n",
       "2  [User(username='StephenCurry30', id=42562446, ...   []   \n",
       "\n",
       "                                          clean_text sentiment_score  \\\n",
       "0                                              Curry           0.000   \n",
       "1                                         Steph Cury           0.000   \n",
       "2  With  being in best player in the league form,...           0.435   \n",
       "\n",
       "  senti_label                                              words Topic  \n",
       "0     neutral                                            [Curry]     2  \n",
       "1     neutral                                      [Steph, Cury]     4  \n",
       "2    positive  [best, player, league, form, still, versatile,...     4  \n",
       "\n",
       "[3 rows x 25 columns]"
      ]
     },
     "execution_count": 9,
     "metadata": {},
     "output_type": "execute_result"
    }
   ],
   "source": [
    "df.head(3)"
   ]
  },
  {
   "cell_type": "code",
   "execution_count": 10,
   "id": "atomic-sunglasses",
   "metadata": {},
   "outputs": [
    {
     "name": "stdout",
     "output_type": "stream",
     "text": [
      "Amid the Stephen Curry tweets from 2021/10/19 ~ 2022/01/19 :\n",
      "10351 tweets are highly positive, that is 7.185 % of the total tweets\n",
      "1191 tweets are highly negative, that is 0.827 % of the total tweets\n"
     ]
    }
   ],
   "source": [
    "POS_count = df[df['senti_label']=='POSITIVE'].shape[0]\n",
    "POS_ratio = POS_count/df.shape[0]\n",
    "\n",
    "NEG_count = df[df['senti_label']=='NEGATIVE'].shape[0]\n",
    "NEG_ratio = NEG_count/df.shape[0]\n",
    "\n",
    "print('Amid the Stephen Curry tweets from 2021/09/09 ~ 2022/01/19 :')\n",
    "print(POS_count,'tweets are highly positive, that is',round(POS_ratio*100,3),'% of the total tweets')\n",
    "print(NEG_count,'tweets are highly negative, that is',round(NEG_ratio*100,3),'% of the total tweets')"
   ]
  },
  {
   "cell_type": "markdown",
   "id": "placed-commission",
   "metadata": {},
   "source": [
    "### Topic/Sentiment Exploration"
   ]
  },
  {
   "cell_type": "code",
   "execution_count": 11,
   "id": "compound-default",
   "metadata": {},
   "outputs": [
    {
     "data": {
      "text/plain": [
       "dict_keys(['topic 2', 'topic 4', 'topic 0', 'topic 1', 'topic 3'])"
      ]
     },
     "execution_count": 11,
     "metadata": {},
     "output_type": "execute_result"
    }
   ],
   "source": [
    "dic = dict()\n",
    "\n",
    "for i in df.Topic.unique():\n",
    "    label = 'topic ' + str(i)\n",
    "    data = df[df['Topic']==i]\n",
    "    dic[label] = data\n",
    "\n",
    "dic.keys()"
   ]
  },
  {
   "cell_type": "code",
   "execution_count": 12,
   "id": "sorted-married",
   "metadata": {},
   "outputs": [],
   "source": [
    "def topic_summary(idx):\n",
    "    label = 'topic ' + str(idx)\n",
    "    data = dic[label]\n",
    "    \n",
    "    c = Counter()\n",
    "    for i in data['tags']:\n",
    "        c.update(Counter(i))\n",
    "        \n",
    "    top = c.most_common(25)\n",
    "    top_tags = []\n",
    "    for combo in top:\n",
    "        top_tags.append(combo[0])\n",
    "    \n",
    "    top_words = topic_dict[idx]\n",
    "    \n",
    "    total = data.shape[0]\n",
    "    senti_group = data.groupby('senti_label').count()['Topic']\n",
    "    POS = senti_group['POSITIVE']\n",
    "    NEG = senti_group['NEGATIVE']\n",
    "    pos = senti_group['positive']\n",
    "    neg = senti_group['negative']\n",
    "    neu = senti_group['neutral']\n",
    "    pos_ratio = round(100*(POS + pos) / total,3)\n",
    "    neg_ratio = round(100*(NEG + neg) / total,3)\n",
    "    neu_ratio = round(100*neu/total,3)\n",
    "    \n",
    "    score = round(data['sentiment_score'].mean(),3)\n",
    "    \n",
    "    print('There are a total of', total, f'tweets in topic #{idx}')\n",
    "    print(' ')\n",
    "    print('Top 25 words : ',top_words)\n",
    "    print(' ')\n",
    "    print('Top 25 tags : ',top_tags)\n",
    "    print(' ')\n",
    "    print(round(100*POS/total,3), '% of the tweets in this topic cluster are highly positive,')\n",
    "    print('while', round(100*NEG/total,3), '% of the tweets are highly negative')\n",
    "    print(' ')\n",
    "    print(POS + pos, 'tweets are scored as positive, while',NEG + neg , 'tweets are negative')\n",
    "    print(pos_ratio,'% positive tweets,',neu_ratio,'% neutral, and', neg_ratio,'% negative')\n",
    "    print('The average sentiment score is', score)"
   ]
  },
  {
   "cell_type": "code",
   "execution_count": 13,
   "id": "expressed-brain",
   "metadata": {},
   "outputs": [
    {
     "name": "stdout",
     "output_type": "stream",
     "text": [
      "There are a total of 38329 tweets in topic #0\n",
      " \n",
      "Top 25 words :  ['does', 'game', 'shoot', 'wait', 'going', 'god', 'steph', 'points', 'thanks', 'amazing', 'curry', 'win', 'look', 'lebron', 'gonna', 'come', 'thank', 'tonight', 'right', 'mvp', 'good', 'let', 'man', 'congratulations', 'congrats']\n",
      " \n",
      "Top 25 tags :  ['DubNation', 'NBA75', 'NBA', 'StephenCurry', 'NBAAllStar', 'Warriors', 'StephCurry', 'NBATwitter', 'MVP', 'nba', 'stephcurry', 'Dubnation', 'dubnation', 'NFT', '30', 'warriors', 'KlayDay', '1', 'NBAonTNT', 'NFTs', 'goldenstatewarriors', 'TopShotThanksgiving', 'GOAT', 'Curry', 'NBATopShotThis']\n",
      " \n",
      "4.075 % of the tweets in this topic cluster are highly positive,\n",
      "while 0.59 % of the tweets are highly negative\n",
      " \n",
      "9540 tweets are scored as positive, while 2209 tweets are negative\n",
      "24.89 % positive tweets, 69.347 % neutral, and 5.763 % negative\n",
      "The average sentiment score is 0.096\n"
     ]
    }
   ],
   "source": [
    "topic_summary(0)"
   ]
  },
  {
   "cell_type": "code",
   "execution_count": 14,
   "id": "unlike-jacksonville",
   "metadata": {},
   "outputs": [
    {
     "name": "stdout",
     "output_type": "stream",
     "text": [
      "There are a total of 30610 tweets in topic #1\n",
      " \n",
      "Top 25 words :  ['games', 'today', 'legend', 'real', 'people', 'day', 've', 'll', 'say', 'just', 'game', 'night', 'shot', 'nft', 'watch', 'ball', 'shit', 'king', 'play', 'basketball', 'great', 'history', 'lol', 'better', 'goat']\n",
      " \n",
      "Top 25 tags :  ['DubNation', 'NBA', 'NBA75', 'StephenCurry', 'StephCurry', 'Warriors', 'NBAAllStar', 'NFT', 'NBATwitter', 'NFTs', 'nba', 'dubnation', 'nft', 'stephcurry', 'MVP', 'KlayDay', 'NFTCommunity', 'GOAT', 'warriors', '1', 'NBATopShotThis', 'basketball', 'Curry', 'Dubnation', 'NBAonTNT']\n",
      " \n",
      "6.093 % of the tweets in this topic cluster are highly positive,\n",
      "while 1.245 % of the tweets are highly negative\n",
      " \n",
      "9735 tweets are scored as positive, while 2735 tweets are negative\n",
      "31.803 % positive tweets, 59.262 % neutral, and 8.935 % negative\n",
      "The average sentiment score is 0.117\n"
     ]
    }
   ],
   "source": [
    "topic_summary(1)"
   ]
  },
  {
   "cell_type": "code",
   "execution_count": 15,
   "id": "existing-berry",
   "metadata": {},
   "outputs": [
    {
     "name": "stdout",
     "output_type": "stream",
     "text": [
      "There are a total of 26623 tweets in topic #4\n",
      " \n",
      "Top 25 words :  ['cool', 'threes', 'favorite', 'breaking', 'awesome', 'gotta', '3pt', 'sure', 'yeah', 'league', 'splash', 'want', 'way', 'make', 'nba', 'point', 'did', 'player', 'steph', 'know', 'greatest', 'record', 'best', 'shooter', 'time']\n",
      " \n",
      "Top 25 tags :  ['DubNation', 'StephenCurry', 'NBA75', 'NBA', 'NBAAllStar', 'StephCurry', 'Warriors', 'nba', 'NFT', 'NFTs', 'NBATwitter', 'stephcurry', 'Curry', 'GOAT', 'BAYC', 'dubnation', '1', 'NBATopShotThis', 'basketball', 'NFTCommunity', '2974', '30', 'warriors', 'MVP', 'CurryWatch']\n",
      " \n",
      "16.418 % of the tweets in this topic cluster are highly positive,\n",
      "while 0.545 % of the tweets are highly negative\n",
      " \n",
      "11350 tweets are scored as positive, while 1766 tweets are negative\n",
      "42.632 % positive tweets, 50.734 % neutral, and 6.633 % negative\n",
      "The average sentiment score is 0.241\n"
     ]
    }
   ],
   "source": [
    "topic_summary(4)"
   ]
  },
  {
   "cell_type": "markdown",
   "id": "italic-priest",
   "metadata": {},
   "source": [
    "### Didn't work out that well from topic perspective\n",
    "#### Try analyze from the sentiment perspective"
   ]
  },
  {
   "cell_type": "code",
   "execution_count": 16,
   "id": "therapeutic-crazy",
   "metadata": {},
   "outputs": [],
   "source": [
    "def senti_summary(label):\n",
    "    data = df[df['senti_label'] == label]\n",
    "    \n",
    "    c = Counter()\n",
    "    for i in data['tags']:\n",
    "        c.update(Counter(i))\n",
    "    \n",
    "    top = c.most_common(25)\n",
    "    top_tags = []\n",
    "    \n",
    "    for combo in top:\n",
    "        top_tags.append(combo[0])\n",
    "    \n",
    "    tags_df = pd.DataFrame(top,columns = ['Tag','count'])\n",
    "    \n",
    "    c1 = Counter()\n",
    "    for i in data['words']:\n",
    "        c1.update(Counter(i))\n",
    "        \n",
    "    top1 = c1.most_common(25) \n",
    "    top_words = []\n",
    "    for combo in top1:\n",
    "        top_words.append(combo[0])\n",
    "    \n",
    "    overall = df.shape[0]\n",
    "    total = data.shape[0]\n",
    "    topic_group = data.groupby('Topic').count()['senti_label']\n",
    "    \n",
    "    print('Tweets labeled as',label,'account for',np.round(100*total/overall,3),'% of the total tweets about Stephen Curry')\n",
    "    print(' ')\n",
    "    print('For the tweets in this sentiment label: ')\n",
    "    print(f'Top 25 words : ',top_words)\n",
    "    print(' ')\n",
    "    print(f'Top 25 tags : ',top_tags)\n",
    "    print(' ')\n",
    "    print('the topic label distribution looks like: ', topic_group)\n"
   ]
  },
  {
   "cell_type": "code",
   "execution_count": 17,
   "id": "conservative-cherry",
   "metadata": {},
   "outputs": [
    {
     "name": "stdout",
     "output_type": "stream",
     "text": [
      "Tweets labeled as POSITIVE account for 7.185 % of the total tweets about Stephen Curry\n",
      " \n",
      "For the tweets in this sentiment label: \n",
      "Top 25 words :  ['shooter', 'best', 'greatest', 'time', 'ever', 'lol', 'Greatest', 'win', 'Congrats', 'player', 'great', 'Best', 'Steph', 'Congratulations', 'NBA', 'Curry', 'history', 'one', 'record', 'Great', 'GREATEST', 'point', 'awesome', 'Lol', 'SHOOTER']\n",
      " \n",
      "Top 25 tags :  ['DubNation', 'NBA75', 'NBA', 'StephCurry', 'StephenCurry', 'Warriors', 'nba', 'NBAAllStar', 'stephcurry', 'GOAT', 'Dubnation', 'NFT', 'MVP', 'goldenstatewarriors', 'Curry', '2974', 'BAYC', 'dubnation', 'basketball', 'NBATwitter', 'NFTs', 'warriors', '30', 'CurryWatch', 'KlayDay']\n",
      " \n",
      "the topic label distribution looks like:  Topic\n",
      "0    1562\n",
      "1    1865\n",
      "2    1107\n",
      "3    1446\n",
      "4    4371\n",
      "Name: senti_label, dtype: int64\n"
     ]
    }
   ],
   "source": [
    "senti_summary('POSITIVE')"
   ]
  },
  {
   "cell_type": "code",
   "execution_count": 18,
   "id": "communist-carol",
   "metadata": {},
   "outputs": [
    {
     "name": "stdout",
     "output_type": "stream",
     "text": [
      "Tweets labeled as NEGATIVE account for 0.827 % of the total tweets about Stephen Curry\n",
      " \n",
      "For the tweets in this sentiment label: \n",
      "Top 25 words :  ['hate', 'insane', 'worst', 'stupid', 'man', 'bad', 'game', 'like', 'Steph', 'terrible', 'bro', 'curry', 'Curry', 'na', 'record', 'go', 'horrible', 'one', 'sick', 'gon', 'tonight', 'u', 'get', 'ever', 'got']\n",
      " \n",
      "Top 25 tags :  ['DubNation', 'NBA', 'Warriors', 'dubnation', 'NBA75', 'NBAAllStar', 'GSW', 'WEAREKONG', 'stephcurry', '49ers', '30', 'RKL', '1', 'StephenCurry', 'Faith', 'Christmas2021', 'Christian', 'Christians', 'Christianity', 'fake', 'real', 'worldly', 'Aintitmane', 'WNBATwitter', 'KyrieIrving']\n",
      " \n",
      "the topic label distribution looks like:  Topic\n",
      "0    226\n",
      "1    381\n",
      "2    222\n",
      "3    217\n",
      "4    145\n",
      "Name: senti_label, dtype: int64\n"
     ]
    }
   ],
   "source": [
    "senti_summary('NEGATIVE')"
   ]
  },
  {
   "cell_type": "markdown",
   "id": "interested-retrieval",
   "metadata": {},
   "source": [
    "### PyLDAvis"
   ]
  },
  {
   "cell_type": "code",
   "execution_count": 19,
   "id": "fallen-workshop",
   "metadata": {},
   "outputs": [],
   "source": [
    "import pyLDAvis\n",
    "import pyLDAvis.sklearn\n",
    "pyLDAvis.enable_notebook()"
   ]
  },
  {
   "cell_type": "code",
   "execution_count": 20,
   "id": "stainless-favor",
   "metadata": {},
   "outputs": [
    {
     "name": "stderr",
     "output_type": "stream",
     "text": [
      "/opt/conda/lib/python3.7/site-packages/ipykernel/ipkernel.py:283: DeprecationWarning: `should_run_async` will not call `transform_cell` automatically in the future. Please pass the result to `transformed_cell` argument and any exception that happen during thetransform in `preprocessing_exc_tuple` in IPython 7.17 and above.\n",
      "  and should_run_async(code)\n"
     ]
    },
    {
     "data": {
      "text/html": [
       "\n",
       "<link rel=\"stylesheet\" type=\"text/css\" href=\"https://cdn.rawgit.com/bmabey/pyLDAvis/files/ldavis.v1.0.0.css\">\n",
       "\n",
       "\n",
       "<div id=\"ldavis_el1321399865028104488090761602\"></div>\n",
       "<script type=\"text/javascript\">\n",
       "\n",
       "var ldavis_el1321399865028104488090761602_data = {\"mdsDat\": {\"x\": [0.09031270967983628, -0.2336332474553519, 0.3681574692186081, -0.17188191870844666, -0.052955012734645715], \"y\": [-0.26510002130462823, -0.006410271914655996, 0.047773772728867396, -0.14045558074369452, 0.3641921012341112], \"topics\": [1, 2, 3, 4, 5], \"cluster\": [1, 1, 1, 1, 1], \"Freq\": [21.802405319560727, 20.471245476694964, 20.36031516103036, 20.07096749891947, 17.295066543794494]}, \"tinfo\": {\"Term\": [\"congrats\", \"time\", \"curry\", \"congratulations\", \"love\", \"man\", \"shooter\", \"best\", \"let\", \"record\", \"greatest\", \"bro\", \"goat\", \"better\", \"good\", \"need\", \"know\", \"lol\", \"mvp\", \"history\", \"player\", \"game\", \"did\", \"right\", \"really\", \"join\", \"got\", \"great\", \"like\", \"don\", \"goat\", \"better\", \"lol\", \"history\", \"great\", \"basketball\", \"king\", \"shit\", \"ball\", \"watch\", \"nft\", \"shot\", \"night\", \"say\", \"ll\", \"ve\", \"people\", \"real\", \"legend\", \"today\", \"watching\", \"hope\", \"lets\", \"boy\", \"check\", \"court\", \"fucking\", \"making\", \"project\", \"tomorrow\", \"play\", \"day\", \"games\", \"just\", \"game\", \"don\", \"congrats\", \"congratulations\", \"man\", \"let\", \"good\", \"mvp\", \"right\", \"thank\", \"come\", \"gonna\", \"look\", \"lebron\", \"amazing\", \"thanks\", \"points\", \"god\", \"wait\", \"shoot\", \"does\", \"guys\", \"30\", \"crazy\", \"won\", \"finals\", \"greatness\", \"quarter\", \"true\", \"career\", \"played\", \"tho\", \"win\", \"tonight\", \"going\", \"10\", \"curry\", \"steph\", \"game\", \"like\", \"time\", \"shooter\", \"best\", \"greatest\", \"record\", \"know\", \"player\", \"did\", \"way\", \"want\", \"splash\", \"league\", \"yeah\", \"sure\", \"gotta\", \"awesome\", \"3pt\", \"breaking\", \"favorite\", \"threes\", \"cool\", \"wake\", \"world\", \"ain\", \"oh\", \"vote\", \"coming\", \"needs\", \"help\", \"maybe\", \"nba\", \"point\", \"make\", \"steph\", \"love\", \"bro\", \"need\", \"stop\", \"fan\", \"new\", \"big\", \"ratio\", \"happy\", \"drop\", \"yes\", \"respect\", \"welcome\", \"hey\", \"doesn\", \"moment\", \"3s\", \"fuck\", \"tweet\", \"50\", \"changed\", \"saying\", \"fans\", \"brother\", \"tell\", \"im\", \"wrong\", \"life\", \"star\", \"different\", \"got\", \"klay\", \"game\", \"don\", \"like\", \"think\", \"warriors\", \"just\", \"amp\", \"playing\", \"steph\", \"tonight\", \"join\", \"really\", \"guy\", \"stephen\", \"said\", \"nice\", \"break\", \"lmao\", \"mars\", \"elon\", \"damn\", \"bad\", \"dude\", \"ray\", \"doing\", \"wow\", \"shots\", \"allen\", \"ur\", \"hit\", \"chef\", \"pointers\", \"vs\", \"looks\", \"miss\", \"ok\", \"mean\", \"leader\", \"looking\", \"talking\", \"curry\", \"steph\", \"like\"], \"Freq\": [3124.0, 2503.0, 2983.0, 2023.0, 1927.0, 1867.0, 1784.0, 1700.0, 1678.0, 1643.0, 1613.0, 1495.0, 1489.0, 1475.0, 1398.0, 1211.0, 1158.0, 1194.0, 1132.0, 1171.0, 1044.0, 2615.0, 993.0, 954.0, 851.0, 838.0, 1370.0, 961.0, 2206.0, 1443.0, 1488.582736451349, 1475.0555512321912, 1193.2858586774055, 1171.1447320726486, 960.3576014363317, 842.5164961779209, 727.4098271478342, 699.2852225418065, 687.6253834246459, 678.6250924208149, 647.6421222063269, 643.7385545094619, 627.3995225526626, 607.822383019787, 606.0184573115554, 581.4252496018607, 566.2801237491566, 563.6687793388265, 556.2442039542962, 552.461677894615, 500.1334706942653, 474.62676167001655, 466.56888465097546, 456.53036012789806, 431.8279948788792, 426.37234090432537, 423.48745730787647, 380.32784553604796, 377.8632399775489, 371.7201859790735, 806.2098447801624, 569.0516454199851, 510.494134925917, 616.5795659479243, 622.1905304036188, 503.0219782746329, 3124.137729172336, 2022.9116185666396, 1866.1854393457234, 1677.929771691716, 1398.0032261560052, 1131.4960900469182, 953.247434985472, 814.6620613532183, 784.7115997509804, 747.400574320438, 744.9569082786031, 746.2518603943312, 653.3738377208889, 633.9404966913961, 632.695152322291, 580.5661385522894, 567.3521529845223, 566.6784136142695, 486.2099434582383, 483.0777290089337, 472.9915987550505, 455.76815099307663, 432.90019233895083, 404.38077011777324, 393.85500636789584, 369.4642192319246, 366.05370360468896, 370.66621509562, 339.48597412171586, 319.51144498810044, 707.9092990591141, 851.1696555602788, 578.964011960691, 439.7559211191332, 687.1498536160268, 622.4150353793805, 532.794642687228, 459.64844648717735, 2502.145371977685, 1783.5764817906763, 1699.8206324327616, 1612.986743161337, 1642.265825218824, 1157.3374466246883, 1043.3324461321204, 992.7452064002115, 736.825930797502, 624.0729385010169, 518.2716128006073, 510.3732576457272, 483.18667744496594, 464.21104175057565, 452.65185538257424, 449.9401750705937, 461.1272968837731, 445.4726120626415, 444.58124868619393, 444.470935742758, 431.13739790904515, 428.10968920241, 420.93315470585435, 417.48417528427814, 397.0233928601911, 390.94782421548024, 387.4156659005053, 333.3724824582824, 315.243214006038, 304.6171439140828, 886.8321322482404, 957.8117793536129, 807.859524636415, 1110.8721179453305, 1926.2611067400014, 1495.0199803403139, 1210.575120173902, 749.0545621025072, 677.1633685741349, 648.3494646302494, 640.0779328065124, 559.598723117437, 563.5658876732945, 515.8077492012367, 474.9776521737961, 444.4503838756951, 440.21048018170654, 441.61099018504234, 443.7807244818928, 440.53855618851173, 425.8292816098521, 419.2776697079274, 404.1321677147746, 404.42582012868286, 402.8245434798336, 392.9073240251088, 386.27001596668504, 372.1158579798358, 357.0177056919996, 316.8869860183375, 312.8216087751241, 295.77982313816415, 283.44253704729056, 278.4698757973046, 1054.9998176639056, 871.5655174381442, 1459.8653050814462, 940.2448544319042, 1273.0536016213482, 613.3422856644542, 619.9408382645668, 951.1480154642139, 569.4803354923368, 502.42461642122674, 465.77137498010336, 427.106294327274, 837.9874597341653, 850.6606371934778, 765.0127835758931, 735.846222943676, 712.9744006925374, 686.6799149973998, 669.0749116022196, 638.4914600003071, 603.9326693986933, 598.0338315622402, 600.2839271949903, 569.5255023687309, 557.505413629948, 519.8856338605377, 515.6688877266856, 498.8011876465817, 477.56211291138663, 467.96716446363206, 458.719678787238, 449.4158434206386, 406.90031243699434, 396.8616725838088, 402.0293061548993, 376.6353477691575, 372.952584764562, 361.1887288811408, 345.1343402243879, 335.57120732431423, 330.62810266397224, 328.5530746857886, 2292.8383218624294, 533.9172044806895, 473.0737487136232], \"Total\": [3124.0, 2503.0, 2983.0, 2023.0, 1927.0, 1867.0, 1784.0, 1700.0, 1678.0, 1643.0, 1613.0, 1495.0, 1489.0, 1475.0, 1398.0, 1211.0, 1158.0, 1194.0, 1132.0, 1171.0, 1044.0, 2615.0, 993.0, 954.0, 851.0, 838.0, 1370.0, 961.0, 2206.0, 1443.0, 1489.4031705319387, 1475.8845012338713, 1194.1146821464358, 1171.9767882440538, 961.1873116343193, 843.3470799573035, 728.2378524034192, 700.111039248218, 688.4560137829321, 679.4524308408413, 648.471002347119, 644.5687523336446, 628.2288736691701, 608.6512246612168, 606.8463766106076, 582.2533016638054, 567.1101021839942, 564.4956971710415, 557.0652525044778, 553.2894869563306, 500.9603963776868, 475.4536935585587, 467.3886892058139, 457.3530822866907, 432.6501221107082, 427.20121627434287, 424.31200726548576, 381.15394443019755, 378.68660215503223, 372.5452840810385, 1037.4074024933034, 714.8265840157686, 675.1569152019143, 2154.933418686618, 2615.283537877921, 1443.8991356738245, 3124.958605633108, 2023.7300712349725, 1867.007596266232, 1678.7481870283405, 1398.8253149420111, 1132.3128555145051, 954.0701663237331, 815.4779321112957, 785.5322058436963, 748.2224448506416, 745.776688793625, 747.0736379433309, 654.1917417225307, 634.7562780053885, 633.5122047951662, 581.3818387394181, 568.1713252864174, 567.5023655037653, 487.03124896675615, 483.9013923948551, 473.81015755587975, 456.58560231816193, 433.7199771430648, 405.19918739652655, 394.6704191569368, 370.28238322484384, 366.8703494466408, 371.52221277255694, 340.30987821424156, 320.32888129570625, 850.325206395428, 1278.9006312321517, 881.5990360572864, 542.7142454410244, 2983.010973282961, 2733.176782292662, 2615.283537877921, 2206.175428887308, 2503.2619278714674, 1784.389438475466, 1700.6364554549107, 1613.7993392604142, 1643.093227344905, 1158.1641678703215, 1044.1515948142173, 993.5664259855738, 737.6481269224071, 624.8955752589367, 519.0865518364722, 511.1911959786682, 484.0030275845641, 465.02973904934447, 453.4713330893773, 450.7551607842924, 461.96528346445484, 446.2886592556052, 445.39860515691805, 445.29104238664326, 431.9528081542791, 428.9245296128349, 421.750488475105, 418.3050845269369, 397.84027321013764, 391.7627932789077, 388.23511892629546, 334.19224832458315, 316.0644241708313, 305.4364283769957, 1109.0535339722496, 1262.7402067586506, 1049.9941051035835, 2733.176782292662, 1927.0808361459515, 1495.8401234221371, 1211.397247989843, 749.8753658653776, 677.986017246578, 649.1746060135716, 640.899439769085, 560.410431825434, 564.3859657958244, 516.6298750671275, 475.79506133108094, 445.2679777174159, 441.02642034870513, 442.4315534725068, 444.60691540996345, 441.3631113270352, 426.65363256794865, 420.0953508278992, 404.948727218814, 405.2455250939846, 403.6458691422898, 393.7284516202213, 387.0932692300051, 372.9359370879354, 357.83951385289697, 317.7068399621191, 313.6406421009996, 296.6028650959203, 284.26715522336275, 279.28962083222746, 1370.0566814643007, 1183.8640671586998, 2615.283537877921, 1443.8991356738245, 2206.175428887308, 859.4621267903598, 931.3125326841981, 2154.933418686618, 838.1800374058352, 666.4142369929873, 2733.176782292662, 1278.9006312321517, 838.7722497830096, 851.458343777714, 765.8052115161547, 736.6361025028513, 713.7685845102218, 687.4668009022172, 669.8714402903943, 639.2807458972495, 604.7142954176063, 598.8154183245165, 601.0735423852461, 570.3193836526004, 558.2986286393582, 520.6762564877964, 516.4622198644466, 499.5900633540551, 478.35802491808624, 468.7568040255486, 459.5114044850981, 450.20945172008214, 407.68733302933896, 397.65528453813675, 402.8359589433999, 377.42521220052896, 373.7444300651194, 361.9773503072124, 345.92830715912453, 336.36769085571615, 331.4212829358039, 329.3471828800178, 2983.010973282961, 2733.176782292662, 2206.175428887308], \"Category\": [\"Default\", \"Default\", \"Default\", \"Default\", \"Default\", \"Default\", \"Default\", \"Default\", \"Default\", \"Default\", \"Default\", \"Default\", \"Default\", \"Default\", \"Default\", \"Default\", \"Default\", \"Default\", \"Default\", \"Default\", \"Default\", \"Default\", \"Default\", \"Default\", \"Default\", \"Default\", \"Default\", \"Default\", \"Default\", \"Default\", \"Topic1\", \"Topic1\", \"Topic1\", \"Topic1\", \"Topic1\", \"Topic1\", \"Topic1\", \"Topic1\", \"Topic1\", \"Topic1\", \"Topic1\", \"Topic1\", \"Topic1\", \"Topic1\", \"Topic1\", \"Topic1\", \"Topic1\", \"Topic1\", \"Topic1\", \"Topic1\", \"Topic1\", \"Topic1\", \"Topic1\", \"Topic1\", \"Topic1\", \"Topic1\", \"Topic1\", \"Topic1\", \"Topic1\", \"Topic1\", \"Topic1\", \"Topic1\", \"Topic1\", \"Topic1\", \"Topic1\", \"Topic1\", \"Topic2\", \"Topic2\", \"Topic2\", \"Topic2\", \"Topic2\", \"Topic2\", \"Topic2\", \"Topic2\", \"Topic2\", \"Topic2\", \"Topic2\", \"Topic2\", \"Topic2\", \"Topic2\", \"Topic2\", \"Topic2\", \"Topic2\", \"Topic2\", \"Topic2\", \"Topic2\", \"Topic2\", \"Topic2\", \"Topic2\", \"Topic2\", \"Topic2\", \"Topic2\", \"Topic2\", \"Topic2\", \"Topic2\", \"Topic2\", \"Topic2\", \"Topic2\", \"Topic2\", \"Topic2\", \"Topic2\", \"Topic2\", \"Topic2\", \"Topic2\", \"Topic3\", \"Topic3\", \"Topic3\", \"Topic3\", \"Topic3\", \"Topic3\", \"Topic3\", \"Topic3\", \"Topic3\", \"Topic3\", \"Topic3\", \"Topic3\", \"Topic3\", \"Topic3\", \"Topic3\", \"Topic3\", \"Topic3\", \"Topic3\", \"Topic3\", \"Topic3\", \"Topic3\", \"Topic3\", \"Topic3\", \"Topic3\", \"Topic3\", \"Topic3\", \"Topic3\", \"Topic3\", \"Topic3\", \"Topic3\", \"Topic3\", \"Topic3\", \"Topic3\", \"Topic3\", \"Topic4\", \"Topic4\", \"Topic4\", \"Topic4\", \"Topic4\", \"Topic4\", \"Topic4\", \"Topic4\", \"Topic4\", \"Topic4\", \"Topic4\", \"Topic4\", \"Topic4\", \"Topic4\", \"Topic4\", \"Topic4\", \"Topic4\", \"Topic4\", \"Topic4\", \"Topic4\", \"Topic4\", \"Topic4\", \"Topic4\", \"Topic4\", \"Topic4\", \"Topic4\", \"Topic4\", \"Topic4\", \"Topic4\", \"Topic4\", \"Topic4\", \"Topic4\", \"Topic4\", \"Topic4\", \"Topic4\", \"Topic4\", \"Topic4\", \"Topic4\", \"Topic4\", \"Topic4\", \"Topic4\", \"Topic4\", \"Topic5\", \"Topic5\", \"Topic5\", \"Topic5\", \"Topic5\", \"Topic5\", \"Topic5\", \"Topic5\", \"Topic5\", \"Topic5\", \"Topic5\", \"Topic5\", \"Topic5\", \"Topic5\", \"Topic5\", \"Topic5\", \"Topic5\", \"Topic5\", \"Topic5\", \"Topic5\", \"Topic5\", \"Topic5\", \"Topic5\", \"Topic5\", \"Topic5\", \"Topic5\", \"Topic5\", \"Topic5\", \"Topic5\", \"Topic5\", \"Topic5\", \"Topic5\", \"Topic5\"], \"logprob\": [30.0, 29.0, 28.0, 27.0, 26.0, 25.0, 24.0, 23.0, 22.0, 21.0, 20.0, 19.0, 18.0, 17.0, 16.0, 15.0, 14.0, 13.0, 12.0, 11.0, 10.0, 9.0, 8.0, 7.0, 6.0, 5.0, 4.0, 3.0, 2.0, 1.0, -3.5933, -3.6024, -3.8144, -3.8332, -4.0316, -4.1625, -4.3094, -4.3488, -4.3657, -4.3788, -4.4256, -4.4316, -4.4573, -4.489, -4.492, -4.5334, -4.5598, -4.5644, -4.5777, -4.5845, -4.684, -4.7364, -4.7535, -4.7752, -4.8309, -4.8436, -4.8504, -4.9579, -4.9644, -4.9808, -4.2066, -4.5549, -4.6635, -4.4747, -4.4657, -4.6783, -2.789, -3.2236, -3.3042, -3.4106, -3.5931, -3.8046, -3.976, -4.1331, -4.1706, -4.2193, -4.2226, -4.2208, -4.3537, -4.3839, -4.3859, -4.4719, -4.4949, -4.4961, -4.6493, -4.6557, -4.6768, -4.7139, -4.7654, -4.8335, -4.8599, -4.9238, -4.9331, -4.9206, -5.0085, -5.0691, -4.2736, -4.0893, -4.4747, -4.7497, -4.3033, -4.4023, -4.5578, -4.7054, -3.0056, -3.3441, -3.3922, -3.4446, -3.4266, -3.7766, -3.8803, -3.93, -4.2281, -4.3942, -4.58, -4.5953, -4.6501, -4.6901, -4.7153, -4.7214, -4.6968, -4.7313, -4.7333, -4.7336, -4.764, -4.7711, -4.788, -4.7962, -4.8465, -4.8619, -4.871, -5.0212, -5.0771, -5.1114, -4.0428, -3.9658, -4.1361, -3.8176, -3.2528, -3.5063, -3.7173, -4.1973, -4.2982, -4.3417, -4.3546, -4.4889, -4.4819, -4.5704, -4.6529, -4.7193, -4.7289, -4.7257, -4.7208, -4.7282, -4.7621, -4.7776, -4.8144, -4.8137, -4.8177, -4.8426, -4.8596, -4.8969, -4.9384, -5.0576, -5.0705, -5.1265, -5.1691, -5.1868, -3.8549, -4.0459, -3.5301, -3.97, -3.667, -4.3972, -4.3865, -3.9585, -4.4714, -4.5967, -4.6725, -4.7591, -3.9363, -3.9213, -4.0274, -4.0663, -4.0979, -4.1354, -4.1614, -4.2082, -4.2638, -4.2737, -4.2699, -4.3225, -4.3438, -4.4137, -4.4218, -4.4551, -4.4986, -4.5189, -4.5389, -4.5594, -4.6587, -4.6837, -4.6708, -4.736, -4.7458, -4.7779, -4.8234, -4.8515, -4.8663, -4.8726, -2.9298, -4.3871, -4.508], \"loglift\": [30.0, 29.0, 28.0, 27.0, 26.0, 25.0, 24.0, 23.0, 22.0, 21.0, 20.0, 19.0, 18.0, 17.0, 16.0, 15.0, 14.0, 13.0, 12.0, 11.0, 10.0, 9.0, 8.0, 7.0, 6.0, 5.0, 4.0, 3.0, 2.0, 1.0, 1.5226, 1.5226, 1.5225, 1.5224, 1.5223, 1.5222, 1.522, 1.522, 1.5219, 1.5219, 1.5219, 1.5219, 1.5218, 1.5218, 1.5218, 1.5217, 1.5217, 1.5217, 1.5217, 1.5217, 1.5215, 1.5214, 1.5214, 1.5213, 1.5212, 1.5212, 1.5212, 1.521, 1.521, 1.5209, 1.271, 1.2951, 1.2436, 0.2718, 0.0873, 0.4687, 1.5859, 1.5857, 1.5857, 1.5857, 1.5856, 1.5854, 1.5853, 1.5851, 1.5851, 1.585, 1.585, 1.585, 1.5849, 1.5849, 1.5849, 1.5847, 1.5847, 1.5847, 1.5845, 1.5844, 1.5844, 1.5844, 1.5843, 1.5841, 1.5841, 1.5839, 1.5839, 1.5838, 1.5837, 1.5836, 1.4028, 1.179, 1.1657, 1.3758, 0.118, 0.1065, -0.0048, 0.0176, 1.5911, 1.5911, 1.5911, 1.5911, 1.5911, 1.5909, 1.5908, 1.5908, 1.5905, 1.5903, 1.59, 1.59, 1.5899, 1.5898, 1.5898, 1.5898, 1.5898, 1.5898, 1.5897, 1.5897, 1.5897, 1.5897, 1.5896, 1.5896, 1.5895, 1.5895, 1.5895, 1.5891, 1.589, 1.5889, 1.368, 1.3152, 1.3294, 0.6913, 1.6055, 1.6053, 1.6052, 1.6048, 1.6047, 1.6046, 1.6046, 1.6044, 1.6044, 1.6043, 1.6042, 1.6041, 1.604, 1.604, 1.604, 1.604, 1.604, 1.6039, 1.6039, 1.6039, 1.6039, 1.6038, 1.6038, 1.6037, 1.6036, 1.6033, 1.6033, 1.6031, 1.603, 1.603, 1.3446, 1.2996, 1.0229, 1.1769, 1.0561, 1.2685, 1.1989, 0.7881, 1.2194, 1.3234, -0.1636, 0.5092, 1.7538, 1.7538, 1.7537, 1.7537, 1.7536, 1.7536, 1.7536, 1.7535, 1.7535, 1.7534, 1.7534, 1.7534, 1.7533, 1.7532, 1.7532, 1.7532, 1.7531, 1.7531, 1.753, 1.753, 1.7528, 1.7528, 1.7527, 1.7527, 1.7526, 1.7526, 1.7525, 1.7524, 1.7524, 1.7523, 1.4916, 0.1218, 0.215]}, \"token.table\": {\"Topic\": [2, 4, 2, 3, 4, 4, 3, 5, 2, 3, 4, 3, 5, 1, 1, 3, 1, 4, 1, 5, 3, 4, 4, 2, 4, 1, 5, 2, 3, 2, 2, 3, 1, 2, 2, 3, 5, 5, 1, 3, 3, 4, 2, 4, 5, 1, 4, 4, 5, 5, 4, 4, 3, 2, 4, 1, 1, 2, 4, 1, 5, 1, 2, 1, 2, 2, 2, 2, 4, 3, 1, 3, 2, 5, 2, 4, 3, 4, 1, 5, 1, 4, 5, 1, 2, 4, 5, 1, 1, 4, 3, 5, 3, 2, 1, 2, 1, 4, 2, 4, 5, 1, 5, 1, 2, 5, 5, 4, 3, 5, 1, 2, 5, 3, 5, 5, 4, 2, 1, 3, 4, 3, 4, 1, 5, 1, 3, 5, 1, 1, 4, 2, 3, 2, 4, 1, 3, 5, 2, 1, 2, 4, 5, 1, 5, 3, 4, 2, 5, 1, 4, 1, 2, 3, 1, 5, 3, 4, 2, 3, 4, 5, 5, 4, 3, 5, 4, 2, 2, 3, 4, 2, 3, 3, 1, 1, 2, 4, 2, 4, 5, 1, 3, 5, 2, 3, 3, 2, 4, 1, 1, 3, 4, 2, 4, 2, 3, 5, 4, 3, 4], \"Freq\": [0.8107397284964281, 0.18794420978780832, 0.9982901220183651, 0.9979104848372679, 0.9984680018683667, 0.9969264926646735, 0.9968800653513145, 0.998385508180256, 0.9981782990421237, 0.3197403756231886, 0.67885176764774, 0.9983246763431871, 0.9994399915875997, 0.9993376282960673, 0.999588449446791, 0.9996257545503807, 0.9994006975253606, 0.9985965976668523, 0.9992279875213143, 0.9986990932319544, 0.9971124983149816, 0.9994383601502712, 0.9974903542542893, 0.9985943969038625, 0.9983999114281481, 0.9984973490645593, 0.9983140682242156, 0.9993224901032229, 0.996818631633039, 0.9996932421340301, 0.9996392447563291, 0.9977941846046784, 0.9971881721573296, 0.9987174314845043, 0.2303042148195386, 0.0010056952612206927, 0.7686864113263494, 0.998213958343623, 0.795997256849989, 0.2028464011304893, 0.9994299062742464, 0.9953824963907193, 0.9978825815202947, 0.9986349393387104, 0.9991050267634911, 0.34836228346744247, 0.6510150029013835, 0.9987808001481803, 0.9994651094879349, 0.9986382810135417, 0.9985456672829591, 0.9971756955831864, 0.9991050597098803, 0.9970404990093106, 0.9973926137822269, 0.9969079185999447, 0.23783272099999522, 0.20380199404018884, 0.5582568692282845, 0.7553799546694682, 0.24290649522704466, 0.9997293073226139, 0.9993432221064111, 0.34255935822095884, 0.6567611536752821, 0.998366201309444, 0.9994099942764867, 0.22918759803747712, 0.7700411335335617, 0.9989606110574483, 0.9987647447901695, 0.9995046848508561, 0.9983013189628731, 0.9989485426528235, 0.998137239509905, 0.9993161314787831, 0.996632255675014, 0.9990245870369786, 0.9991665464249362, 0.997313579900508, 0.9990457670963433, 0.9977751817927389, 0.9990793093319321, 0.28631975106499913, 0.14014354103991852, 0.44131293883762424, 0.13225466621316814, 0.9983002086484053, 0.2635437704843994, 0.7365710508410138, 0.9989948161904696, 0.9989068781999224, 0.9976697642916411, 0.9985628753461484, 0.9980877419661546, 0.9995543184891447, 0.9991683812321724, 0.9979674333364064, 0.20850563104675793, 0.5770166702663541, 0.2143981814893837, 0.9986052868679305, 0.9979965830263635, 0.9990665200226563, 0.9989585504544513, 0.9987288597398692, 0.9988733868676928, 0.9994391329488217, 0.7695281297986807, 0.2304774844199019, 0.9969724977346813, 0.9994603148545046, 0.9988187886031155, 0.9985711318741031, 0.9973164752929643, 0.9980081841888863, 0.9991772957056981, 0.9988405540852854, 0.2001706799534483, 0.7997810500842732, 0.999672074548211, 0.9964324476987115, 0.9981906162029587, 0.9992736724611984, 0.9993209840800973, 0.9980439076892584, 0.9978879131482654, 0.9972999683367401, 0.9980425279329022, 0.7769368119630348, 0.2226704758851874, 0.9961509250888776, 0.9988970999805615, 0.24459261365047225, 0.7532852273161784, 0.2407462741527355, 0.7586675349944757, 0.9983521291842058, 0.9991914839346594, 0.9981868855377378, 0.9965367425431494, 0.9992676227954982, 0.998701195840275, 0.9991218760859903, 0.9994616955943135, 0.9993346528810958, 0.9971523267316101, 0.9988783148645589, 0.9989232021037334, 0.99893005282035, 0.9981498628884358, 0.998413052807436, 0.9991147781325646, 0.9997817525327886, 0.999117623478356, 0.9992515544854765, 0.9979068002578221, 0.9955423790611087, 0.22757400985905116, 0.40648669606656884, 0.17049757008732772, 0.1953770438339764, 0.9991364766121427, 0.9988326515242071, 0.9977856490394581, 0.9989458453022679, 0.9976539375323372, 0.9994139239181393, 0.9988085537211779, 0.28506200839232615, 0.713236780181616, 0.9989733011448235, 0.9971006773912998, 0.9994958866040278, 0.9976694172097429, 0.9985363280536926, 0.665415263092104, 0.3338805139134294, 0.9976276375347489, 0.9976571670558645, 0.9988870690039322, 0.997847497540634, 0.998052920563172, 0.9979248154866995, 0.9979384294238591, 0.997844540125347, 0.9985668401339447, 0.33393730792352394, 0.6657271090436812, 0.9993341243326167, 0.9980828896163626, 0.9991213603088628, 0.9976726556474925, 0.8326226185875968, 0.1669949319766084, 0.99833999543252, 0.9982205391680316, 0.9988189049435979, 0.9979574008753836, 0.9979276419208166, 0.9983289836408628], \"Term\": [\"10\", \"10\", \"30\", \"3pt\", \"3s\", \"50\", \"ain\", \"allen\", \"amazing\", \"amp\", \"amp\", \"awesome\", \"bad\", \"ball\", \"basketball\", \"best\", \"better\", \"big\", \"boy\", \"break\", \"breaking\", \"bro\", \"brother\", \"career\", \"changed\", \"check\", \"chef\", \"come\", \"coming\", \"congrats\", \"congratulations\", \"cool\", \"court\", \"crazy\", \"curry\", \"curry\", \"curry\", \"damn\", \"day\", \"day\", \"did\", \"different\", \"does\", \"doesn\", \"doing\", \"don\", \"don\", \"drop\", \"dude\", \"elon\", \"fan\", \"fans\", \"favorite\", \"finals\", \"fuck\", \"fucking\", \"game\", \"game\", \"game\", \"games\", \"games\", \"goat\", \"god\", \"going\", \"going\", \"gonna\", \"good\", \"got\", \"got\", \"gotta\", \"great\", \"greatest\", \"greatness\", \"guy\", \"guys\", \"happy\", \"help\", \"hey\", \"history\", \"hit\", \"hope\", \"im\", \"join\", \"just\", \"just\", \"just\", \"just\", \"king\", \"klay\", \"klay\", \"know\", \"leader\", \"league\", \"lebron\", \"legend\", \"let\", \"lets\", \"life\", \"like\", \"like\", \"like\", \"ll\", \"lmao\", \"lol\", \"look\", \"looking\", \"looks\", \"love\", \"make\", \"make\", \"making\", \"man\", \"mars\", \"maybe\", \"mean\", \"miss\", \"moment\", \"mvp\", \"nba\", \"nba\", \"need\", \"needs\", \"new\", \"nft\", \"nice\", \"night\", \"oh\", \"ok\", \"people\", \"play\", \"play\", \"played\", \"player\", \"playing\", \"playing\", \"point\", \"point\", \"pointers\", \"points\", \"project\", \"quarter\", \"ratio\", \"ray\", \"real\", \"really\", \"record\", \"respect\", \"right\", \"said\", \"say\", \"saying\", \"shit\", \"shoot\", \"shooter\", \"shot\", \"shots\", \"splash\", \"star\", \"steph\", \"steph\", \"steph\", \"steph\", \"stephen\", \"stop\", \"sure\", \"talking\", \"tell\", \"thank\", \"thanks\", \"think\", \"think\", \"tho\", \"threes\", \"time\", \"today\", \"tomorrow\", \"tonight\", \"tonight\", \"true\", \"tweet\", \"ur\", \"ve\", \"vote\", \"vs\", \"wait\", \"wake\", \"want\", \"warriors\", \"warriors\", \"watch\", \"watching\", \"way\", \"welcome\", \"win\", \"win\", \"won\", \"world\", \"wow\", \"wrong\", \"yeah\", \"yes\"]}, \"R\": 30, \"lambda.step\": 0.01, \"plot.opts\": {\"xlab\": \"PC1\", \"ylab\": \"PC2\"}, \"topic.order\": [2, 1, 5, 4, 3]};\n",
       "\n",
       "function LDAvis_load_lib(url, callback){\n",
       "  var s = document.createElement('script');\n",
       "  s.src = url;\n",
       "  s.async = true;\n",
       "  s.onreadystatechange = s.onload = callback;\n",
       "  s.onerror = function(){console.warn(\"failed to load library \" + url);};\n",
       "  document.getElementsByTagName(\"head\")[0].appendChild(s);\n",
       "}\n",
       "\n",
       "if(typeof(LDAvis) !== \"undefined\"){\n",
       "   // already loaded: just create the visualization\n",
       "   !function(LDAvis){\n",
       "       new LDAvis(\"#\" + \"ldavis_el1321399865028104488090761602\", ldavis_el1321399865028104488090761602_data);\n",
       "   }(LDAvis);\n",
       "}else if(typeof define === \"function\" && define.amd){\n",
       "   // require.js is available: use it to load d3/LDAvis\n",
       "   require.config({paths: {d3: \"https://cdnjs.cloudflare.com/ajax/libs/d3/3.5.5/d3.min\"}});\n",
       "   require([\"d3\"], function(d3){\n",
       "      window.d3 = d3;\n",
       "      LDAvis_load_lib(\"https://cdn.rawgit.com/bmabey/pyLDAvis/files/ldavis.v1.0.0.js\", function(){\n",
       "        new LDAvis(\"#\" + \"ldavis_el1321399865028104488090761602\", ldavis_el1321399865028104488090761602_data);\n",
       "      });\n",
       "    });\n",
       "}else{\n",
       "    // require.js not available: dynamically load d3 & LDAvis\n",
       "    LDAvis_load_lib(\"https://cdnjs.cloudflare.com/ajax/libs/d3/3.5.5/d3.min.js\", function(){\n",
       "         LDAvis_load_lib(\"https://cdn.rawgit.com/bmabey/pyLDAvis/files/ldavis.v1.0.0.js\", function(){\n",
       "                 new LDAvis(\"#\" + \"ldavis_el1321399865028104488090761602\", ldavis_el1321399865028104488090761602_data);\n",
       "            })\n",
       "         });\n",
       "}\n",
       "</script>"
      ],
      "text/plain": [
       "PreparedData(topic_coordinates=              x         y  topics  cluster       Freq\n",
       "topic                                                \n",
       "1      0.090313 -0.265100       1        1  21.802405\n",
       "0     -0.233633 -0.006410       2        1  20.471245\n",
       "4      0.368157  0.047774       3        1  20.360315\n",
       "3     -0.171882 -0.140456       4        1  20.070967\n",
       "2     -0.052955  0.364192       5        1  17.295067, topic_info=                Term         Freq        Total Category  logprob  loglift\n",
       "222         congrats  3124.000000  3124.000000  Default  30.0000  30.0000\n",
       "890             time  2503.000000  2503.000000  Default  29.0000  29.0000\n",
       "243            curry  2983.000000  2983.000000  Default  28.0000  28.0000\n",
       "223  congratulations  2023.000000  2023.000000  Default  27.0000  27.0000\n",
       "561             love  1927.000000  1927.000000  Default  26.0000  26.0000\n",
       "..               ...          ...          ...      ...      ...      ...\n",
       "554          looking   330.628103   331.421283   Topic5  -4.8663   1.7524\n",
       "865          talking   328.553075   329.347183   Topic5  -4.8726   1.7523\n",
       "243            curry  2292.838322  2983.010973   Topic5  -2.9298   1.4916\n",
       "840            steph   533.917204  2733.176782   Topic5  -4.3871   0.1218\n",
       "535             like   473.073749  2206.175429   Topic5  -4.5080   0.2150\n",
       "\n",
       "[213 rows x 6 columns], token_table=      Topic      Freq   Term\n",
       "term                        \n",
       "1         2  0.810740     10\n",
       "1         4  0.187944     10\n",
       "30        2  0.998290     30\n",
       "38        3  0.997910    3pt\n",
       "40        4  0.998468     3s\n",
       "...     ...       ...    ...\n",
       "978       3  0.998221  world\n",
       "983       5  0.998819    wow\n",
       "984       4  0.997957  wrong\n",
       "989       3  0.997928   yeah\n",
       "992       4  0.998329    yes\n",
       "\n",
       "[201 rows x 3 columns], R=30, lambda_step=0.01, plot_opts={'xlab': 'PC1', 'ylab': 'PC2'}, topic_order=[2, 1, 5, 4, 3])"
      ]
     },
     "execution_count": 20,
     "metadata": {},
     "output_type": "execute_result"
    }
   ],
   "source": [
    "vis = pyLDAvis.sklearn.prepare(lda_model, data_matrix, vectorizer)\n",
    "vis"
   ]
  },
  {
   "cell_type": "code",
   "execution_count": null,
   "id": "correct-republican",
   "metadata": {},
   "outputs": [],
   "source": []
  }
 ],
 "metadata": {
  "kernelspec": {
   "display_name": "Python 3",
   "language": "python",
   "name": "python3"
  },
  "language_info": {
   "codemirror_mode": {
    "name": "ipython",
    "version": 3
   },
   "file_extension": ".py",
   "mimetype": "text/x-python",
   "name": "python",
   "nbconvert_exporter": "python",
   "pygments_lexer": "ipython3",
   "version": "3.7.10"
  }
 },
 "nbformat": 4,
 "nbformat_minor": 5
}
