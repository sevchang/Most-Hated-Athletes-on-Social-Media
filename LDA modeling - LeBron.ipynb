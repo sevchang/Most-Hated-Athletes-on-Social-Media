{
 "cells": [
  {
   "cell_type": "code",
   "execution_count": 1,
   "id": "standing-relay",
   "metadata": {},
   "outputs": [
    {
     "name": "stderr",
     "output_type": "stream",
     "text": [
      "Slow version of gensim.models.doc2vec is being used\n",
      "Slow version of Fasttext is being used\n",
      "[nltk_data] Downloading package punkt to /opt/conda/nltk_data...\n",
      "[nltk_data]   Unzipping tokenizers/punkt.zip.\n"
     ]
    }
   ],
   "source": [
    "import pandas as pd\n",
    "import numpy as np\n",
    "import gensim\n",
    "import re\n",
    "from emoji import UNICODE_EMOJI\n",
    "from textblob import TextBlob\n",
    "from collections import Counter\n",
    "import altair as alt\n",
    "\n",
    "import nltk\n",
    "from nltk.tokenize import word_tokenize\n",
    "from nltk.corpus import stopwords\n",
    "nltk.download('punkt')\n",
    "\n",
    "from sklearn.decomposition import LatentDirichletAllocation\n",
    "from sklearn.feature_extraction.text import CountVectorizer, TfidfVectorizer\n",
    "\n",
    "stops = nltk.corpus.stopwords.words('english')"
   ]
  },
  {
   "cell_type": "code",
   "execution_count": 2,
   "id": "front-radical",
   "metadata": {},
   "outputs": [
    {
     "data": {
      "text/html": [
       "<div>\n",
       "<style scoped>\n",
       "    .dataframe tbody tr th:only-of-type {\n",
       "        vertical-align: middle;\n",
       "    }\n",
       "\n",
       "    .dataframe tbody tr th {\n",
       "        vertical-align: top;\n",
       "    }\n",
       "\n",
       "    .dataframe thead th {\n",
       "        text-align: right;\n",
       "    }\n",
       "</style>\n",
       "<table border=\"1\" class=\"dataframe\">\n",
       "  <thead>\n",
       "    <tr style=\"text-align: right;\">\n",
       "      <th></th>\n",
       "      <th>Created_Date</th>\n",
       "      <th>Tweet Id</th>\n",
       "      <th>Text</th>\n",
       "      <th>Rendered Tweet</th>\n",
       "      <th>User_Name</th>\n",
       "      <th>Followers</th>\n",
       "      <th>Friends</th>\n",
       "      <th>Favourites</th>\n",
       "      <th>Media</th>\n",
       "      <th>Location</th>\n",
       "      <th>Replys</th>\n",
       "      <th>Retweets</th>\n",
       "      <th>Quotes</th>\n",
       "      <th>Likes</th>\n",
       "      <th>Language</th>\n",
       "      <th>Place</th>\n",
       "      <th>Hashtags</th>\n",
       "      <th>Source</th>\n",
       "      <th>Mentions</th>\n",
       "    </tr>\n",
       "  </thead>\n",
       "  <tbody>\n",
       "    <tr>\n",
       "      <th>0</th>\n",
       "      <td>2021-10-19 23:59:55+00:00</td>\n",
       "      <td>1450612709205159939</td>\n",
       "      <td>@Lakers @KingJames Coming into the arena looki...</td>\n",
       "      <td>@Lakers @KingJames Coming into the arena looki...</td>\n",
       "      <td>SteveNe13350562</td>\n",
       "      <td>1</td>\n",
       "      <td>35</td>\n",
       "      <td>109</td>\n",
       "      <td>0</td>\n",
       "      <td>NaN</td>\n",
       "      <td>0.0</td>\n",
       "      <td>0</td>\n",
       "      <td>0.0</td>\n",
       "      <td>0</td>\n",
       "      <td>en</td>\n",
       "      <td>NaN</td>\n",
       "      <td>NaN</td>\n",
       "      <td>&lt;a href=\"http://twitter.com/download/android\" ...</td>\n",
       "      <td>[User(username='Lakers', id=20346956, displayn...</td>\n",
       "    </tr>\n",
       "    <tr>\n",
       "      <th>1</th>\n",
       "      <td>2021-10-19 23:59:44+00:00</td>\n",
       "      <td>1450612663503917056</td>\n",
       "      <td>@Awesemo_Com @AwesemoNBA @NBA @NBAonTNT @Steph...</td>\n",
       "      <td>@Awesemo_Com @AwesemoNBA @NBA @NBAonTNT @Steph...</td>\n",
       "      <td>markFin73763459</td>\n",
       "      <td>27</td>\n",
       "      <td>156</td>\n",
       "      <td>516</td>\n",
       "      <td>18</td>\n",
       "      <td>NaN</td>\n",
       "      <td>0.0</td>\n",
       "      <td>0</td>\n",
       "      <td>0.0</td>\n",
       "      <td>0</td>\n",
       "      <td>en</td>\n",
       "      <td>NaN</td>\n",
       "      <td>NaN</td>\n",
       "      <td>&lt;a href=\"http://twitter.com/download/iphone\" r...</td>\n",
       "      <td>[User(username='Awesemo_Com', id=9561989702037...</td>\n",
       "    </tr>\n",
       "    <tr>\n",
       "      <th>2</th>\n",
       "      <td>2021-10-19 23:59:42+00:00</td>\n",
       "      <td>1450612655090278402</td>\n",
       "      <td>@RealSkipBayless where you at #COAWRD? @KDTrey...</td>\n",
       "      <td>@RealSkipBayless where you at #COAWRD? @KDTrey...</td>\n",
       "      <td>ByrdyStrokes</td>\n",
       "      <td>2</td>\n",
       "      <td>17</td>\n",
       "      <td>269</td>\n",
       "      <td>32</td>\n",
       "      <td>NaN</td>\n",
       "      <td>0.0</td>\n",
       "      <td>0</td>\n",
       "      <td>0.0</td>\n",
       "      <td>0</td>\n",
       "      <td>en</td>\n",
       "      <td>NaN</td>\n",
       "      <td>['COAWRD', 'WEAK']</td>\n",
       "      <td>&lt;a href=\"http://twitter.com/download/iphone\" r...</td>\n",
       "      <td>[User(username='RealSkipBayless', id=43139414,...</td>\n",
       "    </tr>\n",
       "  </tbody>\n",
       "</table>\n",
       "</div>"
      ],
      "text/plain": [
       "                Created_Date             Tweet Id  \\\n",
       "0  2021-10-19 23:59:55+00:00  1450612709205159939   \n",
       "1  2021-10-19 23:59:44+00:00  1450612663503917056   \n",
       "2  2021-10-19 23:59:42+00:00  1450612655090278402   \n",
       "\n",
       "                                                Text  \\\n",
       "0  @Lakers @KingJames Coming into the arena looki...   \n",
       "1  @Awesemo_Com @AwesemoNBA @NBA @NBAonTNT @Steph...   \n",
       "2  @RealSkipBayless where you at #COAWRD? @KDTrey...   \n",
       "\n",
       "                                      Rendered Tweet        User_Name  \\\n",
       "0  @Lakers @KingJames Coming into the arena looki...  SteveNe13350562   \n",
       "1  @Awesemo_Com @AwesemoNBA @NBA @NBAonTNT @Steph...  markFin73763459   \n",
       "2  @RealSkipBayless where you at #COAWRD? @KDTrey...     ByrdyStrokes   \n",
       "\n",
       "  Followers Friends Favourites Media Location  Replys Retweets  Quotes Likes  \\\n",
       "0         1      35        109     0      NaN     0.0        0     0.0     0   \n",
       "1        27     156        516    18      NaN     0.0        0     0.0     0   \n",
       "2         2      17        269    32      NaN     0.0        0     0.0     0   \n",
       "\n",
       "  Language Place            Hashtags  \\\n",
       "0       en   NaN                 NaN   \n",
       "1       en   NaN                 NaN   \n",
       "2       en   NaN  ['COAWRD', 'WEAK']   \n",
       "\n",
       "                                              Source  \\\n",
       "0  <a href=\"http://twitter.com/download/android\" ...   \n",
       "1  <a href=\"http://twitter.com/download/iphone\" r...   \n",
       "2  <a href=\"http://twitter.com/download/iphone\" r...   \n",
       "\n",
       "                                            Mentions  \n",
       "0  [User(username='Lakers', id=20346956, displayn...  \n",
       "1  [User(username='Awesemo_Com', id=9561989702037...  \n",
       "2  [User(username='RealSkipBayless', id=43139414,...  "
      ]
     },
     "execution_count": 2,
     "metadata": {},
     "output_type": "execute_result"
    }
   ],
   "source": [
    "df1 = pd.read_csv('Lebron 2021_Oct.csv')\n",
    "df2 = pd.read_csv('Lebron 2021_Nov.csv')\n",
    "df3 = pd.read_csv('Lebron 2021_Dec.csv')\n",
    "df4 = pd.read_csv('Lebron 2022_Jan.csv')\n",
    "\n",
    "df = pd.concat([df1,df2,df3,df4])\n",
    "df.dropna(subset=['Text'],inplace=True)\n",
    "df.head(3)"
   ]
  },
  {
   "cell_type": "code",
   "execution_count": 3,
   "id": "alive-raleigh",
   "metadata": {},
   "outputs": [],
   "source": [
    "def extract_tags(text):\n",
    "    return re.findall(\"#([a-zA-Z0-9_]{1,50})\", text)\n",
    "\n",
    "    # will return a list of tags\n",
    "\n",
    "def clean_tweet(txt): \n",
    "    temp = re.sub(\"@[A-Za-z0-9_]+\",\"\", txt)\n",
    "    temp1 = re.sub(\"#[A-Za-z0-9_]+\",\"\", temp)\n",
    "    temp2 = re.sub(r\"http\\S+\", \"\", temp1)\n",
    "    result = ''.join(i for i in temp2 if i not in UNICODE_EMOJI['en'])\n",
    "    return result\n",
    "\n",
    "    # return the cleaned tweet without any mention/tag/url/emoji\n",
    "\n",
    "\n",
    "def sentiment(cleaned_tweet):\n",
    "    blob = TextBlob(cleaned_tweet)\n",
    "    return blob.sentiment.polarity\n",
    "\n",
    "    # return the sentiment score\n",
    "    \n",
    "def sentiment_label(score):\n",
    "    if score >= 0.75:\n",
    "        return 'POSITIVE'\n",
    "    elif score >= 0.2:\n",
    "        return 'positive'\n",
    "    elif score >= -0.2:\n",
    "        return 'neutral'\n",
    "    elif score >= -0.75:\n",
    "        return 'negative'\n",
    "    else:\n",
    "        return 'NEGATIVE'\n",
    "    \n",
    "    # label the tweet based on sentiment score\n",
    "    \n",
    "def word_tokens(text): \n",
    "    tokens = word_tokenize(text)\n",
    "    result = []\n",
    "    for tok in tokens: \n",
    "        if (tok.lower().isalpha()) & (tok.lower() not in stops):\n",
    "            result.append(tok)\n",
    "    \n",
    "    return result\n",
    "    # return a list of tokens for the input text string"
   ]
  },
  {
   "cell_type": "code",
   "execution_count": 4,
   "id": "early-guatemala",
   "metadata": {},
   "outputs": [
    {
     "data": {
      "text/html": [
       "<div>\n",
       "<style scoped>\n",
       "    .dataframe tbody tr th:only-of-type {\n",
       "        vertical-align: middle;\n",
       "    }\n",
       "\n",
       "    .dataframe tbody tr th {\n",
       "        vertical-align: top;\n",
       "    }\n",
       "\n",
       "    .dataframe thead th {\n",
       "        text-align: right;\n",
       "    }\n",
       "</style>\n",
       "<table border=\"1\" class=\"dataframe\">\n",
       "  <thead>\n",
       "    <tr style=\"text-align: right;\">\n",
       "      <th></th>\n",
       "      <th>tags</th>\n",
       "      <th>clean_text</th>\n",
       "      <th>sentiment_score</th>\n",
       "      <th>senti_label</th>\n",
       "    </tr>\n",
       "  </thead>\n",
       "  <tbody>\n",
       "    <tr>\n",
       "      <th>0</th>\n",
       "      <td>[]</td>\n",
       "      <td>Coming into the arena looking like a boss</td>\n",
       "      <td>0.0</td>\n",
       "      <td>neutral</td>\n",
       "    </tr>\n",
       "    <tr>\n",
       "      <th>1</th>\n",
       "      <td>[]</td>\n",
       "      <td>Curry</td>\n",
       "      <td>0.0</td>\n",
       "      <td>neutral</td>\n",
       "    </tr>\n",
       "    <tr>\n",
       "      <th>2</th>\n",
       "      <td>[COAWRD, WEAK]</td>\n",
       "      <td>where you at ?  playing. Ready to ride  back ...</td>\n",
       "      <td>0.1</td>\n",
       "      <td>neutral</td>\n",
       "    </tr>\n",
       "    <tr>\n",
       "      <th>3</th>\n",
       "      <td>[LebronJames]</td>\n",
       "      <td>Let's go Lakers</td>\n",
       "      <td>0.0</td>\n",
       "      <td>neutral</td>\n",
       "    </tr>\n",
       "    <tr>\n",
       "      <th>4</th>\n",
       "      <td>[]</td>\n",
       "      <td>Steph Cury</td>\n",
       "      <td>0.0</td>\n",
       "      <td>neutral</td>\n",
       "    </tr>\n",
       "  </tbody>\n",
       "</table>\n",
       "</div>"
      ],
      "text/plain": [
       "             tags                                         clean_text  \\\n",
       "0              []          Coming into the arena looking like a boss   \n",
       "1              []                                              Curry   \n",
       "2  [COAWRD, WEAK]   where you at ?  playing. Ready to ride  back ...   \n",
       "3   [LebronJames]                                   Let's go Lakers    \n",
       "4              []                                         Steph Cury   \n",
       "\n",
       "   sentiment_score senti_label  \n",
       "0              0.0     neutral  \n",
       "1              0.0     neutral  \n",
       "2              0.1     neutral  \n",
       "3              0.0     neutral  \n",
       "4              0.0     neutral  "
      ]
     },
     "execution_count": 4,
     "metadata": {},
     "output_type": "execute_result"
    }
   ],
   "source": [
    "df['tags']= df.apply(lambda row: extract_tags(row['Text']), axis=1)\n",
    "\n",
    "df['clean_text']= df.apply(lambda row: clean_tweet(row['Text']), axis=1)\n",
    "df['sentiment_score']= df.apply(lambda row: sentiment(row['clean_text']), axis=1)\n",
    "df['senti_label']= df.apply(lambda row: sentiment_label(row['sentiment_score']), axis=1)\n",
    "df['words'] = df['clean_text'].apply(word_tokens)\n",
    "\n",
    "df[['tags','clean_text','sentiment_score','senti_label']].head()"
   ]
  },
  {
   "cell_type": "code",
   "execution_count": 5,
   "id": "alternative-frank",
   "metadata": {},
   "outputs": [
    {
     "data": {
      "text/plain": [
       "<690111x1000 sparse matrix of type '<class 'numpy.float64'>'\n",
       "\twith 3514010 stored elements in Compressed Sparse Row format>"
      ]
     },
     "execution_count": 5,
     "metadata": {},
     "output_type": "execute_result"
    }
   ],
   "source": [
    "vectorizer = TfidfVectorizer(min_df=10, stop_words='english',lowercase=True,max_df=0.9,max_features=1000)\n",
    "\n",
    "data_matrix = vectorizer.fit_transform(df.clean_text)\n",
    "data_matrix"
   ]
  },
  {
   "cell_type": "code",
   "execution_count": 6,
   "id": "smaller-batch",
   "metadata": {},
   "outputs": [
    {
     "name": "stdout",
     "output_type": "stream",
     "text": [
      "Top 25 words for topic #0:\n",
      "['little', 'player', 'maybe', 'played', 'world', 'oh', 'nba', 'ain', 'like', 'bad', 'playing', 'bitch', 'new', 'covid', 'look', 'ass', 'fuck', 'love', 'didn', 'did', 'best', 'right', 'birthday', 'james', 'lebron']\n",
      "\n",
      "\n",
      "Top 25 words for topic #1:\n",
      "['gonna', 'shut', 'dude', 'lmao', 'won', 'old', 'fan', 'like', 'think', 'people', 'real', 'guy', 'year', 'stop', 'say', 'really', 'just', 'said', 'day', 'man', 'don', 'bron', 'good', 'know', 'goat']\n",
      "\n",
      "\n",
      "Top 25 words for topic #2:\n",
      "['today', 'russ', '37', 'shot', 'big', 'kobe', 'amp', '10', 'play', 'games', 'vote', 'curry', 'star', 'points', 'season', 'westbrook', 'jordan', 'nba', 'win', 'team', 'game', 'better', 'lakers', 'james', 'lebron']\n",
      "\n",
      "\n",
      "Top 25 words for topic #3:\n",
      "['great', 'thing', 'kyle', 'people', 'years', 'doing', 'point', 'tweet', 'come', 've', 'does', 'don', 'fans', 'want', 'make', 'captain', 'shit', 'china', 'like', 'soccer', 'bro', 'just', 'let', 'lol', 'happy']\n",
      "\n",
      "\n",
      "Top 25 words for topic #4:\n",
      "['believe', 'making', 'hope', 'baby', 'night', 'hey', 'needs', 'ratio', 'kevin', 'finals', 'life', 'basketball', 'sure', 'getting', 'retweet', 'll', 'player', 'need', 'greatest', 'trade', 'got', 'james', 'lebron', 'time', 'king']\n",
      "\n",
      "\n"
     ]
    }
   ],
   "source": [
    "lda_model = LatentDirichletAllocation(n_components=5, learning_method='online', random_state=695, n_jobs = -1)\n",
    "\n",
    "lda_output = lda_model.fit_transform(data_matrix)\n",
    "topic_dict = dict()\n",
    "\n",
    "for i, topic in enumerate(lda_model.components_):\n",
    "    print(f'Top 25 words for topic #{i}:')\n",
    "    print([vectorizer.get_feature_names()[i] for i in topic.argsort()[-25:]])\n",
    "    topic_dict[i] = [vectorizer.get_feature_names()[i] for i in topic.argsort()[-25:]]\n",
    "    print('\\n')"
   ]
  },
  {
   "cell_type": "code",
   "execution_count": 7,
   "id": "bored-kinase",
   "metadata": {},
   "outputs": [
    {
     "data": {
      "text/plain": [
       "(-9596240.871564606, 1160.679581178665)"
      ]
     },
     "execution_count": 7,
     "metadata": {},
     "output_type": "execute_result"
    }
   ],
   "source": [
    "lda_model.score(data_matrix), lda_model.perplexity(data_matrix)"
   ]
  },
  {
   "cell_type": "code",
   "execution_count": 8,
   "id": "minute-organ",
   "metadata": {},
   "outputs": [
    {
     "data": {
      "text/plain": [
       "0    3\n",
       "1    2\n",
       "2    4\n",
       "3    3\n",
       "4    2\n",
       "Name: Topic, dtype: int64"
      ]
     },
     "execution_count": 8,
     "metadata": {},
     "output_type": "execute_result"
    }
   ],
   "source": [
    "df['Topic'] = lda_output.argmax(axis=1)\n",
    "df['Topic'].head()"
   ]
  },
  {
   "cell_type": "code",
   "execution_count": 9,
   "id": "domestic-logan",
   "metadata": {},
   "outputs": [
    {
     "data": {
      "text/html": [
       "<div>\n",
       "<style scoped>\n",
       "    .dataframe tbody tr th:only-of-type {\n",
       "        vertical-align: middle;\n",
       "    }\n",
       "\n",
       "    .dataframe tbody tr th {\n",
       "        vertical-align: top;\n",
       "    }\n",
       "\n",
       "    .dataframe thead th {\n",
       "        text-align: right;\n",
       "    }\n",
       "</style>\n",
       "<table border=\"1\" class=\"dataframe\">\n",
       "  <thead>\n",
       "    <tr style=\"text-align: right;\">\n",
       "      <th></th>\n",
       "      <th>Created_Date</th>\n",
       "      <th>Tweet Id</th>\n",
       "      <th>Text</th>\n",
       "      <th>Rendered Tweet</th>\n",
       "      <th>User_Name</th>\n",
       "      <th>Followers</th>\n",
       "      <th>Friends</th>\n",
       "      <th>Favourites</th>\n",
       "      <th>Media</th>\n",
       "      <th>Location</th>\n",
       "      <th>...</th>\n",
       "      <th>Place</th>\n",
       "      <th>Hashtags</th>\n",
       "      <th>Source</th>\n",
       "      <th>Mentions</th>\n",
       "      <th>clean_text</th>\n",
       "      <th>sentiment_score</th>\n",
       "      <th>Topic</th>\n",
       "      <th>tags</th>\n",
       "      <th>senti_label</th>\n",
       "      <th>words</th>\n",
       "    </tr>\n",
       "  </thead>\n",
       "  <tbody>\n",
       "    <tr>\n",
       "      <th>0</th>\n",
       "      <td>2021-10-19 23:59:55+00:00</td>\n",
       "      <td>1450612709205159939</td>\n",
       "      <td>@Lakers @KingJames Coming into the arena looki...</td>\n",
       "      <td>@Lakers @KingJames Coming into the arena looki...</td>\n",
       "      <td>SteveNe13350562</td>\n",
       "      <td>1</td>\n",
       "      <td>35</td>\n",
       "      <td>109</td>\n",
       "      <td>0</td>\n",
       "      <td>NaN</td>\n",
       "      <td>...</td>\n",
       "      <td>NaN</td>\n",
       "      <td>NaN</td>\n",
       "      <td>&lt;a href=\"http://twitter.com/download/android\" ...</td>\n",
       "      <td>[User(username='Lakers', id=20346956, displayn...</td>\n",
       "      <td>Coming into the arena looking like a boss</td>\n",
       "      <td>0.0</td>\n",
       "      <td>3</td>\n",
       "      <td>[]</td>\n",
       "      <td>neutral</td>\n",
       "      <td>[Coming, arena, looking, like, boss]</td>\n",
       "    </tr>\n",
       "    <tr>\n",
       "      <th>1</th>\n",
       "      <td>2021-10-19 23:59:44+00:00</td>\n",
       "      <td>1450612663503917056</td>\n",
       "      <td>@Awesemo_Com @AwesemoNBA @NBA @NBAonTNT @Steph...</td>\n",
       "      <td>@Awesemo_Com @AwesemoNBA @NBA @NBAonTNT @Steph...</td>\n",
       "      <td>markFin73763459</td>\n",
       "      <td>27</td>\n",
       "      <td>156</td>\n",
       "      <td>516</td>\n",
       "      <td>18</td>\n",
       "      <td>NaN</td>\n",
       "      <td>...</td>\n",
       "      <td>NaN</td>\n",
       "      <td>NaN</td>\n",
       "      <td>&lt;a href=\"http://twitter.com/download/iphone\" r...</td>\n",
       "      <td>[User(username='Awesemo_Com', id=9561989702037...</td>\n",
       "      <td>Curry</td>\n",
       "      <td>0.0</td>\n",
       "      <td>2</td>\n",
       "      <td>[]</td>\n",
       "      <td>neutral</td>\n",
       "      <td>[Curry]</td>\n",
       "    </tr>\n",
       "    <tr>\n",
       "      <th>2</th>\n",
       "      <td>2021-10-19 23:59:42+00:00</td>\n",
       "      <td>1450612655090278402</td>\n",
       "      <td>@RealSkipBayless where you at #COAWRD? @KDTrey...</td>\n",
       "      <td>@RealSkipBayless where you at #COAWRD? @KDTrey...</td>\n",
       "      <td>ByrdyStrokes</td>\n",
       "      <td>2</td>\n",
       "      <td>17</td>\n",
       "      <td>269</td>\n",
       "      <td>32</td>\n",
       "      <td>NaN</td>\n",
       "      <td>...</td>\n",
       "      <td>NaN</td>\n",
       "      <td>['COAWRD', 'WEAK']</td>\n",
       "      <td>&lt;a href=\"http://twitter.com/download/iphone\" r...</td>\n",
       "      <td>[User(username='RealSkipBayless', id=43139414,...</td>\n",
       "      <td>where you at ?  playing. Ready to ride  back ...</td>\n",
       "      <td>0.1</td>\n",
       "      <td>4</td>\n",
       "      <td>[COAWRD, WEAK]</td>\n",
       "      <td>neutral</td>\n",
       "      <td>[playing, Ready, ride, back, play, pick, amp, ...</td>\n",
       "    </tr>\n",
       "  </tbody>\n",
       "</table>\n",
       "<p>3 rows × 25 columns</p>\n",
       "</div>"
      ],
      "text/plain": [
       "                Created_Date             Tweet Id  \\\n",
       "0  2021-10-19 23:59:55+00:00  1450612709205159939   \n",
       "1  2021-10-19 23:59:44+00:00  1450612663503917056   \n",
       "2  2021-10-19 23:59:42+00:00  1450612655090278402   \n",
       "\n",
       "                                                Text  \\\n",
       "0  @Lakers @KingJames Coming into the arena looki...   \n",
       "1  @Awesemo_Com @AwesemoNBA @NBA @NBAonTNT @Steph...   \n",
       "2  @RealSkipBayless where you at #COAWRD? @KDTrey...   \n",
       "\n",
       "                                      Rendered Tweet        User_Name  \\\n",
       "0  @Lakers @KingJames Coming into the arena looki...  SteveNe13350562   \n",
       "1  @Awesemo_Com @AwesemoNBA @NBA @NBAonTNT @Steph...  markFin73763459   \n",
       "2  @RealSkipBayless where you at #COAWRD? @KDTrey...     ByrdyStrokes   \n",
       "\n",
       "  Followers Friends Favourites Media Location  ...  Place            Hashtags  \\\n",
       "0         1      35        109     0      NaN  ...    NaN                 NaN   \n",
       "1        27     156        516    18      NaN  ...    NaN                 NaN   \n",
       "2         2      17        269    32      NaN  ...    NaN  ['COAWRD', 'WEAK']   \n",
       "\n",
       "                                              Source  \\\n",
       "0  <a href=\"http://twitter.com/download/android\" ...   \n",
       "1  <a href=\"http://twitter.com/download/iphone\" r...   \n",
       "2  <a href=\"http://twitter.com/download/iphone\" r...   \n",
       "\n",
       "                                            Mentions  \\\n",
       "0  [User(username='Lakers', id=20346956, displayn...   \n",
       "1  [User(username='Awesemo_Com', id=9561989702037...   \n",
       "2  [User(username='RealSkipBayless', id=43139414,...   \n",
       "\n",
       "                                          clean_text sentiment_score Topic  \\\n",
       "0          Coming into the arena looking like a boss             0.0     3   \n",
       "1                                              Curry             0.0     2   \n",
       "2   where you at ?  playing. Ready to ride  back ...             0.1     4   \n",
       "\n",
       "             tags senti_label  \\\n",
       "0              []     neutral   \n",
       "1              []     neutral   \n",
       "2  [COAWRD, WEAK]     neutral   \n",
       "\n",
       "                                               words  \n",
       "0               [Coming, arena, looking, like, boss]  \n",
       "1                                            [Curry]  \n",
       "2  [playing, Ready, ride, back, play, pick, amp, ...  \n",
       "\n",
       "[3 rows x 25 columns]"
      ]
     },
     "execution_count": 9,
     "metadata": {},
     "output_type": "execute_result"
    }
   ],
   "source": [
    "df.head(3)"
   ]
  },
  {
   "cell_type": "code",
   "execution_count": 10,
   "id": "virtual-logic",
   "metadata": {},
   "outputs": [
    {
     "name": "stdout",
     "output_type": "stream",
     "text": [
      "Amid the Lebron tweets from 2021/10/19 ~ 2022/01/19 :\n",
      "30901 tweets are highly positive, that is 4.478 % of the total tweets\n",
      "9607 tweets are highly negative, that is 1.392 % of the total tweets\n"
     ]
    }
   ],
   "source": [
    "POS_count = df[df['senti_label']=='POSITIVE'].shape[0]\n",
    "POS_ratio = POS_count/df.shape[0]\n",
    "\n",
    "NEG_count = df[df['senti_label']=='NEGATIVE'].shape[0]\n",
    "NEG_ratio = NEG_count/df.shape[0]\n",
    "\n",
    "print('Amid the Lebron tweets from 2021/10/19 ~ 2022/01/19 :')\n",
    "print(POS_count,'tweets are highly positive, that is',round(POS_ratio*100,3),'% of the total tweets')\n",
    "print(NEG_count,'tweets are highly negative, that is',round(NEG_ratio*100,3),'% of the total tweets')"
   ]
  },
  {
   "cell_type": "markdown",
   "id": "placed-commission",
   "metadata": {},
   "source": [
    "### Topic/Sentiment Exploration"
   ]
  },
  {
   "cell_type": "code",
   "execution_count": 11,
   "id": "compound-default",
   "metadata": {},
   "outputs": [
    {
     "data": {
      "text/plain": [
       "dict_keys(['topic 3', 'topic 2', 'topic 4', 'topic 1', 'topic 0'])"
      ]
     },
     "execution_count": 11,
     "metadata": {},
     "output_type": "execute_result"
    }
   ],
   "source": [
    "dic = dict()\n",
    "\n",
    "for i in df.Topic.unique():\n",
    "    label = 'topic ' + str(i)\n",
    "    data = df[df['Topic']==i]\n",
    "    dic[label] = data\n",
    "\n",
    "dic.keys()"
   ]
  },
  {
   "cell_type": "code",
   "execution_count": 12,
   "id": "sorted-married",
   "metadata": {},
   "outputs": [],
   "source": [
    "def topic_summary(idx):\n",
    "    label = 'topic ' + str(idx)\n",
    "    data = dic[label]\n",
    "    \n",
    "    c = Counter()\n",
    "    for i in data['tags']:\n",
    "        c.update(Counter(i))\n",
    "        \n",
    "    top = c.most_common(25)\n",
    "    top_tags = []\n",
    "    for combo in top:\n",
    "        top_tags.append(combo[0])\n",
    "    \n",
    "    top_words = topic_dict[idx]\n",
    "    \n",
    "    total = data.shape[0]\n",
    "    senti_group = data.groupby('senti_label').count()['Topic']\n",
    "    POS = senti_group['POSITIVE']\n",
    "    NEG = senti_group['NEGATIVE']\n",
    "    pos = senti_group['positive']\n",
    "    neg = senti_group['negative']\n",
    "    neu = senti_group['neutral']\n",
    "    pos_ratio = round(100*(POS + pos) / total,3)\n",
    "    neg_ratio = round(100*(NEG + neg) / total,3)\n",
    "    neu_ratio = round(100*neu/total,3)\n",
    "    \n",
    "    score = round(data['sentiment_score'].mean(),3)\n",
    "    \n",
    "    print('There are a total of', total, f'tweets in topic #{idx}')\n",
    "    print(' ')\n",
    "    print('Top 25 words : ',top_words)\n",
    "    print(' ')\n",
    "    print('Top 25 tags : ',top_tags)\n",
    "    print(' ')\n",
    "    print(round(100*POS/total,3), '% of the tweets in this topic cluster are highly positive,')\n",
    "    print('while', round(100*NEG/total,3), '% of the tweets are highly negative')\n",
    "    print(' ')\n",
    "    print(POS + pos, 'tweets are scored as positive, while',NEG + neg , 'tweets are negative')\n",
    "    print(pos_ratio,'% positive tweets,',neu_ratio,'% neutral, and', neg_ratio,'% negative')\n",
    "    print('The average sentiment score is', score)"
   ]
  },
  {
   "cell_type": "code",
   "execution_count": 13,
   "id": "expressed-brain",
   "metadata": {},
   "outputs": [
    {
     "name": "stdout",
     "output_type": "stream",
     "text": [
      "There are a total of 172300 tweets in topic #0\n",
      " \n",
      "Top 25 words :  ['little', 'player', 'maybe', 'played', 'world', 'oh', 'nba', 'ain', 'like', 'bad', 'playing', 'bitch', 'new', 'covid', 'look', 'ass', 'fuck', 'love', 'didn', 'did', 'best', 'right', 'birthday', 'james', 'lebron']\n",
      " \n",
      "Top 25 tags :  ['LeBronJames', 'NBAAllStar', 'NBA', 'LakeShow', 'Lakers', 'lebronjames', 'nba', 'lakers', 'NBA75', 'LebronJames', 'LeBron', 'lebron', 'thehobby', 'NBATwitter', 'basketball', 'LakersNation', 'lakeshow', 'KingJames', 'Lebron', 'KyleRittenhouse', 'KaranKundrra', 'eBay', 'LeSnitch', 'KaranIsTheBoss', 'KKundrraSquad']\n",
      " \n",
      "5.879 % of the tweets in this topic cluster are highly positive,\n",
      "while 1.132 % of the tweets are highly negative\n",
      " \n",
      "36742 tweets are scored as positive, while 18732 tweets are negative\n",
      "21.324 % positive tweets, 67.804 % neutral, and 10.872 % negative\n",
      "The average sentiment score is 0.061\n"
     ]
    }
   ],
   "source": [
    "topic_summary(0)"
   ]
  },
  {
   "cell_type": "code",
   "execution_count": 14,
   "id": "unlike-jacksonville",
   "metadata": {},
   "outputs": [
    {
     "name": "stdout",
     "output_type": "stream",
     "text": [
      "There are a total of 147965 tweets in topic #1\n",
      " \n",
      "Top 25 words :  ['gonna', 'shut', 'dude', 'lmao', 'won', 'old', 'fan', 'like', 'think', 'people', 'real', 'guy', 'year', 'stop', 'say', 'really', 'just', 'said', 'day', 'man', 'don', 'bron', 'good', 'know', 'goat']\n",
      " \n",
      "Top 25 tags :  ['LeBronJames', 'NBAAllStar', 'NBA', 'LakeShow', 'Lakers', 'LebronJames', 'NBA75', 'nba', 'lebronjames', 'KyleRittenhouse', '1', 'LeBron', 'LakersNation', 'lakers', 'NBATwitter', 'LeSnitch', 'GOAT', 'China', 'basketball', 'KingJames', 'NBAALLStar', 'NBAAIIStar', 'lebron', 'twitter', 'Lebron']\n",
      " \n",
      "3.105 % of the tweets in this topic cluster are highly positive,\n",
      "while 2.405 % of the tweets are highly negative\n",
      " \n",
      "37884 tweets are scored as positive, while 19758 tweets are negative\n",
      "25.603 % positive tweets, 61.043 % neutral, and 13.353 % negative\n",
      "The average sentiment score is 0.052\n"
     ]
    }
   ],
   "source": [
    "topic_summary(1)"
   ]
  },
  {
   "cell_type": "code",
   "execution_count": 15,
   "id": "existing-berry",
   "metadata": {},
   "outputs": [
    {
     "name": "stdout",
     "output_type": "stream",
     "text": [
      "There are a total of 73983 tweets in topic #4\n",
      " \n",
      "Top 25 words :  ['believe', 'making', 'hope', 'baby', 'night', 'hey', 'needs', 'ratio', 'kevin', 'finals', 'life', 'basketball', 'sure', 'getting', 'retweet', 'll', 'player', 'need', 'greatest', 'trade', 'got', 'james', 'lebron', 'time', 'king']\n",
      " \n",
      "Top 25 tags :  ['LeBronJames', 'NBAAllStar', 'NBA', 'Lakers', 'LakeShow', 'lebronjames', 'nba', 'NBA75', 'NBAALLSTAR', 'LebronJames', 'lakers', 'LakersNation', 'basketball', 'LeBron', 'NBATwitter', 'NBAAIIStar', 'sports', 'COVID19', 'KyleRittenhouse', 'KingJames', 'NBATopShotThis', '1', 'GOAT', 'TheBlackSeries', 'LeSnitch']\n",
      " \n",
      "5.59 % of the tweets in this topic cluster are highly positive,\n",
      "while 0.93 % of the tweets are highly negative\n",
      " \n",
      "19147 tweets are scored as positive, while 7350 tweets are negative\n",
      "25.88 % positive tweets, 64.185 % neutral, and 9.935 % negative\n",
      "The average sentiment score is 0.085\n"
     ]
    }
   ],
   "source": [
    "topic_summary(4)"
   ]
  },
  {
   "cell_type": "markdown",
   "id": "italic-priest",
   "metadata": {},
   "source": [
    "### Didn't work out that well from topic perspective\n",
    "#### Try analyze from the sentiment perspective"
   ]
  },
  {
   "cell_type": "code",
   "execution_count": 16,
   "id": "therapeutic-crazy",
   "metadata": {},
   "outputs": [],
   "source": [
    "def senti_summary(label):\n",
    "    data = df[df['senti_label'] == label]\n",
    "    \n",
    "    c = Counter()\n",
    "    for i in data['tags']:\n",
    "        c.update(Counter(i))\n",
    "    \n",
    "    top = c.most_common(25)\n",
    "    top_tags = []\n",
    "    \n",
    "    for combo in top:\n",
    "        top_tags.append(combo[0])\n",
    "    \n",
    "    tags_df = pd.DataFrame(top,columns = ['Tag','count'])\n",
    "    \n",
    "    c1 = Counter()\n",
    "    for i in data['words']:\n",
    "        c1.update(Counter(i))\n",
    "        \n",
    "    top1 = c1.most_common(25) \n",
    "    top_words = []\n",
    "    for combo in top1:\n",
    "        top_words.append(combo[0])\n",
    "    \n",
    "    overall = df.shape[0]\n",
    "    total = data.shape[0]\n",
    "    topic_group = data.groupby('Topic').count()['senti_label']\n",
    "    \n",
    "    print('Tweets labeled as',label,'account for',np.round(100*total/overall,3),'% of the total tweets about Lebron')\n",
    "    print(' ')\n",
    "    print('For the tweets in this sentiment label: ')\n",
    "    print(f'Top 25 words : ',top_words)\n",
    "    print(' ')\n",
    "    print(f'Top 25 tags : ',top_tags)\n",
    "    print(' ')\n",
    "    print('the topic label distribution looks like: ', topic_group)\n"
   ]
  },
  {
   "cell_type": "code",
   "execution_count": 17,
   "id": "conservative-cherry",
   "metadata": {},
   "outputs": [
    {
     "name": "stdout",
     "output_type": "stream",
     "text": [
      "Tweets labeled as POSITIVE account for 4.478 % of the total tweets about Lebron\n",
      " \n",
      "For the tweets in this sentiment label: \n",
      "Top 25 words :  ['James', 'Happy', 'LeBron', 'birthday', 'best', 'lol', 'player', 'Lebron', 'Birthday', 'win', 'greatest', 'time', 'basketball', 'great', 'Lol', 'happy', 'ever', 'Lakers', 'one', 'like', 'King', 'NBA', 'still', 'would', 'GOAT']\n",
      " \n",
      "Top 25 tags :  ['LeBronJames', 'NBAAllStar', 'LakeShow', 'NBA', 'LebronJames', 'Lakers', 'NBA75', 'NBAALLStar', 'KingJames', 'GOAT', 'lebronjames', 'HappyBirthdayLeBronJames', 'nba', 'StriveForGreatness', 'LakersNation', 'lakers', 'LeBron', 'NBATwitter', 'basketball', 'lebron', 'Lebron', 'sports', '1', 'goat', 'NBAAIIStar']\n",
      " \n",
      "the topic label distribution looks like:  Topic\n",
      "0    10129\n",
      "1     4594\n",
      "2     5640\n",
      "3     6402\n",
      "4     4136\n",
      "Name: senti_label, dtype: int64\n"
     ]
    }
   ],
   "source": [
    "senti_summary('POSITIVE')"
   ]
  },
  {
   "cell_type": "code",
   "execution_count": 18,
   "id": "communist-carol",
   "metadata": {},
   "outputs": [
    {
     "name": "stdout",
     "output_type": "stream",
     "text": [
      "Tweets labeled as NEGATIVE account for 1.392 % of the total tweets about Lebron\n",
      " \n",
      "For the tweets in this sentiment label: \n",
      "Top 25 words :  ['James', 'LeBron', 'idiot', 'hate', 'stupid', 'Lebron', 'like', 'Base', 'moron', 'worst', 'Set', 'bought', 'pathetic', 'Series', 'ETH', 'Floor', 'disgusting', 'people', 'get', 'fucking', 'one', 'terrible', 'insane', 'horrible', 'man']\n",
      " \n",
      "Top 25 tags :  ['LakeShow', 'LeBronJames', 'NBAAllStar', 'NBA', 'lebronjames', 'Lakers', 'NBA75', 'lakers', 'nba', 'LeBron', 'LeSnitch', 'SmartNews', 'LakersNation', 'KyleRittenhouse', 'NBATwitter', 'LebronJames', 'KingJames', 'thehobby', 'IsaiahStewart', 'basketball', 'China', 'GOAT', 'lakeshow', 'pistons', 'player']\n",
      " \n",
      "the topic label distribution looks like:  Topic\n",
      "0    1950\n",
      "1    3558\n",
      "2    1548\n",
      "3    1863\n",
      "4     688\n",
      "Name: senti_label, dtype: int64\n"
     ]
    }
   ],
   "source": [
    "senti_summary('NEGATIVE')"
   ]
  },
  {
   "cell_type": "code",
   "execution_count": 19,
   "id": "sustained-timer",
   "metadata": {},
   "outputs": [],
   "source": [
    "df.to_pickle('Lebron_topicdf.pkl')\n",
    "\n",
    "# save the complete dataframe in pickle format, for further visualization purpose\n",
    "# save as csv format will lose some feature (like tag lists)"
   ]
  },
  {
   "cell_type": "markdown",
   "id": "interested-retrieval",
   "metadata": {},
   "source": [
    "### PyLDAvis \n",
    "\n",
    "For the detailed explanation of the plot, please check out the official documentation."
   ]
  },
  {
   "cell_type": "code",
   "execution_count": 20,
   "id": "fallen-workshop",
   "metadata": {},
   "outputs": [],
   "source": [
    "import pyLDAvis\n",
    "import pyLDAvis.sklearn"
   ]
  },
  {
   "cell_type": "code",
   "execution_count": 21,
   "id": "sudden-owner",
   "metadata": {},
   "outputs": [],
   "source": [
    "pyLDAvis.enable_notebook()"
   ]
  },
  {
   "cell_type": "code",
   "execution_count": 22,
   "id": "stainless-favor",
   "metadata": {},
   "outputs": [
    {
     "name": "stderr",
     "output_type": "stream",
     "text": [
      "/opt/conda/lib/python3.7/site-packages/ipykernel/ipkernel.py:283: DeprecationWarning: `should_run_async` will not call `transform_cell` automatically in the future. Please pass the result to `transformed_cell` argument and any exception that happen during thetransform in `preprocessing_exc_tuple` in IPython 7.17 and above.\n",
      "  and should_run_async(code)\n"
     ]
    }
   ],
   "source": [
    "vis = pyLDAvis.sklearn.prepare(lda_model, data_matrix, vectorizer)\n",
    "\n",
    "pyLDAvis.save_html(vis,'Lebron_LDAvis.html')"
   ]
  },
  {
   "cell_type": "code",
   "execution_count": null,
   "id": "correct-republican",
   "metadata": {},
   "outputs": [],
   "source": []
  }
 ],
 "metadata": {
  "kernelspec": {
   "display_name": "Python 3",
   "language": "python",
   "name": "python3"
  },
  "language_info": {
   "codemirror_mode": {
    "name": "ipython",
    "version": 3
   },
   "file_extension": ".py",
   "mimetype": "text/x-python",
   "name": "python",
   "nbconvert_exporter": "python",
   "pygments_lexer": "ipython3",
   "version": "3.7.10"
  }
 },
 "nbformat": 4,
 "nbformat_minor": 5
}
