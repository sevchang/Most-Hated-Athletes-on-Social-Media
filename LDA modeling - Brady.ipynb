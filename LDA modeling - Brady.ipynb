{
 "cells": [
  {
   "cell_type": "code",
   "execution_count": 1,
   "id": "standing-relay",
   "metadata": {},
   "outputs": [
    {
     "name": "stderr",
     "output_type": "stream",
     "text": [
      "Slow version of gensim.models.doc2vec is being used\n",
      "Slow version of Fasttext is being used\n",
      "[nltk_data] Downloading package punkt to /opt/conda/nltk_data...\n",
      "[nltk_data]   Package punkt is already up-to-date!\n"
     ]
    }
   ],
   "source": [
    "import pandas as pd\n",
    "import numpy as np\n",
    "import gensim\n",
    "import re\n",
    "from emoji import UNICODE_EMOJI\n",
    "from textblob import TextBlob\n",
    "from collections import Counter\n",
    "import altair as alt\n",
    "\n",
    "import nltk\n",
    "from nltk.tokenize import word_tokenize\n",
    "from nltk.corpus import stopwords\n",
    "nltk.download('punkt')\n",
    "\n",
    "from sklearn.decomposition import LatentDirichletAllocation\n",
    "from sklearn.feature_extraction.text import CountVectorizer, TfidfVectorizer\n",
    "\n",
    "stops = nltk.corpus.stopwords.words('english')"
   ]
  },
  {
   "cell_type": "code",
   "execution_count": 2,
   "id": "front-radical",
   "metadata": {},
   "outputs": [
    {
     "data": {
      "text/html": [
       "<div>\n",
       "<style scoped>\n",
       "    .dataframe tbody tr th:only-of-type {\n",
       "        vertical-align: middle;\n",
       "    }\n",
       "\n",
       "    .dataframe tbody tr th {\n",
       "        vertical-align: top;\n",
       "    }\n",
       "\n",
       "    .dataframe thead th {\n",
       "        text-align: right;\n",
       "    }\n",
       "</style>\n",
       "<table border=\"1\" class=\"dataframe\">\n",
       "  <thead>\n",
       "    <tr style=\"text-align: right;\">\n",
       "      <th></th>\n",
       "      <th>Created_Date</th>\n",
       "      <th>Tweet Id</th>\n",
       "      <th>Text</th>\n",
       "      <th>Rendered Tweet</th>\n",
       "      <th>User_Name</th>\n",
       "      <th>Followers</th>\n",
       "      <th>Friends</th>\n",
       "      <th>Favourites</th>\n",
       "      <th>Media</th>\n",
       "      <th>Location</th>\n",
       "      <th>Replys</th>\n",
       "      <th>Retweets</th>\n",
       "      <th>Quotes</th>\n",
       "      <th>Likes</th>\n",
       "      <th>Language</th>\n",
       "      <th>Place</th>\n",
       "      <th>Hashtags</th>\n",
       "      <th>Source</th>\n",
       "      <th>Mentions</th>\n",
       "    </tr>\n",
       "  </thead>\n",
       "  <tbody>\n",
       "    <tr>\n",
       "      <th>0</th>\n",
       "      <td>2021-09-09 23:59:56+00:00</td>\n",
       "      <td>1436117197399674881</td>\n",
       "      <td>@badlangel27 He should be playing against Tom ...</td>\n",
       "      <td>@badlangel27 He should be playing against Tom ...</td>\n",
       "      <td>randysavage6699</td>\n",
       "      <td>2528</td>\n",
       "      <td>1999.0</td>\n",
       "      <td>39564.0</td>\n",
       "      <td>860</td>\n",
       "      <td>on the road</td>\n",
       "      <td>1.0</td>\n",
       "      <td>0.0</td>\n",
       "      <td>0.0</td>\n",
       "      <td>1.0</td>\n",
       "      <td>en</td>\n",
       "      <td>NaN</td>\n",
       "      <td>NaN</td>\n",
       "      <td>&lt;a href=\"http://twitter.com/#!/download/ipad\" ...</td>\n",
       "      <td>[User(username='badlangel27', id=2743291521, d...</td>\n",
       "    </tr>\n",
       "    <tr>\n",
       "      <th>1</th>\n",
       "      <td>2021-09-09 23:59:54+00:00</td>\n",
       "      <td>1436117188939862019</td>\n",
       "      <td>@JHugo13 Tom Brady</td>\n",
       "      <td>@JHugo13 Tom Brady</td>\n",
       "      <td>Persona956</td>\n",
       "      <td>1127</td>\n",
       "      <td>92.0</td>\n",
       "      <td>3.0</td>\n",
       "      <td>96</td>\n",
       "      <td>Texas, USA</td>\n",
       "      <td>0.0</td>\n",
       "      <td>0.0</td>\n",
       "      <td>0.0</td>\n",
       "      <td>1.0</td>\n",
       "      <td>en</td>\n",
       "      <td>NaN</td>\n",
       "      <td>NaN</td>\n",
       "      <td>&lt;a href=\"http://twitter.com/download/android\" ...</td>\n",
       "      <td>[User(username='JHugo13', id=75009909, display...</td>\n",
       "    </tr>\n",
       "    <tr>\n",
       "      <th>2</th>\n",
       "      <td>2021-09-09 23:59:53+00:00</td>\n",
       "      <td>1436117184623882242</td>\n",
       "      <td>RIGHT NOW: The 2021 NFL season is starting and...</td>\n",
       "      <td>RIGHT NOW: The 2021 NFL season is starting and...</td>\n",
       "      <td>NBC10Boston</td>\n",
       "      <td>33683</td>\n",
       "      <td>442.0</td>\n",
       "      <td>1517.0</td>\n",
       "      <td>18036</td>\n",
       "      <td>Boston, MA</td>\n",
       "      <td>0.0</td>\n",
       "      <td>1.0</td>\n",
       "      <td>0.0</td>\n",
       "      <td>3.0</td>\n",
       "      <td>en</td>\n",
       "      <td>NaN</td>\n",
       "      <td>NaN</td>\n",
       "      <td>&lt;a href=\"http://www.socialflow.com\" rel=\"nofol...</td>\n",
       "      <td>NaN</td>\n",
       "    </tr>\n",
       "  </tbody>\n",
       "</table>\n",
       "</div>"
      ],
      "text/plain": [
       "                Created_Date             Tweet Id  \\\n",
       "0  2021-09-09 23:59:56+00:00  1436117197399674881   \n",
       "1  2021-09-09 23:59:54+00:00  1436117188939862019   \n",
       "2  2021-09-09 23:59:53+00:00  1436117184623882242   \n",
       "\n",
       "                                                Text  \\\n",
       "0  @badlangel27 He should be playing against Tom ...   \n",
       "1                                 @JHugo13 Tom Brady   \n",
       "2  RIGHT NOW: The 2021 NFL season is starting and...   \n",
       "\n",
       "                                      Rendered Tweet        User_Name  \\\n",
       "0  @badlangel27 He should be playing against Tom ...  randysavage6699   \n",
       "1                                 @JHugo13 Tom Brady       Persona956   \n",
       "2  RIGHT NOW: The 2021 NFL season is starting and...      NBC10Boston   \n",
       "\n",
       "  Followers  Friends  Favourites  Media      Location  Replys  Retweets  \\\n",
       "0      2528   1999.0     39564.0    860  on the road      1.0       0.0   \n",
       "1      1127     92.0         3.0     96    Texas, USA     0.0       0.0   \n",
       "2     33683    442.0      1517.0  18036    Boston, MA     0.0       1.0   \n",
       "\n",
       "   Quotes  Likes Language Place Hashtags  \\\n",
       "0     0.0    1.0       en   NaN      NaN   \n",
       "1     0.0    1.0       en   NaN      NaN   \n",
       "2     0.0    3.0       en   NaN      NaN   \n",
       "\n",
       "                                              Source  \\\n",
       "0  <a href=\"http://twitter.com/#!/download/ipad\" ...   \n",
       "1  <a href=\"http://twitter.com/download/android\" ...   \n",
       "2  <a href=\"http://www.socialflow.com\" rel=\"nofol...   \n",
       "\n",
       "                                            Mentions  \n",
       "0  [User(username='badlangel27', id=2743291521, d...  \n",
       "1  [User(username='JHugo13', id=75009909, display...  \n",
       "2                                                NaN  "
      ]
     },
     "execution_count": 2,
     "metadata": {},
     "output_type": "execute_result"
    }
   ],
   "source": [
    "df = pd.read_csv('Brady 2021_Sep.csv')\n",
    "df1 = pd.read_csv('Brady 2021_Oct.csv')\n",
    "df2 = pd.read_csv('Brady 2021_Nov.csv')\n",
    "df3 = pd.read_csv('Brady 2021_Dec.csv')\n",
    "df4 = pd.read_csv('Brady 2022_Jan.csv')\n",
    "\n",
    "df = pd.concat([df,df1,df2,df3,df4])\n",
    "df.dropna(subset=['Text'],inplace=True)\n",
    "df.head(3)"
   ]
  },
  {
   "cell_type": "code",
   "execution_count": 3,
   "id": "alive-raleigh",
   "metadata": {},
   "outputs": [],
   "source": [
    "def extract_tags(text):\n",
    "    return re.findall(\"#([a-zA-Z0-9_]{1,50})\", text)\n",
    "\n",
    "    # will return a list of tags\n",
    "\n",
    "def clean_tweet(txt): \n",
    "    temp = re.sub(\"@[A-Za-z0-9_]+\",\"\", txt)\n",
    "    temp1 = re.sub(\"#[A-Za-z0-9_]+\",\"\", temp)\n",
    "    temp2 = re.sub(r\"http\\S+\", \"\", temp1)\n",
    "    result = ''.join(i for i in temp2 if i not in UNICODE_EMOJI['en'])\n",
    "    return result\n",
    "\n",
    "    # return the cleaned tweet without any mention/tag/url/emoji\n",
    "\n",
    "\n",
    "def sentiment(cleaned_tweet):\n",
    "    blob = TextBlob(cleaned_tweet)\n",
    "    return blob.sentiment.polarity\n",
    "\n",
    "    # return the sentiment score\n",
    "    \n",
    "def sentiment_label(score):\n",
    "    if score >= 0.75:\n",
    "        return 'POSITIVE'\n",
    "    elif score >= 0.2:\n",
    "        return 'positive'\n",
    "    elif score >= -0.2:\n",
    "        return 'neutral'\n",
    "    elif score >= -0.75:\n",
    "        return 'negative'\n",
    "    else:\n",
    "        return 'NEGATIVE'\n",
    "    \n",
    "    # label the tweet based on sentiment score\n",
    "    \n",
    "def word_tokens(text): \n",
    "    tokens = word_tokenize(text)\n",
    "    result = []\n",
    "    for tok in tokens: \n",
    "        if (tok.lower().isalpha()) & (tok.lower() not in stops):\n",
    "            result.append(tok)\n",
    "    \n",
    "    return result\n",
    "    # return a list of tokens for the input text string"
   ]
  },
  {
   "cell_type": "code",
   "execution_count": 4,
   "id": "early-guatemala",
   "metadata": {},
   "outputs": [
    {
     "data": {
      "text/html": [
       "<div>\n",
       "<style scoped>\n",
       "    .dataframe tbody tr th:only-of-type {\n",
       "        vertical-align: middle;\n",
       "    }\n",
       "\n",
       "    .dataframe tbody tr th {\n",
       "        vertical-align: top;\n",
       "    }\n",
       "\n",
       "    .dataframe thead th {\n",
       "        text-align: right;\n",
       "    }\n",
       "</style>\n",
       "<table border=\"1\" class=\"dataframe\">\n",
       "  <thead>\n",
       "    <tr style=\"text-align: right;\">\n",
       "      <th></th>\n",
       "      <th>tags</th>\n",
       "      <th>clean_text</th>\n",
       "      <th>sentiment_score</th>\n",
       "      <th>senti_label</th>\n",
       "    </tr>\n",
       "  </thead>\n",
       "  <tbody>\n",
       "    <tr>\n",
       "      <th>0</th>\n",
       "      <td>[]</td>\n",
       "      <td>He should be playing against Tom Brady should...</td>\n",
       "      <td>0.000000</td>\n",
       "      <td>neutral</td>\n",
       "    </tr>\n",
       "    <tr>\n",
       "      <th>1</th>\n",
       "      <td>[]</td>\n",
       "      <td>Tom Brady</td>\n",
       "      <td>0.000000</td>\n",
       "      <td>neutral</td>\n",
       "    </tr>\n",
       "    <tr>\n",
       "      <th>2</th>\n",
       "      <td>[]</td>\n",
       "      <td>RIGHT NOW: The 2021 NFL season is starting and...</td>\n",
       "      <td>0.054762</td>\n",
       "      <td>neutral</td>\n",
       "    </tr>\n",
       "    <tr>\n",
       "      <th>3</th>\n",
       "      <td>[]</td>\n",
       "      <td>Let’s go Old Man aka Tom Brady!</td>\n",
       "      <td>0.125000</td>\n",
       "      <td>neutral</td>\n",
       "    </tr>\n",
       "    <tr>\n",
       "      <th>4</th>\n",
       "      <td>[]</td>\n",
       "      <td>I can’t back Tom Brady! I don’t like him!</td>\n",
       "      <td>0.000000</td>\n",
       "      <td>neutral</td>\n",
       "    </tr>\n",
       "  </tbody>\n",
       "</table>\n",
       "</div>"
      ],
      "text/plain": [
       "  tags                                         clean_text  sentiment_score  \\\n",
       "0   []   He should be playing against Tom Brady should...         0.000000   \n",
       "1   []                                          Tom Brady         0.000000   \n",
       "2   []  RIGHT NOW: The 2021 NFL season is starting and...         0.054762   \n",
       "3   []                   Let’s go Old Man aka Tom Brady!          0.125000   \n",
       "4   []          I can’t back Tom Brady! I don’t like him!         0.000000   \n",
       "\n",
       "  senti_label  \n",
       "0     neutral  \n",
       "1     neutral  \n",
       "2     neutral  \n",
       "3     neutral  \n",
       "4     neutral  "
      ]
     },
     "execution_count": 4,
     "metadata": {},
     "output_type": "execute_result"
    }
   ],
   "source": [
    "df['tags']= df.apply(lambda row: extract_tags(row['Text']), axis=1)\n",
    "\n",
    "df['clean_text']= df.apply(lambda row: clean_tweet(row['Text']), axis=1)\n",
    "df['sentiment_score']= df.apply(lambda row: sentiment(row['clean_text']), axis=1)\n",
    "df['senti_label']= df.apply(lambda row: sentiment_label(row['sentiment_score']), axis=1)\n",
    "df['words'] = df['clean_text'].apply(word_tokens)\n",
    "\n",
    "df[['tags','clean_text','sentiment_score','senti_label']].head()"
   ]
  },
  {
   "cell_type": "markdown",
   "id": "induced-certificate",
   "metadata": {},
   "source": [
    "### Latent Dirichlet Allocation"
   ]
  },
  {
   "cell_type": "code",
   "execution_count": 5,
   "id": "alternative-frank",
   "metadata": {},
   "outputs": [
    {
     "data": {
      "text/plain": [
       "<690518x1000 sparse matrix of type '<class 'numpy.float64'>'\n",
       "\twith 4520834 stored elements in Compressed Sparse Row format>"
      ]
     },
     "execution_count": 5,
     "metadata": {},
     "output_type": "execute_result"
    }
   ],
   "source": [
    "vectorizer = TfidfVectorizer(min_df=10, stop_words='english',lowercase=True,max_df=0.9,max_features=1000)\n",
    "\n",
    "data_matrix = vectorizer.fit_transform(df.clean_text)\n",
    "data_matrix"
   ]
  },
  {
   "cell_type": "code",
   "execution_count": 6,
   "id": "smaller-batch",
   "metadata": {},
   "outputs": [
    {
     "name": "stdout",
     "output_type": "stream",
     "text": [
      "Top 25 words for topic #0:\n",
      "['allen', 'record', 'greatest', 'career', 'season', 'ball', 'stop', 'way', 'sure', 'pass', 'going', 'big', 'gets', 'playoff', 'td', 'nfl', 'didn', 'ab', 'time', 'got', 'right', 'aaron', 'rodgers', 'tom', 'brady']\n",
      "\n",
      "\n",
      "Top 25 words for topic #1:\n",
      "['want', 'playoffs', 'vs', 'defense', 'nfl', 'hate', 'buccaneers', 'tampa', 'won', 'patriots', 'great', 'best', 'new', 'year', 'qb', 'mvp', 'game', 'bowl', 'win', 'goat', 'team', 'lol', 'super', 'tom', 'brady']\n",
      "\n",
      "\n",
      "Top 25 words for topic #2:\n",
      "['half', 'nfc', 'lebron', 'home', 'touchdown', 'beat', '20', 'run', 'guys', 'lose', 'needs', 'doing', 'lost', 'come', 'bucs', 'gonna', 'fans', 'saints', 'antonio', 'need', 'eagles', 'brown', 'fuck', 'tom', 'brady']\n",
      "\n",
      "\n",
      "Top 25 words for topic #3:\n",
      "['game', 'yes', 'night', 'pats', 'football', 'refs', 'fucking', 've', 'jets', 'people', 'day', 'throw', 'bad', 'know', 'shit', 'don', 'yards', 'did', 'today', 'think', 'say', 'just', 'good', 'tom', 'brady']\n",
      "\n",
      "\n",
      "Top 25 words for topic #4:\n",
      "['bro', 'says', 'dude', 'help', 'yeah', 'amp', 'real', 'just', 'card', 'watching', 'ass', 'guy', 'really', 'years', 'old', 'better', 'look', 'let', 'said', 'does', 'love', 'man', 'like', 'brady', 'tom']\n",
      "\n",
      "\n"
     ]
    }
   ],
   "source": [
    "lda_model = LatentDirichletAllocation(n_components=5, learning_method='online', random_state=695, n_jobs = -1)\n",
    "\n",
    "lda_output = lda_model.fit_transform(data_matrix)\n",
    "topic_dict = dict()\n",
    "\n",
    "for i, topic in enumerate(lda_model.components_):\n",
    "    print(f'Top 25 words for topic #{i}:')\n",
    "    print([vectorizer.get_feature_names()[i] for i in topic.argsort()[-25:]])\n",
    "    topic_dict[i] = [vectorizer.get_feature_names()[i] for i in topic.argsort()[-25:]]\n",
    "    print('\\n')"
   ]
  },
  {
   "cell_type": "code",
   "execution_count": 7,
   "id": "bored-kinase",
   "metadata": {},
   "outputs": [
    {
     "data": {
      "text/plain": [
       "(-10552521.310721088, 1047.637129252472)"
      ]
     },
     "execution_count": 7,
     "metadata": {},
     "output_type": "execute_result"
    }
   ],
   "source": [
    "lda_model.score(data_matrix), lda_model.perplexity(data_matrix)"
   ]
  },
  {
   "cell_type": "code",
   "execution_count": 8,
   "id": "minute-organ",
   "metadata": {},
   "outputs": [
    {
     "data": {
      "text/plain": [
       "0    4\n",
       "1    2\n",
       "2    0\n",
       "3    4\n",
       "4    4\n",
       "Name: Topic, dtype: int64"
      ]
     },
     "execution_count": 8,
     "metadata": {},
     "output_type": "execute_result"
    }
   ],
   "source": [
    "df['Topic'] = lda_output.argmax(axis=1)\n",
    "df['Topic'].head()"
   ]
  },
  {
   "cell_type": "code",
   "execution_count": 9,
   "id": "domestic-logan",
   "metadata": {},
   "outputs": [
    {
     "data": {
      "text/html": [
       "<div>\n",
       "<style scoped>\n",
       "    .dataframe tbody tr th:only-of-type {\n",
       "        vertical-align: middle;\n",
       "    }\n",
       "\n",
       "    .dataframe tbody tr th {\n",
       "        vertical-align: top;\n",
       "    }\n",
       "\n",
       "    .dataframe thead th {\n",
       "        text-align: right;\n",
       "    }\n",
       "</style>\n",
       "<table border=\"1\" class=\"dataframe\">\n",
       "  <thead>\n",
       "    <tr style=\"text-align: right;\">\n",
       "      <th></th>\n",
       "      <th>Created_Date</th>\n",
       "      <th>Tweet Id</th>\n",
       "      <th>Text</th>\n",
       "      <th>Rendered Tweet</th>\n",
       "      <th>User_Name</th>\n",
       "      <th>Followers</th>\n",
       "      <th>Friends</th>\n",
       "      <th>Favourites</th>\n",
       "      <th>Media</th>\n",
       "      <th>Location</th>\n",
       "      <th>...</th>\n",
       "      <th>Place</th>\n",
       "      <th>Hashtags</th>\n",
       "      <th>Source</th>\n",
       "      <th>Mentions</th>\n",
       "      <th>tags</th>\n",
       "      <th>clean_text</th>\n",
       "      <th>sentiment_score</th>\n",
       "      <th>senti_label</th>\n",
       "      <th>words</th>\n",
       "      <th>Topic</th>\n",
       "    </tr>\n",
       "  </thead>\n",
       "  <tbody>\n",
       "    <tr>\n",
       "      <th>0</th>\n",
       "      <td>2021-09-09 23:59:56+00:00</td>\n",
       "      <td>1436117197399674881</td>\n",
       "      <td>@badlangel27 He should be playing against Tom ...</td>\n",
       "      <td>@badlangel27 He should be playing against Tom ...</td>\n",
       "      <td>randysavage6699</td>\n",
       "      <td>2528</td>\n",
       "      <td>1999.0</td>\n",
       "      <td>39564.0</td>\n",
       "      <td>860</td>\n",
       "      <td>on the road</td>\n",
       "      <td>...</td>\n",
       "      <td>NaN</td>\n",
       "      <td>NaN</td>\n",
       "      <td>&lt;a href=\"http://twitter.com/#!/download/ipad\" ...</td>\n",
       "      <td>[User(username='badlangel27', id=2743291521, d...</td>\n",
       "      <td>[]</td>\n",
       "      <td>He should be playing against Tom Brady should...</td>\n",
       "      <td>0.000000</td>\n",
       "      <td>neutral</td>\n",
       "      <td>[playing, Tom, Brady, give, motivation]</td>\n",
       "      <td>4</td>\n",
       "    </tr>\n",
       "    <tr>\n",
       "      <th>1</th>\n",
       "      <td>2021-09-09 23:59:54+00:00</td>\n",
       "      <td>1436117188939862019</td>\n",
       "      <td>@JHugo13 Tom Brady</td>\n",
       "      <td>@JHugo13 Tom Brady</td>\n",
       "      <td>Persona956</td>\n",
       "      <td>1127</td>\n",
       "      <td>92.0</td>\n",
       "      <td>3.0</td>\n",
       "      <td>96</td>\n",
       "      <td>Texas, USA</td>\n",
       "      <td>...</td>\n",
       "      <td>NaN</td>\n",
       "      <td>NaN</td>\n",
       "      <td>&lt;a href=\"http://twitter.com/download/android\" ...</td>\n",
       "      <td>[User(username='JHugo13', id=75009909, display...</td>\n",
       "      <td>[]</td>\n",
       "      <td>Tom Brady</td>\n",
       "      <td>0.000000</td>\n",
       "      <td>neutral</td>\n",
       "      <td>[Tom, Brady]</td>\n",
       "      <td>2</td>\n",
       "    </tr>\n",
       "    <tr>\n",
       "      <th>2</th>\n",
       "      <td>2021-09-09 23:59:53+00:00</td>\n",
       "      <td>1436117184623882242</td>\n",
       "      <td>RIGHT NOW: The 2021 NFL season is starting and...</td>\n",
       "      <td>RIGHT NOW: The 2021 NFL season is starting and...</td>\n",
       "      <td>NBC10Boston</td>\n",
       "      <td>33683</td>\n",
       "      <td>442.0</td>\n",
       "      <td>1517.0</td>\n",
       "      <td>18036</td>\n",
       "      <td>Boston, MA</td>\n",
       "      <td>...</td>\n",
       "      <td>NaN</td>\n",
       "      <td>NaN</td>\n",
       "      <td>&lt;a href=\"http://www.socialflow.com\" rel=\"nofol...</td>\n",
       "      <td>NaN</td>\n",
       "      <td>[]</td>\n",
       "      <td>RIGHT NOW: The 2021 NFL season is starting and...</td>\n",
       "      <td>0.054762</td>\n",
       "      <td>neutral</td>\n",
       "      <td>[RIGHT, NFL, season, starting, surprise, Tom, ...</td>\n",
       "      <td>0</td>\n",
       "    </tr>\n",
       "  </tbody>\n",
       "</table>\n",
       "<p>3 rows × 25 columns</p>\n",
       "</div>"
      ],
      "text/plain": [
       "                Created_Date             Tweet Id  \\\n",
       "0  2021-09-09 23:59:56+00:00  1436117197399674881   \n",
       "1  2021-09-09 23:59:54+00:00  1436117188939862019   \n",
       "2  2021-09-09 23:59:53+00:00  1436117184623882242   \n",
       "\n",
       "                                                Text  \\\n",
       "0  @badlangel27 He should be playing against Tom ...   \n",
       "1                                 @JHugo13 Tom Brady   \n",
       "2  RIGHT NOW: The 2021 NFL season is starting and...   \n",
       "\n",
       "                                      Rendered Tweet        User_Name  \\\n",
       "0  @badlangel27 He should be playing against Tom ...  randysavage6699   \n",
       "1                                 @JHugo13 Tom Brady       Persona956   \n",
       "2  RIGHT NOW: The 2021 NFL season is starting and...      NBC10Boston   \n",
       "\n",
       "  Followers  Friends  Favourites  Media      Location  ...  Place  Hashtags  \\\n",
       "0      2528   1999.0     39564.0    860  on the road   ...    NaN       NaN   \n",
       "1      1127     92.0         3.0     96    Texas, USA  ...    NaN       NaN   \n",
       "2     33683    442.0      1517.0  18036    Boston, MA  ...    NaN       NaN   \n",
       "\n",
       "                                              Source  \\\n",
       "0  <a href=\"http://twitter.com/#!/download/ipad\" ...   \n",
       "1  <a href=\"http://twitter.com/download/android\" ...   \n",
       "2  <a href=\"http://www.socialflow.com\" rel=\"nofol...   \n",
       "\n",
       "                                            Mentions tags  \\\n",
       "0  [User(username='badlangel27', id=2743291521, d...   []   \n",
       "1  [User(username='JHugo13', id=75009909, display...   []   \n",
       "2                                                NaN   []   \n",
       "\n",
       "                                          clean_text sentiment_score  \\\n",
       "0   He should be playing against Tom Brady should...        0.000000   \n",
       "1                                          Tom Brady        0.000000   \n",
       "2  RIGHT NOW: The 2021 NFL season is starting and...        0.054762   \n",
       "\n",
       "  senti_label                                              words Topic  \n",
       "0     neutral            [playing, Tom, Brady, give, motivation]     4  \n",
       "1     neutral                                       [Tom, Brady]     2  \n",
       "2     neutral  [RIGHT, NFL, season, starting, surprise, Tom, ...     0  \n",
       "\n",
       "[3 rows x 25 columns]"
      ]
     },
     "execution_count": 9,
     "metadata": {},
     "output_type": "execute_result"
    }
   ],
   "source": [
    "df.head(3)"
   ]
  },
  {
   "cell_type": "code",
   "execution_count": 10,
   "id": "virtual-logic",
   "metadata": {},
   "outputs": [
    {
     "name": "stdout",
     "output_type": "stream",
     "text": [
      "Amid the Brady tweets from 2021/09/09 ~ 2022/01/19 :\n",
      "28424 tweets are highly positive, that is 4.116 % of the total tweets\n",
      "8097 tweets are highly negative, that is 1.173 % of the total tweets\n"
     ]
    }
   ],
   "source": [
    "POS_count = df[df['senti_label']=='POSITIVE'].shape[0]\n",
    "POS_ratio = POS_count/df.shape[0]\n",
    "\n",
    "NEG_count = df[df['senti_label']=='NEGATIVE'].shape[0]\n",
    "NEG_ratio = NEG_count/df.shape[0]\n",
    "\n",
    "print('Amid the Brady tweets from 2021/09/09 ~ 2022/01/19 :')\n",
    "print(POS_count,'tweets are highly positive, that is',round(POS_ratio*100,3),'% of the total tweets')\n",
    "print(NEG_count,'tweets are highly negative, that is',round(NEG_ratio*100,3),'% of the total tweets')"
   ]
  },
  {
   "cell_type": "markdown",
   "id": "placed-commission",
   "metadata": {},
   "source": [
    "### Topic/Sentiment Exploration"
   ]
  },
  {
   "cell_type": "code",
   "execution_count": 11,
   "id": "compound-default",
   "metadata": {},
   "outputs": [
    {
     "data": {
      "text/plain": [
       "dict_keys(['topic 4', 'topic 2', 'topic 0', 'topic 1', 'topic 3'])"
      ]
     },
     "execution_count": 11,
     "metadata": {},
     "output_type": "execute_result"
    }
   ],
   "source": [
    "dic = dict()\n",
    "\n",
    "for i in df.Topic.unique():\n",
    "    label = 'topic ' + str(i)\n",
    "    data = df[df['Topic']==i]\n",
    "    dic[label] = data\n",
    "\n",
    "dic.keys()"
   ]
  },
  {
   "cell_type": "code",
   "execution_count": 12,
   "id": "sorted-married",
   "metadata": {},
   "outputs": [],
   "source": [
    "def topic_summary(idx):\n",
    "    label = 'topic ' + str(idx)\n",
    "    data = dic[label]\n",
    "    \n",
    "    c = Counter()\n",
    "    for i in data['tags']:\n",
    "        c.update(Counter(i))\n",
    "        \n",
    "    top = c.most_common(25)\n",
    "    top_tags = []\n",
    "    for combo in top:\n",
    "        top_tags.append(combo[0])\n",
    "    \n",
    "    top_words = topic_dict[idx]\n",
    "    \n",
    "    total = data.shape[0]\n",
    "    senti_group = data.groupby('senti_label').count()['Topic']\n",
    "    POS = senti_group['POSITIVE']\n",
    "    NEG = senti_group['NEGATIVE']\n",
    "    pos = senti_group['positive']\n",
    "    neg = senti_group['negative']\n",
    "    neu = senti_group['neutral']\n",
    "    pos_ratio = round(100*(POS + pos) / total,3)\n",
    "    neg_ratio = round(100*(NEG + neg) / total,3)\n",
    "    neu_ratio = round(100*neu/total,3)\n",
    "    \n",
    "    score = round(data['sentiment_score'].mean(),3)\n",
    "    \n",
    "    print('There are a total of', total, f'tweets in topic #{idx}')\n",
    "    print(' ')\n",
    "    print('Top 25 words : ',top_words)\n",
    "    print(' ')\n",
    "    print('Top 25 tags : ',top_tags)\n",
    "    print(' ')\n",
    "    print(round(100*POS/total,3), '% of the tweets in this topic cluster are highly positive,')\n",
    "    print('while', round(100*NEG/total,3), '% of the tweets are highly negative')\n",
    "    print(' ')\n",
    "    print(POS + pos, 'tweets are scored as positive, while',NEG + neg , 'tweets are negative')\n",
    "    print(pos_ratio,'% positive tweets,',neu_ratio,'% neutral, and', neg_ratio,'% negative')\n",
    "    print('The average sentiment score is', score)"
   ]
  },
  {
   "cell_type": "code",
   "execution_count": 13,
   "id": "expressed-brain",
   "metadata": {},
   "outputs": [
    {
     "name": "stdout",
     "output_type": "stream",
     "text": [
      "There are a total of 146085 tweets in topic #0\n",
      " \n",
      "Top 25 words :  ['allen', 'record', 'greatest', 'career', 'season', 'ball', 'stop', 'way', 'sure', 'pass', 'going', 'big', 'gets', 'playoff', 'td', 'nfl', 'didn', 'ab', 'time', 'got', 'right', 'aaron', 'rodgers', 'tom', 'brady']\n",
      " \n",
      "Top 25 tags :  ['NFL', 'TomBrady', 'GoBucs', 'dogelon', 'dogelonmars', 'DraftKingsNFT', 'Bucs', 'Buccaneers', 'Patriots', 'tombrady', 'nfl', 'GOAT', 'AutographNFT', 'thehobby', 'TB12', 'NFLTwitter', '1', 'ForeverNE', 'Eagles', 'FlyEaglesFly', 'Bitcoin', 'TheHobby', 'eBay', 'SportsCards', 'Auction']\n",
      " \n",
      "3.404 % of the tweets in this topic cluster are highly positive,\n",
      "while 0.799 % of the tweets are highly negative\n",
      " \n",
      "39559 tweets are scored as positive, while 12098 tweets are negative\n",
      "27.079 % positive tweets, 64.639 % neutral, and 8.281 % negative\n",
      "The average sentiment score is 0.087\n"
     ]
    }
   ],
   "source": [
    "topic_summary(0)"
   ]
  },
  {
   "cell_type": "code",
   "execution_count": 14,
   "id": "unlike-jacksonville",
   "metadata": {},
   "outputs": [
    {
     "name": "stdout",
     "output_type": "stream",
     "text": [
      "There are a total of 233621 tweets in topic #1\n",
      " \n",
      "Top 25 words :  ['want', 'playoffs', 'vs', 'defense', 'nfl', 'hate', 'buccaneers', 'tampa', 'won', 'patriots', 'great', 'best', 'new', 'year', 'qb', 'mvp', 'game', 'bowl', 'win', 'goat', 'team', 'lol', 'super', 'tom', 'brady']\n",
      " \n",
      "Top 25 tags :  ['NFL', 'TomBrady', 'GoBucs', 'Patriots', 'Bucs', 'Buccaneers', 'nfl', 'tombrady', 'ForeverNE', 'NFLTwitter', 'GOAT', '1', 'TB12', 'Saints', 'TBvsNE', 'TampaBayBuccaneers', 'Eagles', 'BillsMafia', 'Brady', 'TheReturn', 'SNF', 'FlyEaglesFly', 'Cowboys', 'thehobby', 'football']\n",
      " \n",
      "5.795 % of the tweets in this topic cluster are highly positive,\n",
      "while 1.251 % of the tweets are highly negative\n",
      " \n",
      "83902 tweets are scored as positive, while 20684 tweets are negative\n",
      "35.914 % positive tweets, 55.233 % neutral, and 8.854 % negative\n",
      "The average sentiment score is 0.135\n"
     ]
    }
   ],
   "source": [
    "topic_summary(1)"
   ]
  },
  {
   "cell_type": "code",
   "execution_count": 15,
   "id": "existing-berry",
   "metadata": {},
   "outputs": [
    {
     "name": "stdout",
     "output_type": "stream",
     "text": [
      "There are a total of 106075 tweets in topic #4\n",
      " \n",
      "Top 25 words :  ['bro', 'says', 'dude', 'help', 'yeah', 'amp', 'real', 'just', 'card', 'watching', 'ass', 'guy', 'really', 'years', 'old', 'better', 'look', 'let', 'said', 'does', 'love', 'man', 'like', 'brady', 'tom']\n",
      " \n",
      "Top 25 tags :  ['TomBrady', 'NFL', 'GoBucs', 'Bucs', 'GOAT', 'Buccaneers', 'Patriots', 'nfl', 'tombrady', 'thehobby', 'TB12', 'ForeverNE', 'DALvsTB', 'NFLTwitter', 'ManInTheArena', 'NFLKickoff', 'Saints', 'whodoyoucollect', 'LFG', '1', 'TampaBayBuccaneers', 'BillsMafia', 'TheReturn', 'Bitcoin', 'football']\n",
      " \n",
      "3.136 % of the tweets in this topic cluster are highly positive,\n",
      "while 0.898 % of the tweets are highly negative\n",
      " \n",
      "33046 tweets are scored as positive, while 11674 tweets are negative\n",
      "31.153 % positive tweets, 57.841 % neutral, and 11.005 % negative\n",
      "The average sentiment score is 0.092\n"
     ]
    }
   ],
   "source": [
    "topic_summary(4)"
   ]
  },
  {
   "cell_type": "markdown",
   "id": "italic-priest",
   "metadata": {},
   "source": [
    "### Didn't work out that well from topic perspective\n",
    "#### Try analyze from the sentiment perspective"
   ]
  },
  {
   "cell_type": "code",
   "execution_count": 16,
   "id": "therapeutic-crazy",
   "metadata": {},
   "outputs": [],
   "source": [
    "def senti_summary(label):\n",
    "    data = df[df['senti_label'] == label]\n",
    "    \n",
    "    c = Counter()\n",
    "    for i in data['tags']:\n",
    "        c.update(Counter(i))\n",
    "    \n",
    "    top = c.most_common(25)\n",
    "    top_tags = []\n",
    "    \n",
    "    for combo in top:\n",
    "        top_tags.append(combo[0])\n",
    "    \n",
    "    tags_df = pd.DataFrame(top,columns = ['Tag','count'])\n",
    "    \n",
    "    c1 = Counter()\n",
    "    for i in data['words']:\n",
    "        c1.update(Counter(i))\n",
    "        \n",
    "    top1 = c1.most_common(25) \n",
    "    top_words = []\n",
    "    for combo in top1:\n",
    "        top_words.append(combo[0])\n",
    "    \n",
    "    overall = df.shape[0]\n",
    "    total = data.shape[0]\n",
    "    topic_group = data.groupby('Topic').count()['senti_label']\n",
    "    \n",
    "    print('Tweets labeled as',label,'account for',np.round(100*total/overall,3),'% of the total tweets about Tom Brady')\n",
    "    print(' ')\n",
    "    print('For the tweets in this sentiment label: ')\n",
    "    print(f'Top 25 words : ',top_words)\n",
    "    print(' ')\n",
    "    print(f'Top 25 tags : ',top_tags)\n",
    "    print(' ')\n",
    "    print('the topic label distribution looks like: ', topic_group)\n"
   ]
  },
  {
   "cell_type": "code",
   "execution_count": 17,
   "id": "conservative-cherry",
   "metadata": {},
   "outputs": [
    {
     "name": "stdout",
     "output_type": "stream",
     "text": [
      "Tweets labeled as POSITIVE account for 4.116 % of the total tweets about Tom Brady\n",
      " \n",
      "For the tweets in this sentiment label: \n",
      "Top 25 words :  ['Brady', 'Tom', 'win', 'best', 'lol', 'great', 'greatest', 'ever', 'time', 'QB', 'like', 'Lol', 'NFL', 'good', 'would', 'one', 'team', 'Great', 'Bucs', 'still', 'brady', 'tom', 'football', 'get', 'amp']\n",
      " \n",
      "Top 25 tags :  ['TomBrady', 'NFL', 'GoBucs', 'Bucs', 'GOAT', 'Buccaneers', 'Patriots', 'tombrady', 'nfl', 'ForeverNE', 'NFLTwitter', 'TB12', 'NFT', 'LFG', 'TampaBayBuccaneers', '1', 'MadTrooper', 'Solana', 'NFLKickoff', 'TheReturn', 'DALvsTB', 'TampaBay', 'ManInTheArena', 'FlyEaglesFly', 'football']\n",
      " \n",
      "the topic label distribution looks like:  Topic\n",
      "0     4973\n",
      "1    13539\n",
      "2     1856\n",
      "3     4729\n",
      "4     3327\n",
      "Name: senti_label, dtype: int64\n"
     ]
    }
   ],
   "source": [
    "senti_summary('POSITIVE')"
   ]
  },
  {
   "cell_type": "code",
   "execution_count": 18,
   "id": "communist-carol",
   "metadata": {},
   "outputs": [
    {
     "name": "stdout",
     "output_type": "stream",
     "text": [
      "Tweets labeled as NEGATIVE account for 1.173 % of the total tweets about Tom Brady\n",
      " \n",
      "For the tweets in this sentiment label: \n",
      "Top 25 words :  ['Brady', 'Tom', 'hate', 'like', 'worst', 'tom', 'brady', 'stupid', 'one', 'insane', 'fucking', 'Terrible', 'would', 'throw', 'terrible', 'TOM', 'BRADY', 'still', 'shocking', 'idiot', 'video', 'fan', 'tablet', 'team', 'Microsoft']\n",
      " \n",
      "Top 25 tags :  ['TomBrady', 'NFL', 'GoBucs', 'Buccaneers', 'GOAT', 'Bucs', 'FlyEaglesFly', 'nfl', 'tombrady', 'DALvsTB', 'Patriots', 'TampaBayBuccaneers', 'Saints', 'BillsMafia', 'TB12', 'Jets', 'Diet', 'NFLTwitter', 'MNF', 'thehobby', 'NFLKickoff', 'firekellenmoore', '1', 'LFG', 'Eagles']\n",
      " \n",
      "the topic label distribution looks like:  Topic\n",
      "0    1167\n",
      "1    2923\n",
      "2    1249\n",
      "3    1805\n",
      "4     953\n",
      "Name: senti_label, dtype: int64\n"
     ]
    }
   ],
   "source": [
    "senti_summary('NEGATIVE')"
   ]
  },
  {
   "cell_type": "code",
   "execution_count": 19,
   "id": "sustained-timer",
   "metadata": {},
   "outputs": [],
   "source": [
    "df.to_pickle('Brady_topicdf.pkl')\n",
    "\n",
    "# save the complete dataframe in pickle format, for further visualization purpose\n",
    "# save as csv format will lose some feature (like tag lists)"
   ]
  },
  {
   "cell_type": "markdown",
   "id": "interested-retrieval",
   "metadata": {},
   "source": [
    "### PyLDAvis \n",
    "\n",
    "For the detailed explanation of the plot, please check out the official documentation."
   ]
  },
  {
   "cell_type": "code",
   "execution_count": 20,
   "id": "fallen-workshop",
   "metadata": {},
   "outputs": [],
   "source": [
    "import pyLDAvis\n",
    "import pyLDAvis.sklearn"
   ]
  },
  {
   "cell_type": "code",
   "execution_count": 21,
   "id": "sudden-owner",
   "metadata": {},
   "outputs": [],
   "source": [
    "pyLDAvis.enable_notebook()"
   ]
  },
  {
   "cell_type": "code",
   "execution_count": 22,
   "id": "stainless-favor",
   "metadata": {},
   "outputs": [
    {
     "name": "stderr",
     "output_type": "stream",
     "text": [
      "/opt/conda/lib/python3.7/site-packages/ipykernel/ipkernel.py:283: DeprecationWarning: `should_run_async` will not call `transform_cell` automatically in the future. Please pass the result to `transformed_cell` argument and any exception that happen during thetransform in `preprocessing_exc_tuple` in IPython 7.17 and above.\n",
      "  and should_run_async(code)\n"
     ]
    }
   ],
   "source": [
    "vis = pyLDAvis.sklearn.prepare(lda_model, data_matrix, vectorizer)\n",
    "\n",
    "pyLDAvis.save_html(vis,'Brady_LDAvis.html')"
   ]
  },
  {
   "cell_type": "code",
   "execution_count": null,
   "id": "correct-republican",
   "metadata": {},
   "outputs": [],
   "source": []
  }
 ],
 "metadata": {
  "kernelspec": {
   "display_name": "Python 3",
   "language": "python",
   "name": "python3"
  },
  "language_info": {
   "codemirror_mode": {
    "name": "ipython",
    "version": 3
   },
   "file_extension": ".py",
   "mimetype": "text/x-python",
   "name": "python",
   "nbconvert_exporter": "python",
   "pygments_lexer": "ipython3",
   "version": "3.7.10"
  }
 },
 "nbformat": 4,
 "nbformat_minor": 5
}
