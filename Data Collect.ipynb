{
 "cells": [
  {
   "cell_type": "code",
   "execution_count": null,
   "id": "organizational-calibration",
   "metadata": {},
   "outputs": [],
   "source": [
    "# this notebook can only run under python 3.8+ environment"
   ]
  },
  {
   "cell_type": "code",
   "execution_count": 1,
   "id": "reasonable-citation",
   "metadata": {},
   "outputs": [],
   "source": [
    "!pip3 install git+https://github.com/JustAnotherArchivist/snscrape.git"
   ]
  },
  {
   "cell_type": "code",
   "execution_count": 2,
   "id": "renewable-escape",
   "metadata": {},
   "outputs": [],
   "source": [
    "import snscrape\n",
    "import snscrape.modules.twitter as sntwitter\n",
    "import pandas as pd"
   ]
  },
  {
   "cell_type": "code",
   "execution_count": 3,
   "id": "heard-lincoln",
   "metadata": {},
   "outputs": [
    {
     "data": {
      "text/plain": [
       "'2021-11-01'"
      ]
     },
     "execution_count": 3,
     "metadata": {},
     "output_type": "execute_result"
    }
   ],
   "source": [
    "l=[]\n",
    "\n",
    "# input the start date and duration\n",
    "\n",
    "for i in pd.date_range('2021-10-19',periods=14, freq='D'):\n",
    "    l.append(str(i)[0:10])\n",
    "    \n",
    "l[-1]"
   ]
  },
  {
   "cell_type": "code",
   "execution_count": 4,
   "id": "wanted-insertion",
   "metadata": {},
   "outputs": [],
   "source": [
    "def get_tweet(query, start, end):\n",
    "    \n",
    "    search = query + ' -filter:retweets + since:' + start + ' until:' + end + ' lang:en'\n",
    "    result = []\n",
    "    \n",
    "    for ind,tweet in enumerate(sntwitter.TwitterSearchScraper(search).get_items()): \n",
    "            \n",
    "        # the features\n",
    "        result.append([tweet.date, tweet.id, tweet.content, tweet.renderedContent,\n",
    "        tweet.user.username,tweet.user.followersCount,tweet.user.friendsCount,\n",
    "        tweet.user.favouritesCount,tweet.user.mediaCount,tweet.user.location,\n",
    "        tweet.replyCount,tweet.retweetCount,tweet.quoteCount,tweet.likeCount,\n",
    "        tweet.lang, tweet.place, tweet.hashtags, tweet.source, tweet.mentionedUsers])\n",
    "        \n",
    "    return result\n",
    "\n",
    "    # this will return a list of tweet instances, each with the above features"
   ]
  },
  {
   "cell_type": "code",
   "execution_count": 5,
   "id": "subjective-muslim",
   "metadata": {},
   "outputs": [
    {
     "name": "stdout",
     "output_type": "stream",
     "text": [
      "(14445,19)\n"
     ]
    }
   ],
   "source": [
    "tweets_list = []\n",
    "\n",
    "# iterate through the time span day by day\n",
    "# (for some unknown reasons, if we set the time span for multiple days, the returned tweets \n",
    "# will dramatically decrease from the day-to-day approach)\n",
    "\n",
    "for i in range(len(l)-1):\n",
    "    start=l[i]\n",
    "    end=l[i+1]\n",
    "    \n",
    "    tweets= get_tweet('Damian Lillard', start, end)\n",
    "    tweets_list += tweets\n",
    "\n",
    "df1 = pd.DataFrame(tweets_list, columns=\n",
    "                ['Created_Date', 'Tweet Id', 'Text', 'Rendered Tweet',\n",
    "                'User_Name','Followers','Friends','Favourites',\n",
    "                'Media','Location','Replys','Retweets',\n",
    "                'Quotes','Likes','Language','Place','Hashtags','Source','Mentions'])\n",
    "df1.shape"
   ]
  },
  {
   "cell_type": "code",
   "execution_count": 6,
   "id": "rural-engineer",
   "metadata": {},
   "outputs": [],
   "source": [
    "# save tweets dataframe as csv file\n",
    "\n",
    "df1.to_csv(\"Dame 2021_Oct.csv\",index=False)"
   ]
  },
  {
   "cell_type": "code",
   "execution_count": null,
   "id": "unavailable-particle",
   "metadata": {},
   "outputs": [],
   "source": []
  }
 ],
 "metadata": {
  "kernelspec": {
   "display_name": "Python 3",
   "language": "python",
   "name": "python3"
  },
  "language_info": {
   "codemirror_mode": {
    "name": "ipython",
    "version": 3
   },
   "file_extension": ".py",
   "mimetype": "text/x-python",
   "name": "python",
   "nbconvert_exporter": "python",
   "pygments_lexer": "ipython3",
   "version": "3.7.10"
  }
 },
 "nbformat": 4,
 "nbformat_minor": 5
}
