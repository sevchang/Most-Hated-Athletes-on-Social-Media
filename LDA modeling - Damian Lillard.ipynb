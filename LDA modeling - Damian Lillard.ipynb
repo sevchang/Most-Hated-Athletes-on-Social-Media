{
 "cells": [
  {
   "cell_type": "code",
   "execution_count": 1,
   "id": "standing-relay",
   "metadata": {},
   "outputs": [
    {
     "name": "stderr",
     "output_type": "stream",
     "text": [
      "Slow version of gensim.models.doc2vec is being used\n",
      "Slow version of Fasttext is being used\n",
      "[nltk_data] Downloading package punkt to /opt/conda/nltk_data...\n",
      "[nltk_data]   Package punkt is already up-to-date!\n"
     ]
    }
   ],
   "source": [
    "import pandas as pd\n",
    "import numpy as np\n",
    "import gensim\n",
    "import re\n",
    "from emoji import UNICODE_EMOJI\n",
    "from textblob import TextBlob\n",
    "from collections import Counter\n",
    "import altair as alt\n",
    "\n",
    "import nltk\n",
    "from nltk.tokenize import word_tokenize\n",
    "from nltk.corpus import stopwords\n",
    "nltk.download('punkt')\n",
    "\n",
    "from sklearn.decomposition import LatentDirichletAllocation\n",
    "from sklearn.feature_extraction.text import CountVectorizer, TfidfVectorizer\n",
    "\n",
    "stops = nltk.corpus.stopwords.words('english')"
   ]
  },
  {
   "cell_type": "code",
   "execution_count": 2,
   "id": "front-radical",
   "metadata": {},
   "outputs": [
    {
     "data": {
      "text/html": [
       "<div>\n",
       "<style scoped>\n",
       "    .dataframe tbody tr th:only-of-type {\n",
       "        vertical-align: middle;\n",
       "    }\n",
       "\n",
       "    .dataframe tbody tr th {\n",
       "        vertical-align: top;\n",
       "    }\n",
       "\n",
       "    .dataframe thead th {\n",
       "        text-align: right;\n",
       "    }\n",
       "</style>\n",
       "<table border=\"1\" class=\"dataframe\">\n",
       "  <thead>\n",
       "    <tr style=\"text-align: right;\">\n",
       "      <th></th>\n",
       "      <th>Created_Date</th>\n",
       "      <th>Tweet Id</th>\n",
       "      <th>Text</th>\n",
       "      <th>Rendered Tweet</th>\n",
       "      <th>User_Name</th>\n",
       "      <th>Followers</th>\n",
       "      <th>Friends</th>\n",
       "      <th>Favourites</th>\n",
       "      <th>Media</th>\n",
       "      <th>Location</th>\n",
       "      <th>Replys</th>\n",
       "      <th>Retweets</th>\n",
       "      <th>Quotes</th>\n",
       "      <th>Likes</th>\n",
       "      <th>Language</th>\n",
       "      <th>Place</th>\n",
       "      <th>Hashtags</th>\n",
       "      <th>Source</th>\n",
       "      <th>Mentions</th>\n",
       "    </tr>\n",
       "  </thead>\n",
       "  <tbody>\n",
       "    <tr>\n",
       "      <th>0</th>\n",
       "      <td>2021-10-19 23:59:03+00:00</td>\n",
       "      <td>1450612491860463616</td>\n",
       "      <td>@beebinton Is that @Dame_Lillard ?</td>\n",
       "      <td>@beebinton Is that @Dame_Lillard ?</td>\n",
       "      <td>Thomas_Ember</td>\n",
       "      <td>2892</td>\n",
       "      <td>457</td>\n",
       "      <td>18914</td>\n",
       "      <td>1752</td>\n",
       "      <td>🇨🇦</td>\n",
       "      <td>1</td>\n",
       "      <td>0</td>\n",
       "      <td>0</td>\n",
       "      <td>1</td>\n",
       "      <td>en</td>\n",
       "      <td>NaN</td>\n",
       "      <td>NaN</td>\n",
       "      <td>&lt;a href=\"http://twitter.com/download/android\" ...</td>\n",
       "      <td>[User(username='beebinton', id=145747165857547...</td>\n",
       "    </tr>\n",
       "    <tr>\n",
       "      <th>1</th>\n",
       "      <td>2021-10-19 23:57:26+00:00</td>\n",
       "      <td>1450612083976925185</td>\n",
       "      <td>@CHold @Dame_Lillard I need to tell myself thi...</td>\n",
       "      <td>@CHold @Dame_Lillard I need to tell myself thi...</td>\n",
       "      <td>marc_fuller</td>\n",
       "      <td>47</td>\n",
       "      <td>171</td>\n",
       "      <td>6740</td>\n",
       "      <td>73</td>\n",
       "      <td>NaN</td>\n",
       "      <td>0</td>\n",
       "      <td>0</td>\n",
       "      <td>0</td>\n",
       "      <td>3</td>\n",
       "      <td>en</td>\n",
       "      <td>NaN</td>\n",
       "      <td>NaN</td>\n",
       "      <td>&lt;a href=\"http://twitter.com/download/iphone\" r...</td>\n",
       "      <td>[User(username='CHold', id=14328072, displayna...</td>\n",
       "    </tr>\n",
       "    <tr>\n",
       "      <th>2</th>\n",
       "      <td>2021-10-19 23:56:05+00:00</td>\n",
       "      <td>1450611743890182146</td>\n",
       "      <td>Day 25 for asking @Dame_Lillard for a follow back</td>\n",
       "      <td>Day 25 for asking @Dame_Lillard for a follow back</td>\n",
       "      <td>EdwinSiu10</td>\n",
       "      <td>1126</td>\n",
       "      <td>2282</td>\n",
       "      <td>1715</td>\n",
       "      <td>171</td>\n",
       "      <td>Block = I own you</td>\n",
       "      <td>0</td>\n",
       "      <td>0</td>\n",
       "      <td>0</td>\n",
       "      <td>0</td>\n",
       "      <td>en</td>\n",
       "      <td>NaN</td>\n",
       "      <td>NaN</td>\n",
       "      <td>&lt;a href=\"http://twitter.com/download/iphone\" r...</td>\n",
       "      <td>[User(username='Dame_Lillard', id=267425142, d...</td>\n",
       "    </tr>\n",
       "  </tbody>\n",
       "</table>\n",
       "</div>"
      ],
      "text/plain": [
       "                Created_Date             Tweet Id  \\\n",
       "0  2021-10-19 23:59:03+00:00  1450612491860463616   \n",
       "1  2021-10-19 23:57:26+00:00  1450612083976925185   \n",
       "2  2021-10-19 23:56:05+00:00  1450611743890182146   \n",
       "\n",
       "                                                Text  \\\n",
       "0                 @beebinton Is that @Dame_Lillard ?   \n",
       "1  @CHold @Dame_Lillard I need to tell myself thi...   \n",
       "2  Day 25 for asking @Dame_Lillard for a follow back   \n",
       "\n",
       "                                      Rendered Tweet     User_Name  Followers  \\\n",
       "0                 @beebinton Is that @Dame_Lillard ?  Thomas_Ember       2892   \n",
       "1  @CHold @Dame_Lillard I need to tell myself thi...   marc_fuller         47   \n",
       "2  Day 25 for asking @Dame_Lillard for a follow back    EdwinSiu10       1126   \n",
       "\n",
       "   Friends  Favourites  Media           Location  Replys  Retweets  Quotes  \\\n",
       "0      457       18914   1752                 🇨🇦       1         0       0   \n",
       "1      171        6740     73                NaN       0         0       0   \n",
       "2     2282        1715    171  Block = I own you       0         0       0   \n",
       "\n",
       "   Likes Language Place Hashtags  \\\n",
       "0      1       en   NaN      NaN   \n",
       "1      3       en   NaN      NaN   \n",
       "2      0       en   NaN      NaN   \n",
       "\n",
       "                                              Source  \\\n",
       "0  <a href=\"http://twitter.com/download/android\" ...   \n",
       "1  <a href=\"http://twitter.com/download/iphone\" r...   \n",
       "2  <a href=\"http://twitter.com/download/iphone\" r...   \n",
       "\n",
       "                                            Mentions  \n",
       "0  [User(username='beebinton', id=145747165857547...  \n",
       "1  [User(username='CHold', id=14328072, displayna...  \n",
       "2  [User(username='Dame_Lillard', id=267425142, d...  "
      ]
     },
     "execution_count": 2,
     "metadata": {},
     "output_type": "execute_result"
    }
   ],
   "source": [
    "df1 = pd.read_csv('Dame 2021_Oct.csv')\n",
    "df2 = pd.read_csv('Dame 2021_Nov.csv')\n",
    "df3 = pd.read_csv('Dame 2021_Dec.csv')\n",
    "df4 = pd.read_csv('Dame 2022_Jan.csv')\n",
    "\n",
    "df = pd.concat([df1,df2,df3,df4])\n",
    "df.dropna(subset=['Text'],inplace=True)\n",
    "df.head(3)"
   ]
  },
  {
   "cell_type": "code",
   "execution_count": 3,
   "id": "alive-raleigh",
   "metadata": {},
   "outputs": [],
   "source": [
    "def extract_tags(text):\n",
    "    return re.findall(\"#([a-zA-Z0-9_]{1,50})\", text)\n",
    "\n",
    "    # will return a list of tags\n",
    "\n",
    "def clean_tweet(txt): \n",
    "    temp = re.sub(\"@[A-Za-z0-9_]+\",\"\", txt)\n",
    "    temp1 = re.sub(\"#[A-Za-z0-9_]+\",\"\", temp)\n",
    "    temp2 = re.sub(r\"http\\S+\", \"\", temp1)\n",
    "    result = ''.join(i for i in temp2 if i not in UNICODE_EMOJI['en'])\n",
    "    return result\n",
    "\n",
    "    # return the cleaned tweet without any mention/tag/url/emoji\n",
    "\n",
    "\n",
    "def sentiment(cleaned_tweet):\n",
    "    blob = TextBlob(cleaned_tweet)\n",
    "    return blob.sentiment.polarity\n",
    "\n",
    "    # return the sentiment score\n",
    "    \n",
    "def sentiment_label(score):\n",
    "    if score >= 0.75:\n",
    "        return 'POSITIVE'\n",
    "    elif score >= 0.2:\n",
    "        return 'positive'\n",
    "    elif score >= -0.2:\n",
    "        return 'neutral'\n",
    "    elif score >= -0.75:\n",
    "        return 'negative'\n",
    "    else:\n",
    "        return 'NEGATIVE'\n",
    "    \n",
    "    # label the tweet based on sentiment score\n",
    "    \n",
    "def word_tokens(text): \n",
    "    tokens = word_tokenize(text)\n",
    "    result = []\n",
    "    for tok in tokens: \n",
    "        if (tok.lower().isalpha()) & (tok.lower() not in stops):\n",
    "            result.append(tok)\n",
    "    \n",
    "    return result\n",
    "    # return a list of tokens for the input text string"
   ]
  },
  {
   "cell_type": "code",
   "execution_count": 4,
   "id": "early-guatemala",
   "metadata": {},
   "outputs": [
    {
     "data": {
      "text/html": [
       "<div>\n",
       "<style scoped>\n",
       "    .dataframe tbody tr th:only-of-type {\n",
       "        vertical-align: middle;\n",
       "    }\n",
       "\n",
       "    .dataframe tbody tr th {\n",
       "        vertical-align: top;\n",
       "    }\n",
       "\n",
       "    .dataframe thead th {\n",
       "        text-align: right;\n",
       "    }\n",
       "</style>\n",
       "<table border=\"1\" class=\"dataframe\">\n",
       "  <thead>\n",
       "    <tr style=\"text-align: right;\">\n",
       "      <th></th>\n",
       "      <th>tags</th>\n",
       "      <th>clean_text</th>\n",
       "      <th>sentiment_score</th>\n",
       "      <th>senti_label</th>\n",
       "    </tr>\n",
       "  </thead>\n",
       "  <tbody>\n",
       "    <tr>\n",
       "      <th>0</th>\n",
       "      <td>[]</td>\n",
       "      <td>Is that  ?</td>\n",
       "      <td>0.000</td>\n",
       "      <td>neutral</td>\n",
       "    </tr>\n",
       "    <tr>\n",
       "      <th>1</th>\n",
       "      <td>[]</td>\n",
       "      <td>I need to tell myself this sometimes.</td>\n",
       "      <td>0.000</td>\n",
       "      <td>neutral</td>\n",
       "    </tr>\n",
       "    <tr>\n",
       "      <th>2</th>\n",
       "      <td>[]</td>\n",
       "      <td>Day 25 for asking  for a follow back</td>\n",
       "      <td>0.000</td>\n",
       "      <td>neutral</td>\n",
       "    </tr>\n",
       "    <tr>\n",
       "      <th>3</th>\n",
       "      <td>[]</td>\n",
       "      <td>yall hyping up KD for being a 7 ft Damian Lill...</td>\n",
       "      <td>0.275</td>\n",
       "      <td>positive</td>\n",
       "    </tr>\n",
       "    <tr>\n",
       "      <th>4</th>\n",
       "      <td>[]</td>\n",
       "      <td>God is Moving for You</td>\n",
       "      <td>0.000</td>\n",
       "      <td>neutral</td>\n",
       "    </tr>\n",
       "  </tbody>\n",
       "</table>\n",
       "</div>"
      ],
      "text/plain": [
       "  tags                                         clean_text  sentiment_score  \\\n",
       "0   []                                         Is that  ?            0.000   \n",
       "1   []              I need to tell myself this sometimes.            0.000   \n",
       "2   []               Day 25 for asking  for a follow back            0.000   \n",
       "3   []  yall hyping up KD for being a 7 ft Damian Lill...            0.275   \n",
       "4   []                             God is Moving for You             0.000   \n",
       "\n",
       "  senti_label  \n",
       "0     neutral  \n",
       "1     neutral  \n",
       "2     neutral  \n",
       "3    positive  \n",
       "4     neutral  "
      ]
     },
     "execution_count": 4,
     "metadata": {},
     "output_type": "execute_result"
    }
   ],
   "source": [
    "df['tags']= df.apply(lambda row: extract_tags(row['Text']), axis=1)\n",
    "\n",
    "df['clean_text']= df.apply(lambda row: clean_tweet(row['Text']), axis=1)\n",
    "df['sentiment_score']= df.apply(lambda row: sentiment(row['clean_text']), axis=1)\n",
    "df['senti_label']= df.apply(lambda row: sentiment_label(row['sentiment_score']), axis=1)\n",
    "df['words'] = df['clean_text'].apply(word_tokens)\n",
    "\n",
    "df[['tags','clean_text','sentiment_score','senti_label']].head()"
   ]
  },
  {
   "cell_type": "markdown",
   "id": "induced-certificate",
   "metadata": {},
   "source": [
    "### Latent Dirichlet Allocation"
   ]
  },
  {
   "cell_type": "code",
   "execution_count": 5,
   "id": "alternative-frank",
   "metadata": {},
   "outputs": [
    {
     "data": {
      "text/plain": [
       "<62153x1000 sparse matrix of type '<class 'numpy.float64'>'\n",
       "\twith 347528 stored elements in Compressed Sparse Row format>"
      ]
     },
     "execution_count": 5,
     "metadata": {},
     "output_type": "execute_result"
    }
   ],
   "source": [
    "vectorizer = TfidfVectorizer(min_df=10, stop_words='english',lowercase=True,max_df=0.9,max_features=1000)\n",
    "\n",
    "data_matrix = vectorizer.fit_transform(df.clean_text)\n",
    "data_matrix"
   ]
  },
  {
   "cell_type": "code",
   "execution_count": 6,
   "id": "smaller-batch",
   "metadata": {},
   "outputs": [
    {
     "name": "stdout",
     "output_type": "stream",
     "text": [
      "Top 25 words for topic #0:\n",
      "['help', 'hope', 'happy', 'ass', 'way', 'really', 'new', 'watch', 'guy', 'won', 've', 'make', 'right', 'great', 'amp', 'injury', 'dame', 'surgery', 'lakers', 'day', 'year', 'play', 'game', 'bro', 'come']\n",
      "\n",
      "\n",
      "Top 25 words for topic #1:\n",
      "['nice', 'today', 'gotta', 'run', 'mccollum', 'isn', 'didn', 'nba', 'trade', 'tonight', 'real', 'going', 'gonna', 'vs', 'fans', 'cj', 'abdominal', 'said', 'love', 'trail', 'long', 'portland', 'blazers', 'damian', 'lillard']\n",
      "\n",
      "\n",
      "Top 25 words for topic #2:\n",
      "['2021', 'start', '75', 'raiders', 'needs', 'stop', 'soon', 'lmao', 'point', 'damian', 'just', 'star', 'thank', 'lillard', 'playing', 'll', 'game', 'don', 'lol', 'like', 'got', 'dame', 'let', 'know', 'time']\n",
      "\n",
      "\n",
      "Top 25 words for topic #3:\n",
      "['carr', 'don', 'portland', 'people', 'years', 'look', 'ain', 'philly', 'fan', 'win', 'like', 'shit', 'did', 'say', 'trade', 'team', 'need', 'vote', 'best', 'want', 'good', 'think', 'just', 'man', 'dame']\n",
      "\n",
      "\n",
      "Top 25 words for topic #4:\n",
      "['anthony', 'players', 'paul', 'season', 'harden', 'career', 'westbrook', 'list', '10', 'lebron', 'james', 'nba', 'simmons', 'team', 'ben', 'points', 'steph', 'distance', 'signature', 'curry', 'better', 'voting', 'shooting', 'damian', 'lillard']\n",
      "\n",
      "\n"
     ]
    }
   ],
   "source": [
    "lda_model = LatentDirichletAllocation(n_components=5, learning_method='online', random_state=695, n_jobs = -1)\n",
    "\n",
    "lda_output = lda_model.fit_transform(data_matrix)\n",
    "topic_dict = dict()\n",
    "\n",
    "for i, topic in enumerate(lda_model.components_):\n",
    "    print(f'Top 25 words for topic #{i}:')\n",
    "    print([vectorizer.get_feature_names()[i] for i in topic.argsort()[-25:]])\n",
    "    topic_dict[i] = [vectorizer.get_feature_names()[i] for i in topic.argsort()[-25:]]\n",
    "    print('\\n')"
   ]
  },
  {
   "cell_type": "code",
   "execution_count": 7,
   "id": "bored-kinase",
   "metadata": {},
   "outputs": [
    {
     "data": {
      "text/plain": [
       "(-884721.4157279303, 1043.0058024739137)"
      ]
     },
     "execution_count": 7,
     "metadata": {},
     "output_type": "execute_result"
    }
   ],
   "source": [
    "lda_model.score(data_matrix), lda_model.perplexity(data_matrix)"
   ]
  },
  {
   "cell_type": "code",
   "execution_count": 8,
   "id": "minute-organ",
   "metadata": {},
   "outputs": [
    {
     "data": {
      "text/plain": [
       "0    0\n",
       "1    3\n",
       "2    0\n",
       "3    4\n",
       "4    4\n",
       "Name: Topic, dtype: int64"
      ]
     },
     "execution_count": 8,
     "metadata": {},
     "output_type": "execute_result"
    }
   ],
   "source": [
    "df['Topic'] = lda_output.argmax(axis=1)\n",
    "df['Topic'].head()"
   ]
  },
  {
   "cell_type": "code",
   "execution_count": 9,
   "id": "domestic-logan",
   "metadata": {},
   "outputs": [
    {
     "data": {
      "text/html": [
       "<div>\n",
       "<style scoped>\n",
       "    .dataframe tbody tr th:only-of-type {\n",
       "        vertical-align: middle;\n",
       "    }\n",
       "\n",
       "    .dataframe tbody tr th {\n",
       "        vertical-align: top;\n",
       "    }\n",
       "\n",
       "    .dataframe thead th {\n",
       "        text-align: right;\n",
       "    }\n",
       "</style>\n",
       "<table border=\"1\" class=\"dataframe\">\n",
       "  <thead>\n",
       "    <tr style=\"text-align: right;\">\n",
       "      <th></th>\n",
       "      <th>Created_Date</th>\n",
       "      <th>Tweet Id</th>\n",
       "      <th>Text</th>\n",
       "      <th>Rendered Tweet</th>\n",
       "      <th>User_Name</th>\n",
       "      <th>Followers</th>\n",
       "      <th>Friends</th>\n",
       "      <th>Favourites</th>\n",
       "      <th>Media</th>\n",
       "      <th>Location</th>\n",
       "      <th>...</th>\n",
       "      <th>Place</th>\n",
       "      <th>Hashtags</th>\n",
       "      <th>Source</th>\n",
       "      <th>Mentions</th>\n",
       "      <th>tags</th>\n",
       "      <th>clean_text</th>\n",
       "      <th>sentiment_score</th>\n",
       "      <th>senti_label</th>\n",
       "      <th>words</th>\n",
       "      <th>Topic</th>\n",
       "    </tr>\n",
       "  </thead>\n",
       "  <tbody>\n",
       "    <tr>\n",
       "      <th>0</th>\n",
       "      <td>2021-10-19 23:59:03+00:00</td>\n",
       "      <td>1450612491860463616</td>\n",
       "      <td>@beebinton Is that @Dame_Lillard ?</td>\n",
       "      <td>@beebinton Is that @Dame_Lillard ?</td>\n",
       "      <td>Thomas_Ember</td>\n",
       "      <td>2892</td>\n",
       "      <td>457</td>\n",
       "      <td>18914</td>\n",
       "      <td>1752</td>\n",
       "      <td>🇨🇦</td>\n",
       "      <td>...</td>\n",
       "      <td>NaN</td>\n",
       "      <td>NaN</td>\n",
       "      <td>&lt;a href=\"http://twitter.com/download/android\" ...</td>\n",
       "      <td>[User(username='beebinton', id=145747165857547...</td>\n",
       "      <td>[]</td>\n",
       "      <td>Is that  ?</td>\n",
       "      <td>0.0</td>\n",
       "      <td>neutral</td>\n",
       "      <td>[]</td>\n",
       "      <td>0</td>\n",
       "    </tr>\n",
       "    <tr>\n",
       "      <th>1</th>\n",
       "      <td>2021-10-19 23:57:26+00:00</td>\n",
       "      <td>1450612083976925185</td>\n",
       "      <td>@CHold @Dame_Lillard I need to tell myself thi...</td>\n",
       "      <td>@CHold @Dame_Lillard I need to tell myself thi...</td>\n",
       "      <td>marc_fuller</td>\n",
       "      <td>47</td>\n",
       "      <td>171</td>\n",
       "      <td>6740</td>\n",
       "      <td>73</td>\n",
       "      <td>NaN</td>\n",
       "      <td>...</td>\n",
       "      <td>NaN</td>\n",
       "      <td>NaN</td>\n",
       "      <td>&lt;a href=\"http://twitter.com/download/iphone\" r...</td>\n",
       "      <td>[User(username='CHold', id=14328072, displayna...</td>\n",
       "      <td>[]</td>\n",
       "      <td>I need to tell myself this sometimes.</td>\n",
       "      <td>0.0</td>\n",
       "      <td>neutral</td>\n",
       "      <td>[need, tell, sometimes]</td>\n",
       "      <td>3</td>\n",
       "    </tr>\n",
       "    <tr>\n",
       "      <th>2</th>\n",
       "      <td>2021-10-19 23:56:05+00:00</td>\n",
       "      <td>1450611743890182146</td>\n",
       "      <td>Day 25 for asking @Dame_Lillard for a follow back</td>\n",
       "      <td>Day 25 for asking @Dame_Lillard for a follow back</td>\n",
       "      <td>EdwinSiu10</td>\n",
       "      <td>1126</td>\n",
       "      <td>2282</td>\n",
       "      <td>1715</td>\n",
       "      <td>171</td>\n",
       "      <td>Block = I own you</td>\n",
       "      <td>...</td>\n",
       "      <td>NaN</td>\n",
       "      <td>NaN</td>\n",
       "      <td>&lt;a href=\"http://twitter.com/download/iphone\" r...</td>\n",
       "      <td>[User(username='Dame_Lillard', id=267425142, d...</td>\n",
       "      <td>[]</td>\n",
       "      <td>Day 25 for asking  for a follow back</td>\n",
       "      <td>0.0</td>\n",
       "      <td>neutral</td>\n",
       "      <td>[Day, asking, follow, back]</td>\n",
       "      <td>0</td>\n",
       "    </tr>\n",
       "  </tbody>\n",
       "</table>\n",
       "<p>3 rows × 25 columns</p>\n",
       "</div>"
      ],
      "text/plain": [
       "                Created_Date             Tweet Id  \\\n",
       "0  2021-10-19 23:59:03+00:00  1450612491860463616   \n",
       "1  2021-10-19 23:57:26+00:00  1450612083976925185   \n",
       "2  2021-10-19 23:56:05+00:00  1450611743890182146   \n",
       "\n",
       "                                                Text  \\\n",
       "0                 @beebinton Is that @Dame_Lillard ?   \n",
       "1  @CHold @Dame_Lillard I need to tell myself thi...   \n",
       "2  Day 25 for asking @Dame_Lillard for a follow back   \n",
       "\n",
       "                                      Rendered Tweet     User_Name  Followers  \\\n",
       "0                 @beebinton Is that @Dame_Lillard ?  Thomas_Ember       2892   \n",
       "1  @CHold @Dame_Lillard I need to tell myself thi...   marc_fuller         47   \n",
       "2  Day 25 for asking @Dame_Lillard for a follow back    EdwinSiu10       1126   \n",
       "\n",
       "   Friends  Favourites  Media           Location  ...  Place  Hashtags  \\\n",
       "0      457       18914   1752                 🇨🇦  ...    NaN       NaN   \n",
       "1      171        6740     73                NaN  ...    NaN       NaN   \n",
       "2     2282        1715    171  Block = I own you  ...    NaN       NaN   \n",
       "\n",
       "                                              Source  \\\n",
       "0  <a href=\"http://twitter.com/download/android\" ...   \n",
       "1  <a href=\"http://twitter.com/download/iphone\" r...   \n",
       "2  <a href=\"http://twitter.com/download/iphone\" r...   \n",
       "\n",
       "                                            Mentions tags  \\\n",
       "0  [User(username='beebinton', id=145747165857547...   []   \n",
       "1  [User(username='CHold', id=14328072, displayna...   []   \n",
       "2  [User(username='Dame_Lillard', id=267425142, d...   []   \n",
       "\n",
       "                                clean_text sentiment_score senti_label  \\\n",
       "0                               Is that  ?             0.0     neutral   \n",
       "1    I need to tell myself this sometimes.             0.0     neutral   \n",
       "2     Day 25 for asking  for a follow back             0.0     neutral   \n",
       "\n",
       "                         words Topic  \n",
       "0                           []     0  \n",
       "1      [need, tell, sometimes]     3  \n",
       "2  [Day, asking, follow, back]     0  \n",
       "\n",
       "[3 rows x 25 columns]"
      ]
     },
     "execution_count": 9,
     "metadata": {},
     "output_type": "execute_result"
    }
   ],
   "source": [
    "df.head(3)"
   ]
  },
  {
   "cell_type": "code",
   "execution_count": 10,
   "id": "virtual-logic",
   "metadata": {},
   "outputs": [
    {
     "name": "stdout",
     "output_type": "stream",
     "text": [
      "Amid the Damian Lillard tweets from 2021/10/19 ~ 2022/01/19 :\n",
      "2305 tweets are highly positive, that is 3.709 % of the total tweets\n",
      "493 tweets are highly negative, that is 0.793 % of the total tweets\n"
     ]
    }
   ],
   "source": [
    "POS_count = df[df['senti_label']=='POSITIVE'].shape[0]\n",
    "POS_ratio = POS_count/df.shape[0]\n",
    "\n",
    "NEG_count = df[df['senti_label']=='NEGATIVE'].shape[0]\n",
    "NEG_ratio = NEG_count/df.shape[0]\n",
    "\n",
    "print('Amid the Damian Lillard tweets from 2021/10/19 ~ 2022/01/19 :')\n",
    "print(POS_count,'tweets are highly positive, that is',round(POS_ratio*100,3),'% of the total tweets')\n",
    "print(NEG_count,'tweets are highly negative, that is',round(NEG_ratio*100,3),'% of the total tweets')"
   ]
  },
  {
   "cell_type": "markdown",
   "id": "placed-commission",
   "metadata": {},
   "source": [
    "### Topic/Sentiment Exploration"
   ]
  },
  {
   "cell_type": "code",
   "execution_count": 11,
   "id": "compound-default",
   "metadata": {},
   "outputs": [
    {
     "data": {
      "text/plain": [
       "dict_keys(['topic 0', 'topic 3', 'topic 4', 'topic 1', 'topic 2'])"
      ]
     },
     "execution_count": 11,
     "metadata": {},
     "output_type": "execute_result"
    }
   ],
   "source": [
    "dic = dict()\n",
    "\n",
    "for i in df.Topic.unique():\n",
    "    label = 'topic ' + str(i)\n",
    "    data = df[df['Topic']==i]\n",
    "    dic[label] = data\n",
    "\n",
    "dic.keys()"
   ]
  },
  {
   "cell_type": "code",
   "execution_count": 12,
   "id": "sorted-married",
   "metadata": {},
   "outputs": [],
   "source": [
    "def topic_summary(idx):\n",
    "    label = 'topic ' + str(idx)\n",
    "    data = dic[label]\n",
    "    \n",
    "    c = Counter()\n",
    "    for i in data['tags']:\n",
    "        c.update(Counter(i))\n",
    "        \n",
    "    top = c.most_common(25)\n",
    "    top_tags = []\n",
    "    for combo in top:\n",
    "        top_tags.append(combo[0])\n",
    "    \n",
    "    top_words = topic_dict[idx]\n",
    "    \n",
    "    total = data.shape[0]\n",
    "    senti_group = data.groupby('senti_label').count()['Topic']\n",
    "    POS = senti_group['POSITIVE']\n",
    "    NEG = senti_group['NEGATIVE']\n",
    "    pos = senti_group['positive']\n",
    "    neg = senti_group['negative']\n",
    "    neu = senti_group['neutral']\n",
    "    pos_ratio = round(100*(POS + pos) / total,3)\n",
    "    neg_ratio = round(100*(NEG + neg) / total,3)\n",
    "    neu_ratio = round(100*neu/total,3)\n",
    "    \n",
    "    score = round(data['sentiment_score'].mean(),3)\n",
    "    \n",
    "    print('There are a total of', total, f'tweets in topic #{idx}')\n",
    "    print(' ')\n",
    "    print('Top 25 words : ',top_words)\n",
    "    print(' ')\n",
    "    print('Top 25 tags : ',top_tags)\n",
    "    print(' ')\n",
    "    print(round(100*POS/total,3), '% of the tweets in this topic cluster are highly positive,')\n",
    "    print('while', round(100*NEG/total,3), '% of the tweets are highly negative')\n",
    "    print(' ')\n",
    "    print(POS + pos, 'tweets are scored as positive, while',NEG + neg , 'tweets are negative')\n",
    "    print(pos_ratio,'% positive tweets,',neu_ratio,'% neutral, and', neg_ratio,'% negative')\n",
    "    print('The average sentiment score is', score)"
   ]
  },
  {
   "cell_type": "code",
   "execution_count": 13,
   "id": "expressed-brain",
   "metadata": {},
   "outputs": [
    {
     "name": "stdout",
     "output_type": "stream",
     "text": [
      "There are a total of 14741 tweets in topic #0\n",
      " \n",
      "Top 25 words :  ['help', 'hope', 'happy', 'ass', 'way', 'really', 'new', 'watch', 'guy', 'won', 've', 'make', 'right', 'great', 'amp', 'injury', 'dame', 'surgery', 'lakers', 'day', 'year', 'play', 'game', 'bro', 'come']\n",
      " \n",
      "Top 25 tags :  ['NBAAllStar', 'DamianLillard', 'RipCity', 'NBA', 'NBA75', 'ripcity', 'damianlillard', 'Blazers', 'NBATwitter', 'DameTime', 'nba', 'dametime', 'thehobby', 'basketball', 'GamblingTwitter', 'SUGA', 'trailblazers', 'RaiderNation', 'LakeShow', '039', 'Portland', 'damedolla', 'Trailblazers', 'NBATopShotThis', 'Sixers']\n",
      " \n",
      "4.036 % of the tweets in this topic cluster are highly positive,\n",
      "while 0.834 % of the tweets are highly negative\n",
      " \n",
      "3932 tweets are scored as positive, while 1242 tweets are negative\n",
      "26.674 % positive tweets, 64.901 % neutral, and 8.425 % negative\n",
      "The average sentiment score is 0.088\n"
     ]
    }
   ],
   "source": [
    "topic_summary(0)"
   ]
  },
  {
   "cell_type": "code",
   "execution_count": 14,
   "id": "unlike-jacksonville",
   "metadata": {},
   "outputs": [
    {
     "name": "stdout",
     "output_type": "stream",
     "text": [
      "There are a total of 11334 tweets in topic #1\n",
      " \n",
      "Top 25 words :  ['nice', 'today', 'gotta', 'run', 'mccollum', 'isn', 'didn', 'nba', 'trade', 'tonight', 'real', 'going', 'gonna', 'vs', 'fans', 'cj', 'abdominal', 'said', 'love', 'trail', 'long', 'portland', 'blazers', 'damian', 'lillard']\n",
      " \n",
      "Top 25 tags :  ['RipCity', 'NBA', 'NBAAllStar', 'NBATopShotThis', 'NBATwitter', 'NBA75', 'DamianLillard', 'Blazers', 'Waterfall', 'TrailBlazers', 'WATERFALL', 'waterfall', 'sports', 'nba', 'feedly', 'ripcity', 'trailblazers', 'PortlandTrailBlazers', 'damianlillard', 'thehobby', 'Airdrop', 'basketball', 'Portland', 'Sixers', 'NBA2K22MYTEAM']\n",
      " \n",
      "2.603 % of the tweets in this topic cluster are highly positive,\n",
      "while 0.6 % of the tweets are highly negative\n",
      " \n",
      "2511 tweets are scored as positive, while 829 tweets are negative\n",
      "22.155 % positive tweets, 70.531 % neutral, and 7.314 % negative\n",
      "The average sentiment score is 0.067\n"
     ]
    }
   ],
   "source": [
    "topic_summary(1)"
   ]
  },
  {
   "cell_type": "code",
   "execution_count": 15,
   "id": "existing-berry",
   "metadata": {},
   "outputs": [
    {
     "name": "stdout",
     "output_type": "stream",
     "text": [
      "There are a total of 13297 tweets in topic #4\n",
      " \n",
      "Top 25 words :  ['anthony', 'players', 'paul', 'season', 'harden', 'career', 'westbrook', 'list', '10', 'lebron', 'james', 'nba', 'simmons', 'team', 'ben', 'points', 'steph', 'distance', 'signature', 'curry', 'better', 'voting', 'shooting', 'damian', 'lillard']\n",
      " \n",
      "Top 25 tags :  ['DamianSignatureMove', 'NBA', 'NBA75', 'RipCity', 'NBAAllStar', 'DamianLillard', 'NBATwitter', 'Blazers', 'Sixers', 'GamblingTwitter', '1', 'DubNation', 'nba', 'sports', 'ripcity', 'TTFL', 'NBATopShotThis', 'damianlillard', 'Trailblazers', 'LakeShow', 'feedly', 'TrailBlazers', 'Lakers', 'TopShotThanksgiving', '76ers']\n",
      " \n",
      "2.068 % of the tweets in this topic cluster are highly positive,\n",
      "while 0.79 % of the tweets are highly negative\n",
      " \n",
      "4104 tweets are scored as positive, while 1038 tweets are negative\n",
      "30.864 % positive tweets, 61.33 % neutral, and 7.806 % negative\n",
      "The average sentiment score is 0.113\n"
     ]
    }
   ],
   "source": [
    "topic_summary(4)"
   ]
  },
  {
   "cell_type": "markdown",
   "id": "italic-priest",
   "metadata": {},
   "source": [
    "### Didn't work out that well from topic perspective\n",
    "#### Try analyze from the sentiment perspective"
   ]
  },
  {
   "cell_type": "code",
   "execution_count": 16,
   "id": "therapeutic-crazy",
   "metadata": {},
   "outputs": [],
   "source": [
    "def senti_summary(label):\n",
    "    data = df[df['senti_label'] == label]\n",
    "    \n",
    "    c = Counter()\n",
    "    for i in data['tags']:\n",
    "        c.update(Counter(i))\n",
    "    \n",
    "    top = c.most_common(25)\n",
    "    top_tags = []\n",
    "    \n",
    "    for combo in top:\n",
    "        top_tags.append(combo[0])\n",
    "    \n",
    "    tags_df = pd.DataFrame(top,columns = ['Tag','count'])\n",
    "    \n",
    "    c1 = Counter()\n",
    "    for i in data['words']:\n",
    "        c1.update(Counter(i))\n",
    "        \n",
    "    top1 = c1.most_common(25) \n",
    "    top_words = []\n",
    "    for combo in top1:\n",
    "        top_words.append(combo[0])\n",
    "    \n",
    "    overall = df.shape[0]\n",
    "    total = data.shape[0]\n",
    "    topic_group = data.groupby('Topic').count()['senti_label']\n",
    "    \n",
    "    print('Tweets labeled as',label,'account for',np.round(100*total/overall,3),'% of the total tweets about Damian Lillard')\n",
    "    print(' ')\n",
    "    print('For the tweets in this sentiment label: ')\n",
    "    print(f'Top 25 words : ',top_words)\n",
    "    print(' ')\n",
    "    print(f'Top 25 tags : ',top_tags)\n",
    "    print(' ')\n",
    "    print('the topic label distribution looks like: ', topic_group)\n"
   ]
  },
  {
   "cell_type": "code",
   "execution_count": 17,
   "id": "conservative-cherry",
   "metadata": {},
   "outputs": [
    {
     "name": "stdout",
     "output_type": "stream",
     "text": [
      "Tweets labeled as POSITIVE account for 3.709 % of the total tweets about Damian Lillard\n",
      " \n",
      "For the tweets in this sentiment label: \n",
      "Top 25 words :  ['Damian', 'Lillard', 'win', 'lol', 'best', 'great', 'Dame', 'Lol', 'Blazers', 'NBA', 'Portland', 'team', 'time', 'happy', 'get', 'would', 'player', 'good', 'greatest', 'one', 'Best', 'amp', 'like', 'na', 'PTS']\n",
      " \n",
      "Top 25 tags :  ['NBAAllStar', 'RipCity', 'DamianLillard', 'NBA75', 'NBA', 'ripcity', 'DameTime', 'damianlillard', 'SUGA', 'NBATopShotThis', 'Sixers', 'DFS', 'InvestDFS', 'TimeToInvest', 'BTS', 'sports', 'RaiderNation', 'nba', 'thehobby', 'NBATwitter', 'feedly', 'truth', 'WeTheNorth', 'TTFL', 'TopShotThanksgiving']\n",
      " \n",
      "the topic label distribution looks like:  Topic\n",
      "0    595\n",
      "1    295\n",
      "2    487\n",
      "3    653\n",
      "4    275\n",
      "Name: senti_label, dtype: int64\n"
     ]
    }
   ],
   "source": [
    "senti_summary('POSITIVE')"
   ]
  },
  {
   "cell_type": "code",
   "execution_count": 18,
   "id": "communist-carol",
   "metadata": {},
   "outputs": [
    {
     "name": "stdout",
     "output_type": "stream",
     "text": [
      "Tweets labeled as NEGATIVE account for 0.793 % of the total tweets about Damian Lillard\n",
      " \n",
      "For the tweets in this sentiment label: \n",
      "Top 25 words :  ['Damian', 'Lillard', 'Base', 'Set', 'bought', 'worst', 'hate', 'Series', 'ETH', 'Floor', 'terrible', 'shooting', 'Blazers', 'Dame', 'lillard', 'horrible', 'stupid', 'like', 'team', 'Portland', 'need', 'Moment', 'get', 'start', 'na']\n",
      " \n",
      "Top 25 tags :  ['RipCity', 'thehobby', 'tradingcards', 'whodoyoucollect', '1', '1218', 'NBA75', 'NBA', '1009', 'sports', '869', '397', 'NBAAllStar', '1404', '1204', 'NBATopShotThis', '75', '1323', '447', '824', '4', '28', '951', '1067', '868']\n",
      " \n",
      "the topic label distribution looks like:  Topic\n",
      "0    123\n",
      "1     68\n",
      "2    129\n",
      "3     68\n",
      "4    105\n",
      "Name: senti_label, dtype: int64\n"
     ]
    }
   ],
   "source": [
    "senti_summary('NEGATIVE')"
   ]
  },
  {
   "cell_type": "markdown",
   "id": "interested-retrieval",
   "metadata": {},
   "source": [
    "### PyLDAvis \n",
    "\n",
    "For the detailed explanation of the plot, please check out the official documentation, not going to explain everything here."
   ]
  },
  {
   "cell_type": "code",
   "execution_count": 19,
   "id": "fallen-workshop",
   "metadata": {},
   "outputs": [],
   "source": [
    "import pyLDAvis\n",
    "import pyLDAvis.sklearn\n",
    "pyLDAvis.enable_notebook()"
   ]
  },
  {
   "cell_type": "code",
   "execution_count": 20,
   "id": "stainless-favor",
   "metadata": {},
   "outputs": [
    {
     "name": "stderr",
     "output_type": "stream",
     "text": [
      "/opt/conda/lib/python3.7/site-packages/ipykernel/ipkernel.py:283: DeprecationWarning: `should_run_async` will not call `transform_cell` automatically in the future. Please pass the result to `transformed_cell` argument and any exception that happen during thetransform in `preprocessing_exc_tuple` in IPython 7.17 and above.\n",
      "  and should_run_async(code)\n"
     ]
    },
    {
     "data": {
      "text/html": [
       "\n",
       "<link rel=\"stylesheet\" type=\"text/css\" href=\"https://cdn.rawgit.com/bmabey/pyLDAvis/files/ldavis.v1.0.0.css\">\n",
       "\n",
       "\n",
       "<div id=\"ldavis_el2721399812154466083542884847\"></div>\n",
       "<script type=\"text/javascript\">\n",
       "\n",
       "var ldavis_el2721399812154466083542884847_data = {\"mdsDat\": {\"x\": [-0.23358752755594833, -0.289604865144336, 0.2175708878439311, 0.22539165729943092, 0.08022984755692252], \"y\": [0.08477764131200949, -0.014926568417571692, -0.1799763387816631, 0.3155270067177676, -0.20540174083054233], \"topics\": [1, 2, 3, 4, 5], \"cluster\": [1, 1, 1, 1, 1], \"Freq\": [22.574441087108237, 19.785113400764637, 19.765206337507795, 19.30047545063821, 18.574763723981118]}, \"tinfo\": {\"Term\": [\"lillard\", \"damian\", \"blazers\", \"dame\", \"come\", \"bro\", \"know\", \"man\", \"shooting\", \"play\", \"let\", \"time\", \"portland\", \"long\", \"trail\", \"voting\", \"think\", \"want\", \"curry\", \"good\", \"love\", \"game\", \"best\", \"signature\", \"better\", \"vote\", \"distance\", \"year\", \"got\", \"just\", \"shooting\", \"voting\", \"curry\", \"signature\", \"distance\", \"steph\", \"ben\", \"simmons\", \"james\", \"lebron\", \"list\", \"westbrook\", \"career\", \"harden\", \"paul\", \"anthony\", \"saying\", \"young\", \"russell\", \"ts\", \"fuck\", \"klay\", \"assists\", \"stephen\", \"kevin\", \"lot\", \"dwight\", \"20\", \"davis\", \"true\", \"points\", \"better\", \"10\", \"lillard\", \"damian\", \"nba\", \"team\", \"players\", \"season\", \"trade\", \"blazers\", \"trail\", \"long\", \"said\", \"abdominal\", \"cj\", \"fans\", \"vs\", \"gonna\", \"real\", \"didn\", \"isn\", \"mccollum\", \"run\", \"gotta\", \"nice\", \"stay\", \"week\", \"talk\", \"says\", \"believe\", \"coming\", \"future\", \"cool\", \"news\", \"happen\", \"little\", \"wait\", \"end\", \"west\", \"damian\", \"lillard\", \"portland\", \"love\", \"going\", \"tonight\", \"today\", \"trade\", \"nba\", \"night\", \"come\", \"bro\", \"play\", \"day\", \"lakers\", \"surgery\", \"injury\", \"great\", \"ve\", \"guy\", \"watch\", \"ass\", \"happy\", \"hope\", \"retweet\", \"favorite\", \"sure\", \"pts\", \"respect\", \"tweet\", \"guys\", \"free\", \"thanks\", \"grind\", \"ur\", \"gt\", \"tho\", \"check\", \"hell\", \"defense\", \"won\", \"help\", \"year\", \"game\", \"amp\", \"really\", \"make\", \"right\", \"new\", \"way\", \"dame\", \"big\", \"man\", \"want\", \"best\", \"vote\", \"say\", \"did\", \"shit\", \"think\", \"philly\", \"ain\", \"look\", \"years\", \"people\", \"carr\", \"wants\", \"leave\", \"damn\", \"kyrie\", \"dude\", \"russ\", \"knicks\", \"tell\", \"doing\", \"sixers\", \"ring\", \"bruh\", \"work\", \"watching\", \"loyal\", \"thing\", \"dame\", \"good\", \"need\", \"fan\", \"just\", \"win\", \"trade\", \"team\", \"like\", \"don\", \"portland\", \"better\", \"know\", \"let\", \"ll\", \"playing\", \"thank\", \"lmao\", \"soon\", \"stop\", \"needs\", \"raiders\", \"75\", \"start\", \"floor\", \"bought\", \"yoongi\", \"yeah\", \"yes\", \"suga\", \"miss\", \"le\", \"ratio\", \"series\", \"moment\", \"post\", \"report\", \"rumors\", \"wanna\", \"guard\", \"yo\", \"loyalty\", \"time\", \"got\", \"lol\", \"point\", \"getting\", \"2021\", \"like\", \"star\", \"don\", \"shot\", \"dame\", \"game\", \"just\", \"lillard\", \"damian\"], \"Freq\": [4620.0, 4559.0, 1089.0, 1801.0, 611.0, 596.0, 559.0, 567.0, 592.0, 528.0, 506.0, 1001.0, 840.0, 506.0, 497.0, 532.0, 481.0, 449.0, 480.0, 651.0, 639.0, 929.0, 401.0, 443.0, 720.0, 397.0, 433.0, 473.0, 570.0, 979.0, 591.2734661674511, 531.9248636700474, 479.48663175143605, 442.5608220478346, 432.58434133776615, 391.9436091038511, 365.5585922425862, 360.9887478237347, 308.34662415666133, 287.3614830643045, 254.31070983762956, 253.6552512030218, 243.29189143532062, 231.44555297883383, 224.61561941565847, 212.54337947805178, 201.40994652601503, 197.74211774601022, 194.13928297514522, 188.9469091166301, 185.42775506715952, 174.49328330438212, 171.69613649723144, 168.53440013421238, 162.7886685426208, 161.18002711535215, 156.07145291285448, 156.05169424928448, 153.74878080463066, 156.07286276872134, 374.26683394244304, 508.4879807697877, 265.5779895678475, 1072.1530886928836, 1053.9349197459562, 348.6774728430006, 361.5566385961201, 215.40377265083097, 227.5551210749161, 189.5741940575129, 1088.7505332005544, 496.24490262333, 505.3110935034921, 343.2890094838164, 324.5677594873931, 297.04788168972823, 283.2679246272654, 268.23368133481085, 266.85421423249494, 248.55319090642598, 211.73732424251324, 202.35780910461423, 195.39357229339373, 181.52270741476033, 181.2204346868718, 168.30466309122494, 160.65398651377356, 159.6435355908398, 154.28397148971385, 151.6433881634533, 151.72272327861143, 150.24718984496184, 144.93277056184877, 144.46140014842376, 140.58984261422717, 137.12533352929464, 135.16205763328813, 129.5545677007361, 130.610285663908, 131.2668096353437, 3208.3405976674585, 3237.1097043654686, 588.1461755180732, 470.74839531967865, 260.5465619878372, 226.2253764629596, 170.76343140574534, 221.88207518872017, 214.27305106861695, 157.3778978345744, 610.9330160678567, 595.5187070824261, 527.6084590900471, 373.01725166891515, 353.9894352515614, 334.36460826198356, 307.3321907291562, 293.4674631089791, 266.66215925935325, 256.01246088268243, 251.8739272867304, 225.306338211023, 224.8616005271162, 221.73902146152082, 217.35014322830204, 211.94403769015534, 206.77739774262517, 204.1698347468194, 197.4094494480697, 189.66292178932505, 185.24680855107965, 184.08514325927666, 179.20762691097397, 167.57910830415224, 154.31894651035137, 152.1728933358242, 146.8600291321478, 146.30740847890664, 145.53680726428152, 160.70253621059626, 257.0240169838327, 220.98470948589136, 429.3083861593201, 534.8069591123841, 305.47153231493644, 245.90581422142188, 280.9167940986433, 281.5945880392105, 251.44423249955628, 227.44183149217193, 325.07295394866316, 202.65083694739363, 566.5939231678361, 448.96307713812536, 400.40628857440873, 397.06817142017763, 348.1668095337297, 346.6492431113538, 317.47613924233207, 480.63917841072623, 275.131910744178, 270.9955638903157, 267.292928285648, 259.04604806070176, 249.85631761412628, 240.811772919704, 223.66158149698128, 219.6316155398804, 219.10818611493778, 219.5501503406996, 197.66245090413597, 197.95396572048176, 189.75997778193545, 188.86346327964202, 181.79829393192873, 178.3490016669087, 175.4021697072971, 174.3137660201446, 168.33071347149362, 166.4244563866501, 165.391056436436, 163.4791098981625, 1035.2098999096584, 457.99047354575174, 394.2628417247511, 279.5235137936025, 502.7271046669545, 290.051009363109, 365.915701093184, 380.2953222852436, 299.4584957251417, 243.68562859971206, 247.53600376565376, 211.48807275197333, 559.0731827123485, 506.1242407823011, 309.27279086117625, 297.2014840623926, 292.2255325904084, 253.09245344577394, 245.57775394857578, 241.97511745672733, 228.1235683540129, 225.94422636270744, 222.5588790450662, 222.353961454793, 212.51823966436615, 203.47024756665215, 197.3349087590916, 193.79793548814504, 187.4255057760415, 183.11376162058963, 182.55881587717045, 170.52135044879736, 159.85297225893547, 160.2997573876941, 155.82455793651093, 151.4439607070935, 154.8740332817096, 152.51640984134178, 149.27026939850742, 147.7189760558719, 143.80092557382483, 144.07847885381477, 676.2452738917434, 415.4475837229072, 376.51351835854206, 270.0032058429868, 214.50913845698307, 217.17392934959614, 410.92960170075554, 288.08416535460907, 343.21101217992776, 198.56140833364523, 437.5108606699797, 314.5208716698319, 287.4187888004569, 292.81174949000865, 285.37887809680467], \"Total\": [4620.0, 4559.0, 1089.0, 1801.0, 611.0, 596.0, 559.0, 567.0, 592.0, 528.0, 506.0, 1001.0, 840.0, 506.0, 497.0, 532.0, 481.0, 449.0, 480.0, 651.0, 639.0, 929.0, 401.0, 443.0, 720.0, 397.0, 433.0, 473.0, 570.0, 979.0, 592.0692389580523, 532.7169625440717, 480.28183339791644, 443.35092854180317, 433.3733107631603, 392.74302244292346, 366.35883447075366, 361.7873369680138, 309.13660792859355, 288.1586806435162, 255.10589036163904, 254.44880681287074, 244.096180017516, 232.23820262448342, 225.40686696058563, 213.33303497634844, 202.22101163353156, 198.5393704034552, 194.93269035236384, 189.7403888586605, 186.22676272358254, 175.28604200064595, 172.487919222082, 169.3272239368713, 163.58090210145997, 161.9896950244132, 156.862432523349, 156.85456932415178, 154.54093078328762, 156.87716844688873, 422.0356475044736, 720.5765625336994, 339.896858455011, 4620.54888763135, 4559.930364001407, 734.4955438741613, 980.7806148542023, 352.19898997483114, 581.3252941150048, 778.5200685375902, 1089.5595902074178, 497.0455394975912, 506.16266764784, 344.1023692516972, 325.3711340292397, 297.8539044116762, 284.0822482677489, 269.0448797594145, 267.6652500975769, 249.36083569603798, 212.5575866301636, 203.1773815267031, 196.1946773657599, 182.332810224884, 182.03126504380353, 169.10925533004735, 161.46590002616648, 160.45453209880384, 155.09209708164, 152.44974880593497, 152.53177739974308, 151.0574355910892, 145.7359354254543, 145.2698119704998, 141.3951156666398, 137.9338737922825, 135.96965413286682, 130.36092855411644, 131.4274733287408, 132.1063393186495, 4559.930364001407, 4620.54888763135, 840.080589947116, 639.8360611457155, 383.0888595750039, 424.8019825427202, 256.3705095331973, 778.5200685375902, 734.4955438741613, 204.0506167354289, 611.7318281609342, 596.3164272228773, 528.4156659980627, 373.8203797437356, 354.7964187357482, 335.18278023522385, 308.156568288753, 294.26980920722696, 267.4634749583264, 256.8136588122258, 252.6731573579821, 226.1066338080013, 225.6615707095826, 222.54162949767394, 218.1496276460733, 212.74774320571132, 207.5788401772029, 204.97232026920636, 198.20924472619367, 190.45957088263683, 186.0512116068679, 184.88539905371218, 180.00354995263595, 168.37655484386215, 155.1164107299998, 152.96905483852, 147.65769121839688, 147.10386003365036, 146.33529491886256, 161.63159606887842, 260.19292480463014, 228.79039134282706, 473.311911799823, 929.007818297949, 473.2507115954531, 338.89877191401195, 431.4241746362995, 454.96988467932056, 378.17767479178247, 351.5516797294189, 1801.424399042211, 268.7554712102624, 567.3963506473557, 449.7624357364348, 401.21338936904175, 397.86894346985054, 348.9672845922601, 347.44961259805154, 318.27432447463127, 481.9257359587392, 275.92693408853813, 271.7935761571887, 268.09209910619387, 259.8480436307462, 250.65590899287582, 241.6109191457124, 224.46366098972598, 220.4276991168677, 219.90542040034657, 220.35260204088183, 198.45958892690808, 198.7548770671355, 190.55585339631628, 189.6604423992619, 182.59677555857783, 179.1510305932581, 176.19871018596507, 175.10859067315664, 169.1260778276366, 167.22220313756304, 166.18783273951277, 164.27844733681528, 1801.424399042211, 651.5225928339763, 554.0554415546926, 367.2749269308378, 979.513385625589, 446.99651230404567, 778.5200685375902, 980.7806148542023, 912.9688345206932, 689.0213175159458, 840.080589947116, 720.5765625336994, 559.8749710467707, 506.92453502197606, 310.07471758124325, 298.00561902514636, 293.0200202299584, 253.88906179841237, 246.37507732784928, 242.77504611090868, 228.9299384532368, 226.7432058875785, 223.3581932462464, 223.1567874574095, 213.310198664987, 204.26130089859384, 198.13267062210397, 194.5949363267965, 188.22166461825884, 183.90914406591665, 183.3722456673647, 171.31152386668276, 160.6438707599113, 161.0942234580518, 156.62170525359963, 152.24852754548112, 155.6992751907112, 153.33337416311917, 150.07188050099722, 148.52794959864138, 144.59954673672377, 144.88180524407116, 1001.153078406393, 570.210072973867, 529.8177860564373, 337.0526530047745, 250.74023161284597, 265.9565587164298, 912.9688345206932, 479.1489841280886, 689.0213175159458, 261.3069176883599, 1801.424399042211, 929.007818297949, 979.513385625589, 4620.54888763135, 4559.930364001407], \"Category\": [\"Default\", \"Default\", \"Default\", \"Default\", \"Default\", \"Default\", \"Default\", \"Default\", \"Default\", \"Default\", \"Default\", \"Default\", \"Default\", \"Default\", \"Default\", \"Default\", \"Default\", \"Default\", \"Default\", \"Default\", \"Default\", \"Default\", \"Default\", \"Default\", \"Default\", \"Default\", \"Default\", \"Default\", \"Default\", \"Default\", \"Topic1\", \"Topic1\", \"Topic1\", \"Topic1\", \"Topic1\", \"Topic1\", \"Topic1\", \"Topic1\", \"Topic1\", \"Topic1\", \"Topic1\", \"Topic1\", \"Topic1\", \"Topic1\", \"Topic1\", \"Topic1\", \"Topic1\", \"Topic1\", \"Topic1\", \"Topic1\", \"Topic1\", \"Topic1\", \"Topic1\", \"Topic1\", \"Topic1\", \"Topic1\", \"Topic1\", \"Topic1\", \"Topic1\", \"Topic1\", \"Topic1\", \"Topic1\", \"Topic1\", \"Topic1\", \"Topic1\", \"Topic1\", \"Topic1\", \"Topic1\", \"Topic1\", \"Topic1\", \"Topic2\", \"Topic2\", \"Topic2\", \"Topic2\", \"Topic2\", \"Topic2\", \"Topic2\", \"Topic2\", \"Topic2\", \"Topic2\", \"Topic2\", \"Topic2\", \"Topic2\", \"Topic2\", \"Topic2\", \"Topic2\", \"Topic2\", \"Topic2\", \"Topic2\", \"Topic2\", \"Topic2\", \"Topic2\", \"Topic2\", \"Topic2\", \"Topic2\", \"Topic2\", \"Topic2\", \"Topic2\", \"Topic2\", \"Topic2\", \"Topic2\", \"Topic2\", \"Topic2\", \"Topic2\", \"Topic2\", \"Topic2\", \"Topic2\", \"Topic2\", \"Topic2\", \"Topic2\", \"Topic3\", \"Topic3\", \"Topic3\", \"Topic3\", \"Topic3\", \"Topic3\", \"Topic3\", \"Topic3\", \"Topic3\", \"Topic3\", \"Topic3\", \"Topic3\", \"Topic3\", \"Topic3\", \"Topic3\", \"Topic3\", \"Topic3\", \"Topic3\", \"Topic3\", \"Topic3\", \"Topic3\", \"Topic3\", \"Topic3\", \"Topic3\", \"Topic3\", \"Topic3\", \"Topic3\", \"Topic3\", \"Topic3\", \"Topic3\", \"Topic3\", \"Topic3\", \"Topic3\", \"Topic3\", \"Topic3\", \"Topic3\", \"Topic3\", \"Topic3\", \"Topic3\", \"Topic3\", \"Topic3\", \"Topic3\", \"Topic4\", \"Topic4\", \"Topic4\", \"Topic4\", \"Topic4\", \"Topic4\", \"Topic4\", \"Topic4\", \"Topic4\", \"Topic4\", \"Topic4\", \"Topic4\", \"Topic4\", \"Topic4\", \"Topic4\", \"Topic4\", \"Topic4\", \"Topic4\", \"Topic4\", \"Topic4\", \"Topic4\", \"Topic4\", \"Topic4\", \"Topic4\", \"Topic4\", \"Topic4\", \"Topic4\", \"Topic4\", \"Topic4\", \"Topic4\", \"Topic4\", \"Topic4\", \"Topic4\", \"Topic4\", \"Topic4\", \"Topic4\", \"Topic4\", \"Topic4\", \"Topic4\", \"Topic4\", \"Topic4\", \"Topic4\", \"Topic5\", \"Topic5\", \"Topic5\", \"Topic5\", \"Topic5\", \"Topic5\", \"Topic5\", \"Topic5\", \"Topic5\", \"Topic5\", \"Topic5\", \"Topic5\", \"Topic5\", \"Topic5\", \"Topic5\", \"Topic5\", \"Topic5\", \"Topic5\", \"Topic5\", \"Topic5\", \"Topic5\", \"Topic5\", \"Topic5\", \"Topic5\", \"Topic5\", \"Topic5\", \"Topic5\", \"Topic5\", \"Topic5\", \"Topic5\", \"Topic5\", \"Topic5\", \"Topic5\", \"Topic5\", \"Topic5\", \"Topic5\", \"Topic5\", \"Topic5\", \"Topic5\", \"Topic5\", \"Topic5\", \"Topic5\", \"Topic5\", \"Topic5\", \"Topic5\"], \"logprob\": [30.0, 29.0, 28.0, 27.0, 26.0, 25.0, 24.0, 23.0, 22.0, 21.0, 20.0, 19.0, 18.0, 17.0, 16.0, 15.0, 14.0, 13.0, 12.0, 11.0, 10.0, 9.0, 8.0, 7.0, 6.0, 5.0, 4.0, 3.0, 2.0, 1.0, -3.8837, -3.9895, -4.0932, -4.1734, -4.1962, -4.2948, -4.3645, -4.3771, -4.5347, -4.6052, -4.7274, -4.73, -4.7717, -4.8216, -4.8516, -4.9068, -4.9606, -4.979, -4.9974, -5.0245, -5.0433, -5.1041, -5.1202, -5.1388, -5.1735, -5.1834, -5.2156, -5.2158, -5.2306, -5.2156, -4.341, -4.0345, -4.684, -3.2885, -3.3057, -4.4118, -4.3755, -4.8934, -4.8386, -5.0212, -3.1413, -3.927, -3.9089, -4.2955, -4.3516, -4.4402, -4.4877, -4.5422, -4.5474, -4.6184, -4.7787, -4.824, -4.8591, -4.9327, -4.9344, -5.0083, -5.0548, -5.0611, -5.0953, -5.1125, -5.112, -5.1218, -5.1578, -5.1611, -5.1882, -5.2132, -5.2276, -5.27, -5.2618, -5.2568, -2.0606, -2.0516, -3.7571, -3.9797, -4.5713, -4.7125, -4.9938, -4.7319, -4.7668, -5.0754, -3.7181, -3.7436, -3.8647, -4.2114, -4.2638, -4.3208, -4.4051, -4.4513, -4.5471, -4.5878, -4.6041, -4.7156, -4.7176, -4.7316, -4.7515, -4.7767, -4.8014, -4.8141, -4.8478, -4.8878, -4.9114, -4.9177, -4.9445, -5.0116, -5.094, -5.108, -5.1436, -5.1473, -5.1526, -5.0535, -4.5839, -4.735, -4.0709, -3.8512, -4.4112, -4.6281, -4.495, -4.4926, -4.6058, -4.7062, -4.349, -4.8216, -3.7696, -4.0023, -4.1168, -4.1252, -4.2566, -4.261, -4.3489, -3.9341, -4.492, -4.5072, -4.5209, -4.5523, -4.5884, -4.6253, -4.6991, -4.7173, -4.7197, -4.7177, -4.8227, -4.8212, -4.8635, -4.8682, -4.9064, -4.9255, -4.9422, -4.9484, -4.9833, -4.9947, -5.001, -5.0126, -3.1669, -3.9824, -4.1322, -4.4762, -3.8892, -4.4392, -4.2069, -4.1683, -4.4073, -4.6134, -4.5977, -4.7551, -3.7447, -3.8442, -4.3367, -4.3765, -4.3934, -4.5372, -4.5673, -4.5821, -4.6411, -4.6507, -4.6657, -4.6667, -4.7119, -4.7554, -4.786, -4.8041, -4.8376, -4.8608, -4.8639, -4.9321, -4.9967, -4.9939, -5.0222, -5.0507, -5.0283, -5.0437, -5.0652, -5.0756, -5.1025, -5.1006, -3.5544, -4.0416, -4.14, -4.4725, -4.7026, -4.6902, -4.0525, -4.4077, -4.2326, -4.7798, -3.9898, -4.3199, -4.41, -4.3914, -4.4171], \"loglift\": [30.0, 29.0, 28.0, 27.0, 26.0, 25.0, 24.0, 23.0, 22.0, 21.0, 20.0, 19.0, 18.0, 17.0, 16.0, 15.0, 14.0, 13.0, 12.0, 11.0, 10.0, 9.0, 8.0, 7.0, 6.0, 5.0, 4.0, 3.0, 2.0, 1.0, 1.487, 1.4869, 1.4867, 1.4866, 1.4865, 1.4863, 1.4862, 1.4861, 1.4858, 1.4856, 1.4852, 1.4852, 1.4851, 1.4849, 1.4848, 1.4846, 1.4843, 1.4843, 1.4843, 1.4842, 1.4841, 1.4838, 1.4838, 1.4837, 1.4835, 1.4833, 1.4833, 1.4832, 1.4832, 1.4832, 1.3682, 1.1397, 1.2416, 0.0275, 0.0236, 0.7433, 0.4904, 0.9967, 0.5504, 0.0757, 1.6195, 1.6186, 1.6186, 1.6179, 1.6178, 1.6175, 1.6174, 1.6172, 1.6172, 1.617, 1.6164, 1.6162, 1.6161, 1.6158, 1.6158, 1.6155, 1.6152, 1.6152, 1.615, 1.6149, 1.6149, 1.6149, 1.6147, 1.6147, 1.6145, 1.6144, 1.6143, 1.614, 1.614, 1.6139, 1.2687, 1.2644, 1.2637, 1.3134, 1.2348, 0.9901, 1.2139, 0.365, 0.3883, 1.3605, 1.6199, 1.6199, 1.6197, 1.6191, 1.619, 1.6188, 1.6186, 1.6185, 1.6182, 1.6181, 1.6181, 1.6177, 1.6177, 1.6176, 1.6176, 1.6175, 1.6174, 1.6173, 1.6172, 1.6171, 1.6169, 1.6169, 1.6168, 1.6165, 1.6161, 1.616, 1.6158, 1.6158, 1.6158, 1.6155, 1.609, 1.5865, 1.5237, 1.069, 1.1835, 1.3005, 1.1922, 1.1415, 1.2131, 1.1858, -0.091, 1.3389, 1.6436, 1.6433, 1.643, 1.643, 1.6427, 1.6427, 1.6425, 1.6424, 1.6422, 1.6421, 1.6421, 1.6419, 1.6418, 1.6417, 1.6415, 1.6414, 1.6414, 1.6414, 1.641, 1.641, 1.6409, 1.6408, 1.6407, 1.6406, 1.6405, 1.6405, 1.6403, 1.6403, 1.6402, 1.6402, 1.0911, 1.2926, 1.3048, 1.372, 0.978, 1.2125, 0.89, 0.6976, 0.5303, 0.6056, 0.4231, 0.4192, 1.6819, 1.6818, 1.6808, 1.6807, 1.6807, 1.6802, 1.6801, 1.6801, 1.6798, 1.6798, 1.6798, 1.6798, 1.6796, 1.6795, 1.6793, 1.6793, 1.6791, 1.679, 1.6789, 1.6787, 1.6784, 1.6784, 1.6783, 1.6781, 1.6781, 1.678, 1.678, 1.6779, 1.6778, 1.6778, 1.291, 1.3667, 1.3418, 1.4616, 1.5273, 1.4807, 0.8851, 1.1746, 0.9864, 1.4088, 0.2681, 0.6003, 0.4573, -1.0754, -1.0879]}, \"token.table\": {\"Topic\": [1, 3, 1, 1, 5, 5, 2, 4, 1, 3, 1, 3, 1, 2, 1, 4, 1, 4, 3, 5, 2, 5, 3, 4, 1, 4, 3, 2, 3, 2, 2, 1, 1, 3, 4, 5, 1, 2, 3, 4, 5, 4, 1, 3, 3, 4, 2, 1, 4, 3, 4, 5, 4, 1, 2, 4, 5, 2, 3, 5, 3, 1, 2, 1, 2, 3, 5, 1, 5, 2, 3, 2, 3, 4, 3, 5, 2, 3, 3, 3, 5, 3, 3, 2, 3, 1, 3, 1, 3, 3, 3, 2, 1, 1, 2, 3, 4, 5, 1, 1, 4, 5, 4, 3, 5, 4, 1, 5, 1, 3, 4, 5, 1, 2, 3, 4, 5, 1, 2, 5, 5, 3, 5, 2, 4, 1, 2, 5, 4, 5, 1, 2, 3, 4, 2, 5, 5, 1, 2, 3, 5, 3, 4, 5, 3, 5, 2, 2, 2, 5, 1, 4, 4, 3, 1, 3, 5, 5, 3, 5, 1, 2, 2, 3, 4, 5, 3, 5, 5, 2, 3, 5, 5, 3, 3, 3, 4, 5, 4, 5, 2, 4, 1, 2, 4, 1, 2, 1, 2, 3, 5, 5, 4, 1, 3, 4, 5, 1, 1, 4, 5, 1, 2, 4, 5, 5, 2, 1, 1, 5, 5, 3, 3, 2, 1, 2, 3, 4, 5, 4, 5, 3, 4, 1, 4, 3, 1, 4, 5, 2, 3, 2, 3, 5, 1, 2, 4, 5, 2, 1, 1, 3, 3, 3, 4, 1, 2, 2, 5, 4, 4, 3, 4, 3, 4, 2, 2, 1, 3, 4, 1, 3, 4, 5, 1, 3, 4, 5, 5, 5, 1], \"Freq\": [0.7825903458157674, 0.21771310372318342, 0.9945518365972129, 0.18048060266556132, 0.8159227245505585, 0.9983963281532658, 0.9988593517051012, 0.9970802247484697, 0.35287849739728633, 0.6444786928513313, 0.9984388963650878, 0.9951056995128192, 0.9971712846657174, 0.9965136615542777, 0.9990205382346735, 0.9969757007089172, 0.7049910119387796, 0.2928210699194537, 0.7553334601370097, 0.245576395906614, 0.9994864069735633, 0.9938250618543744, 0.9994693635653289, 0.9936691245763845, 0.9955092291184674, 0.9974714754288735, 0.9924960498426224, 0.9971331434672216, 0.998803678135999, 0.9929997779523303, 0.9912589411848508, 0.9973310808180113, 0.0016653488215187119, 0.18041278899786045, 0.5745453434239556, 0.24314092794173195, 0.23114388068748912, 0.7035195154131547, 0.0004386031891603209, 0.0021930159458016046, 0.06250095445534573, 0.9958826826610357, 0.9964997571805351, 0.9978054172854407, 0.9960923725048828, 0.9987059631619976, 0.9973767738004395, 0.9991385930930935, 0.9967317300278045, 0.14803605840198034, 0.3541254730400314, 0.4978075297243065, 0.9976842190926972, 0.9945019817079488, 0.9967474583668549, 0.7623716716516489, 0.23687976940604802, 0.9961903699567708, 0.9964853060509868, 0.9985457860574487, 0.995211092610645, 0.9934125326261326, 0.9949502130459049, 0.06889070117542766, 0.016146258087990858, 0.5758832051383406, 0.339071419847808, 0.14357488532428891, 0.8574611206867254, 0.6813040720880048, 0.3184639723936268, 0.9975146191097485, 0.2962291747405006, 0.702968715187302, 0.270075902371963, 0.7278019447036665, 0.994334681772632, 0.9956848811278063, 0.9977636147490289, 0.9936650269589298, 0.9964454528587513, 0.9968317151977468, 0.9943498803485938, 0.9932295543755347, 0.997068305837355, 0.9946683938710742, 0.9977087214738696, 0.030595690487328943, 0.9659496568142423, 0.9975661654904904, 0.9962468160416776, 0.9942051545410414, 0.9963232826541977, 0.0020418301876728856, 0.0010209150938364428, 0.19091112254741482, 0.5135202921997307, 0.2930026319310591, 0.996448839112651, 0.9926631807874285, 0.9970829896515421, 0.9984372027827305, 0.9983998281045194, 0.9977552796654879, 0.9981815358380374, 0.9980596852456327, 0.9959790187790677, 0.9981761880554154, 0.04600376093018543, 0.17525242259118262, 0.3275029647172725, 0.4501796605311003, 0.23200706800649035, 0.7005661185979564, 0.0006492735112121931, 0.0034627920597983634, 0.06341237959505754, 0.9956649751988427, 0.992868598960182, 0.9965340044824466, 0.9964982272488829, 0.28877852730995734, 0.7115653908225745, 0.9977029762917068, 0.995926403240398, 0.9938903828156226, 0.7361260619737641, 0.2625672577740814, 0.9928524686799748, 0.9939136232973792, 0.12053102968519833, 0.22715463286825838, 0.6513311411834756, 0.9993014571790892, 0.9939107554710432, 0.9979699999527739, 0.9960305294046379, 0.47515604813498097, 0.29135643066156425, 0.11436420642790372, 0.11981012101970867, 0.28697489109364627, 0.7111201703829977, 0.9959378906074063, 0.6637091947275732, 0.33317672723376185, 0.9972055918284238, 0.9934405995231755, 0.7694169344440919, 0.22543426104731354, 0.998194966435265, 0.9973832294817575, 0.9966406538325081, 0.9992133730606235, 0.6104503593703217, 0.2356622317569149, 0.15048311184477697, 0.9966255031417327, 0.195815103105167, 0.8010617854302287, 0.8861810660106278, 0.11136500027406286, 0.6999328481533126, 0.004761447946621174, 0.2952097726905128, 0.9917994113597706, 0.9952563337921465, 0.996722257301297, 0.9959919369667481, 0.9985529576245171, 0.7258804704739887, 0.27146749302279255, 0.9955088089533193, 0.9938991507289979, 0.9947300957673948, 0.6198212442099633, 0.2022111860543143, 0.1780337616347767, 0.9931968276913042, 0.9978258212542527, 0.9981747101661322, 0.9962019695905096, 0.9952153209875784, 0.9967963915677347, 0.9972281510761379, 0.9939619942375508, 0.9970498553821332, 0.3922072586693506, 0.2391088112063146, 0.2219067384576589, 0.14793782563843927, 0.993207556208018, 0.9959961442798292, 0.9981940643294794, 0.23726888116273487, 0.003826917438108627, 0.7615565701836168, 0.9992084632754523, 0.9978237575294588, 0.993575082490754, 0.9984776166001963, 0.09182947571112389, 0.30053282960004185, 0.006261100616667538, 0.6010656592000837, 0.9948162568990635, 0.9971145608695645, 0.9981081205763969, 0.9980675054532678, 0.996807554469356, 0.9950565586581666, 0.9972114682946067, 0.9964712380677976, 0.9929583963194133, 0.3690937550328857, 0.06525414453620079, 0.13458667310591413, 0.3874464831836922, 0.04384262836025991, 0.9965177641109179, 0.9965189401421859, 0.9944248324385824, 0.9922178024108415, 0.002075008503147498, 0.9980790900139468, 0.995545838398461, 0.11986178995824753, 0.20476389117867286, 0.6752214167647944, 0.6670033940774194, 0.33155139471684586, 0.5320125830092431, 0.26129821554878757, 0.20480130407877944, 0.24405279668243518, 0.28515642559737164, 0.47012275571458567, 0.001284488403591764, 0.9978964915394914, 0.9944085652770709, 0.9960978847829176, 0.9975870423286839, 0.9928027555256995, 0.9982671467257404, 0.997816005787553, 0.998654139825682, 0.9961163365742218, 0.9972313134148426, 0.9928575526779642, 0.9983048034343144, 0.9979343605656187, 0.9973358572591533, 0.9926911431937204, 0.6457087622926923, 0.35272196706737374, 0.9971672218113231, 0.9916253881202405, 0.9982361606702255, 0.34899601161516286, 0.6487746369769053, 0.011529906135044203, 0.9877286255687867, 0.9933417847673128, 0.9969426936896375, 0.09084918196224463, 0.9063790479489057, 0.9967363863167995, 0.9935094367551336, 0.9958537440105855, 0.994283271817073, 0.9972833075759275], \"Term\": [\"10\", \"10\", \"20\", \"2021\", \"2021\", \"75\", \"abdominal\", \"ain\", \"amp\", \"amp\", \"anthony\", \"ass\", \"assists\", \"believe\", \"ben\", \"best\", \"better\", \"better\", \"big\", \"big\", \"blazers\", \"bought\", \"bro\", \"bruh\", \"career\", \"carr\", \"check\", \"cj\", \"come\", \"coming\", \"cool\", \"curry\", \"dame\", \"dame\", \"dame\", \"dame\", \"damian\", \"damian\", \"damian\", \"damian\", \"damian\", \"damn\", \"davis\", \"day\", \"defense\", \"did\", \"didn\", \"distance\", \"doing\", \"don\", \"don\", \"don\", \"dude\", \"dwight\", \"end\", \"fan\", \"fan\", \"fans\", \"favorite\", \"floor\", \"free\", \"fuck\", \"future\", \"game\", \"game\", \"game\", \"game\", \"getting\", \"getting\", \"going\", \"going\", \"gonna\", \"good\", \"good\", \"got\", \"got\", \"gotta\", \"great\", \"grind\", \"gt\", \"guard\", \"guy\", \"guys\", \"happen\", \"happy\", \"harden\", \"hell\", \"help\", \"help\", \"hope\", \"injury\", \"isn\", \"james\", \"just\", \"just\", \"just\", \"just\", \"just\", \"kevin\", \"klay\", \"knicks\", \"know\", \"kyrie\", \"lakers\", \"le\", \"leave\", \"lebron\", \"let\", \"like\", \"like\", \"like\", \"like\", \"lillard\", \"lillard\", \"lillard\", \"lillard\", \"lillard\", \"list\", \"little\", \"ll\", \"lmao\", \"lol\", \"lol\", \"long\", \"look\", \"lot\", \"love\", \"love\", \"loyal\", \"loyalty\", \"make\", \"make\", \"make\", \"man\", \"mccollum\", \"miss\", \"moment\", \"nba\", \"nba\", \"nba\", \"nba\", \"need\", \"need\", \"needs\", \"new\", \"new\", \"news\", \"nice\", \"night\", \"night\", \"paul\", \"people\", \"philly\", \"play\", \"players\", \"players\", \"players\", \"playing\", \"point\", \"point\", \"points\", \"points\", \"portland\", \"portland\", \"portland\", \"post\", \"pts\", \"raiders\", \"ratio\", \"real\", \"really\", \"really\", \"report\", \"respect\", \"retweet\", \"right\", \"right\", \"right\", \"ring\", \"rumors\", \"run\", \"russ\", \"russell\", \"said\", \"say\", \"saying\", \"says\", \"season\", \"season\", \"season\", \"season\", \"series\", \"shit\", \"shooting\", \"shot\", \"shot\", \"shot\", \"signature\", \"simmons\", \"sixers\", \"soon\", \"star\", \"star\", \"star\", \"star\", \"start\", \"stay\", \"steph\", \"stephen\", \"stop\", \"suga\", \"sure\", \"surgery\", \"talk\", \"team\", \"team\", \"team\", \"team\", \"team\", \"tell\", \"thank\", \"thanks\", \"thing\", \"think\", \"think\", \"tho\", \"time\", \"time\", \"time\", \"today\", \"today\", \"tonight\", \"tonight\", \"tonight\", \"trade\", \"trade\", \"trade\", \"trade\", \"trail\", \"true\", \"ts\", \"tweet\", \"ur\", \"ve\", \"vote\", \"voting\", \"vs\", \"wait\", \"wanna\", \"want\", \"wants\", \"watch\", \"watching\", \"way\", \"way\", \"week\", \"west\", \"westbrook\", \"win\", \"win\", \"won\", \"won\", \"work\", \"yeah\", \"year\", \"year\", \"years\", \"yes\", \"yo\", \"yoongi\", \"young\"]}, \"R\": 30, \"lambda.step\": 0.01, \"plot.opts\": {\"xlab\": \"PC1\", \"ylab\": \"PC2\"}, \"topic.order\": [5, 2, 1, 4, 3]};\n",
       "\n",
       "function LDAvis_load_lib(url, callback){\n",
       "  var s = document.createElement('script');\n",
       "  s.src = url;\n",
       "  s.async = true;\n",
       "  s.onreadystatechange = s.onload = callback;\n",
       "  s.onerror = function(){console.warn(\"failed to load library \" + url);};\n",
       "  document.getElementsByTagName(\"head\")[0].appendChild(s);\n",
       "}\n",
       "\n",
       "if(typeof(LDAvis) !== \"undefined\"){\n",
       "   // already loaded: just create the visualization\n",
       "   !function(LDAvis){\n",
       "       new LDAvis(\"#\" + \"ldavis_el2721399812154466083542884847\", ldavis_el2721399812154466083542884847_data);\n",
       "   }(LDAvis);\n",
       "}else if(typeof define === \"function\" && define.amd){\n",
       "   // require.js is available: use it to load d3/LDAvis\n",
       "   require.config({paths: {d3: \"https://cdnjs.cloudflare.com/ajax/libs/d3/3.5.5/d3.min\"}});\n",
       "   require([\"d3\"], function(d3){\n",
       "      window.d3 = d3;\n",
       "      LDAvis_load_lib(\"https://cdn.rawgit.com/bmabey/pyLDAvis/files/ldavis.v1.0.0.js\", function(){\n",
       "        new LDAvis(\"#\" + \"ldavis_el2721399812154466083542884847\", ldavis_el2721399812154466083542884847_data);\n",
       "      });\n",
       "    });\n",
       "}else{\n",
       "    // require.js not available: dynamically load d3 & LDAvis\n",
       "    LDAvis_load_lib(\"https://cdnjs.cloudflare.com/ajax/libs/d3/3.5.5/d3.min.js\", function(){\n",
       "         LDAvis_load_lib(\"https://cdn.rawgit.com/bmabey/pyLDAvis/files/ldavis.v1.0.0.js\", function(){\n",
       "                 new LDAvis(\"#\" + \"ldavis_el2721399812154466083542884847\", ldavis_el2721399812154466083542884847_data);\n",
       "            })\n",
       "         });\n",
       "}\n",
       "</script>"
      ],
      "text/plain": [
       "PreparedData(topic_coordinates=              x         y  topics  cluster       Freq\n",
       "topic                                                \n",
       "4     -0.233588  0.084778       1        1  22.574441\n",
       "1     -0.289605 -0.014927       2        1  19.785113\n",
       "0      0.217571 -0.179976       3        1  19.765206\n",
       "3      0.225392  0.315527       4        1  19.300475\n",
       "2      0.080230 -0.205402       5        1  18.574764, topic_info=        Term         Freq        Total Category  logprob  loglift\n",
       "505  lillard  4620.000000  4620.000000  Default  30.0000  30.0000\n",
       "238   damian  4559.000000  4559.000000  Default  29.0000  29.0000\n",
       "143  blazers  1089.000000  1089.000000  Default  28.0000  28.0000\n",
       "236     dame  1801.000000  1801.000000  Default  27.0000  27.0000\n",
       "211     come   611.000000   611.000000  Default  26.0000  26.0000\n",
       "..       ...          ...          ...      ...      ...      ...\n",
       "236     dame   437.510861  1801.424399   Topic5  -3.9898   0.2681\n",
       "351     game   314.520872   929.007818   Topic5  -4.3199   0.6003\n",
       "459     just   287.418789   979.513386   Topic5  -4.4100   0.4573\n",
       "505  lillard   292.811749  4620.548888   Topic5  -4.3914  -1.0754\n",
       "238   damian   285.378878  4559.930364   Topic5  -4.4171  -1.0879\n",
       "\n",
       "[239 rows x 6 columns], token_table=      Topic      Freq    Term\n",
       "term                         \n",
       "0         1  0.782590      10\n",
       "0         3  0.217713      10\n",
       "17        1  0.994552      20\n",
       "21        1  0.180481    2021\n",
       "21        5  0.815923    2021\n",
       "...     ...       ...     ...\n",
       "992       4  0.996736   years\n",
       "993       5  0.993509     yes\n",
       "994       5  0.995854      yo\n",
       "995       5  0.994283  yoongi\n",
       "996       1  0.997283   young\n",
       "\n",
       "[271 rows x 3 columns], R=30, lambda_step=0.01, plot_opts={'xlab': 'PC1', 'ylab': 'PC2'}, topic_order=[5, 2, 1, 4, 3])"
      ]
     },
     "execution_count": 20,
     "metadata": {},
     "output_type": "execute_result"
    }
   ],
   "source": [
    "vis = pyLDAvis.sklearn.prepare(lda_model, data_matrix, vectorizer)\n",
    "vis"
   ]
  },
  {
   "cell_type": "code",
   "execution_count": null,
   "id": "correct-republican",
   "metadata": {},
   "outputs": [],
   "source": []
  }
 ],
 "metadata": {
  "kernelspec": {
   "display_name": "Python 3",
   "language": "python",
   "name": "python3"
  },
  "language_info": {
   "codemirror_mode": {
    "name": "ipython",
    "version": 3
   },
   "file_extension": ".py",
   "mimetype": "text/x-python",
   "name": "python",
   "nbconvert_exporter": "python",
   "pygments_lexer": "ipython3",
   "version": "3.7.10"
  }
 },
 "nbformat": 4,
 "nbformat_minor": 5
}
