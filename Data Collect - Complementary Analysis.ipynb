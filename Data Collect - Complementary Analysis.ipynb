{
 "cells": [
  {
   "cell_type": "code",
   "execution_count": 1,
   "metadata": {},
   "outputs": [],
   "source": [
    "# Note: this notebook is build on Python 3.9 ver.\n",
    "# snscrape developer version\n",
    "\n",
    "!pip3 install git+https://github.com/JustAnotherArchivist/snscrape.git"
   ]
  },
  {
   "cell_type": "code",
   "execution_count": 2,
   "metadata": {
    "cell_id": "00001-c618505c-cb2a-42fd-8ada-ae93402e5cb7",
    "deepnote_cell_type": "code",
    "deepnote_to_be_reexecuted": false,
    "execution_millis": 2256,
    "execution_start": 1643457960496,
    "source_hash": "fca310a5",
    "tags": []
   },
   "outputs": [],
   "source": [
    "import snscrape\n",
    "import snscrape.modules.twitter as sntwitter\n",
    "import pandas as pd\n",
    "\n",
    "from textblob import TextBlob\n",
    "import re\n",
    "from emoji import UNICODE_EMOJI"
   ]
  },
  {
   "cell_type": "markdown",
   "metadata": {},
   "source": [
    "This is the complementary analysis performed due to the fact that LDA topic modeling didn't work well. Here I just scrape the tweets and perform some simple sentiment analysis and calculations, the tweets data are not saved. "
   ]
  },
  {
   "cell_type": "markdown",
   "metadata": {},
   "source": [
    "### Marcus Rashford"
   ]
  },
  {
   "cell_type": "code",
   "execution_count": 3,
   "metadata": {
    "cell_id": "00006-38837b66-3ee8-42ca-b581-b5d399bff2a1",
    "deepnote_cell_type": "code",
    "deepnote_output_heights": [
     21.1875
    ],
    "deepnote_to_be_reexecuted": false,
    "execution_millis": 23,
    "execution_start": 1643457962778,
    "source_hash": "e55991c2",
    "tags": []
   },
   "outputs": [
    {
     "data": {
      "text/plain": [
       "'2022-01-20'"
      ]
     },
     "execution_count": 3,
     "metadata": {},
     "output_type": "execute_result"
    }
   ],
   "source": [
    "# the 2021–22 Premier League start from 2021-08-13\n",
    "\n",
    "l=[]\n",
    "for i in pd.date_range('2021-08-13',periods=161, freq='D'):\n",
    "    l.append(str(i)[0:10])\n",
    "l[-1]"
   ]
  },
  {
   "cell_type": "code",
   "execution_count": 4,
   "metadata": {
    "cell_id": "00007-2c15b0b3-55cf-4d69-92f4-454bbcc1f674",
    "deepnote_cell_type": "code",
    "deepnote_to_be_reexecuted": false,
    "execution_millis": 15,
    "execution_start": 1643457962804,
    "source_hash": "acda24",
    "tags": []
   },
   "outputs": [],
   "source": [
    "def get_tweet(query,start,end):\n",
    "\n",
    "    search = query + ' -filter:retweets + since:' + start + ' until:' + end + ' lang:en'\n",
    "\n",
    "    result = []\n",
    "    for ind,tweet in enumerate(sntwitter.TwitterSearchScraper(search).get_items()): \n",
    "        result.append([tweet.content])\n",
    "    \n",
    "    return result\n",
    "\n",
    "def clean_tweet(txt): \n",
    "    temp = re.sub(\"@[A-Za-z0-9_]+\",\"\", txt)\n",
    "    temp1 = re.sub(\"#[A-Za-z0-9_]+\",\"\", temp)\n",
    "    temp2 = re.sub(r\"http\\S+\", \"\", temp1)\n",
    "    result = ''.join(i for i in temp2 if i not in UNICODE_EMOJI['en'])\n",
    "    return result\n",
    "\n",
    "def sentiment(cleaned_tweet):\n",
    "    blob = TextBlob(cleaned_tweet)\n",
    "    return blob.sentiment.polarity\n",
    "\n",
    "    \n",
    "def sentiment_label(score):\n",
    "    if score >= 0.75:\n",
    "        return 'POSITIVE'\n",
    "    elif score >= 0.2:\n",
    "        return 'positive'\n",
    "    elif score >= -0.2:\n",
    "        return 'neutral'\n",
    "    elif score >= -0.75:\n",
    "        return 'negative'\n",
    "    else:\n",
    "        return 'NEGATIVE'"
   ]
  },
  {
   "cell_type": "code",
   "execution_count": 5,
   "metadata": {
    "cell_id": "00008-4a999dea-3b91-4c5e-a721-7902424dee3c",
    "deepnote_cell_type": "code",
    "deepnote_output_heights": [
     21.1875
    ],
    "deepnote_to_be_reexecuted": false,
    "execution_millis": 2965886,
    "execution_start": 1643457989462,
    "source_hash": "9662252b",
    "tags": []
   },
   "outputs": [
    {
     "data": {
      "text/plain": [
       "(193377, 1)"
      ]
     },
     "execution_count": 5,
     "metadata": {},
     "output_type": "execute_result"
    }
   ],
   "source": [
    "tweets_list = []\n",
    "\n",
    "for i in range(len(l)-1):\n",
    "    start=l[i]\n",
    "    end=l[i+1]\n",
    "    tweets= get_tweet('MarcusRashford', start, end)\n",
    "    tweets_list += tweets\n",
    "\n",
    "df = pd.DataFrame(tweets_list, columns=['Text'])\n",
    "df.shape"
   ]
  },
  {
   "cell_type": "code",
   "execution_count": 6,
   "metadata": {
    "cell_id": "1015bcf2-26c0-46e9-bb00-9df639518e79",
    "deepnote_cell_type": "code",
    "deepnote_output_heights": [
     21.1875
    ],
    "deepnote_to_be_reexecuted": false,
    "execution_millis": 87738,
    "execution_start": 1643460955345,
    "source_hash": "a3ca0850",
    "tags": []
   },
   "outputs": [
    {
     "data": {
      "application/vnd.deepnote.dataframe.v3+json": {
       "column_count": 4,
       "columns": [
        {
         "dtype": "object",
         "name": "Text",
         "stats": {
          "categories": [
           {
            "count": 1,
            "name": "@Negbawi @AndrewMMacLeod @Purna_Sen @GodivaRides @merseyview @UN @equalitynow @LiftOurVoicesUS @UN_PGA @gijn @the_ecofeminist @Omilabuhaywhy @humanitarian_bs @ZColemanHK @innercitypress @pamnsc @TimesONeill @LatAmFr @moralsdomatter @ThirdSector @MarcusRashford @UNAIDS @Refugees @pass_blue @antonioguterres @guardian @rebeccarat @SarahChampionMP @CommonsIDC @icai_uk @UNWatch @devex @phumzileunwomen @WHO @Winnie_Byanyima @DrTedros @EmmaWatson @jameshh__ @GlblCtzn @TasneemN @laurenduca @RightsSaidFred @sabrina_white1 @pritipatel @UN_News_Centre @WFP Throughout the world prominent sexual harassers are being fired. Entire industries—entertainment, tech, academia, legislatures, humanitarian aid organizations—have been forced to acknowledge their problems, name names, take immediate action. But not the UN\nhttps://t.co/FyeDHzp6vV"
           },
           {
            "count": 1,
            "name": "@MarcusRashford @Nike @MarcusRashford I would Stand next to you Any Day for all of the Causes you have been A Pillar of your home Community you haven't had anything handed to you on a plate but you fight for All the Right things I am So very Proud of You Some people should take a leaf from your Book!!"
           },
           {
            "count": 3,
            "name": "3 others"
           }
          ],
          "nan_count": 0,
          "unique_count": 5
         }
        },
        {
         "dtype": "object",
         "name": "clean_text",
         "stats": {
          "categories": [
           {
            "count": 1,
            "name": "                                              Throughout the world prominent sexual harassers are being fired. Entire industries—entertainment, tech, academia, legislatures, humanitarian aid organizations—have been forced to acknowledge their problems, name names, take immediate action. But not the UN\n"
           },
           {
            "count": 1,
            "name": "   I would Stand next to you Any Day for all of the Causes you have been A Pillar of your home Community you haven't had anything handed to you on a plate but you fight for All the Right things I am So very Proud of You Some people should take a leaf from your Book!!"
           },
           {
            "count": 3,
            "name": "3 others"
           }
          ],
          "nan_count": 0,
          "unique_count": 5
         }
        },
        {
         "dtype": "float64",
         "name": "sentiment_score",
         "stats": {
          "histogram": [
           {
            "bin_end": 0.04285714285714286,
            "bin_start": 0,
            "count": 3
           },
           {
            "bin_end": 0.08571428571428572,
            "bin_start": 0.04285714285714286,
            "count": 0
           },
           {
            "bin_end": 0.12857142857142856,
            "bin_start": 0.08571428571428572,
            "count": 0
           },
           {
            "bin_end": 0.17142857142857143,
            "bin_start": 0.12857142857142856,
            "count": 1
           },
           {
            "bin_end": 0.2142857142857143,
            "bin_start": 0.17142857142857143,
            "count": 0
           },
           {
            "bin_end": 0.2571428571428571,
            "bin_start": 0.2142857142857143,
            "count": 0
           },
           {
            "bin_end": 0.3,
            "bin_start": 0.2571428571428571,
            "count": 0
           },
           {
            "bin_end": 0.34285714285714286,
            "bin_start": 0.3,
            "count": 0
           },
           {
            "bin_end": 0.38571428571428573,
            "bin_start": 0.34285714285714286,
            "count": 0
           },
           {
            "bin_end": 0.42857142857142855,
            "bin_start": 0.38571428571428573,
            "count": 1
           }
          ],
          "max": "0.42857142857142855",
          "min": "0.0",
          "nan_count": 0,
          "unique_count": 3
         }
        },
        {
         "dtype": "object",
         "name": "senti_label",
         "stats": {
          "categories": [
           {
            "count": 4,
            "name": "neutral"
           },
           {
            "count": 1,
            "name": "positive"
           }
          ],
          "nan_count": 0,
          "unique_count": 2
         }
        },
        {
         "dtype": "int64",
         "name": "_deepnote_index_column"
        }
       ],
       "row_count": 5,
       "rows": [
        {
         "Text": "@Negbawi @AndrewMMacLeod @Purna_Sen @GodivaRides @merseyview @UN @equalitynow @LiftOurVoicesUS @UN_…",
         "_deepnote_index_column": 0,
         "clean_text": "                                              Throughout the world prominent sexual harassers are b…",
         "senti_label": "neutral",
         "sentiment_score": 0.15999999999999998
        },
        {
         "Text": "@MarcusRashford @Nike @MarcusRashford I would Stand next to you Any Day for all of the Causes you h…",
         "_deepnote_index_column": 1,
         "clean_text": "   I would Stand next to you Any Day for all of the Causes you have been A Pillar of your home Comm…",
         "senti_label": "positive",
         "sentiment_score": 0.42857142857142855
        },
        {
         "Text": "@YanitedAlways @MarcusRashford 👀 Should ask him and if he says no dig up dirt on him so he can't sa…",
         "_deepnote_index_column": 2,
         "clean_text": "   Should ask him and if he says no dig up dirt on him so he can't say no",
         "senti_label": "neutral",
         "sentiment_score": 0
        },
        {
         "Text": "@MarcusRashford Get well soon bro",
         "_deepnote_index_column": 3,
         "clean_text": " Get well soon bro",
         "senti_label": "neutral",
         "sentiment_score": 0
        },
        {
         "Text": "@YanitedAlways @MarcusRashford Got any spare time?",
         "_deepnote_index_column": 4,
         "clean_text": "  Got any spare time?",
         "senti_label": "neutral",
         "sentiment_score": 0
        }
       ]
      },
      "text/html": [
       "<div>\n",
       "<style scoped>\n",
       "    .dataframe tbody tr th:only-of-type {\n",
       "        vertical-align: middle;\n",
       "    }\n",
       "\n",
       "    .dataframe tbody tr th {\n",
       "        vertical-align: top;\n",
       "    }\n",
       "\n",
       "    .dataframe thead th {\n",
       "        text-align: right;\n",
       "    }\n",
       "</style>\n",
       "<table border=\"1\" class=\"dataframe\">\n",
       "  <thead>\n",
       "    <tr style=\"text-align: right;\">\n",
       "      <th></th>\n",
       "      <th>Text</th>\n",
       "      <th>clean_text</th>\n",
       "      <th>sentiment_score</th>\n",
       "      <th>senti_label</th>\n",
       "    </tr>\n",
       "  </thead>\n",
       "  <tbody>\n",
       "    <tr>\n",
       "      <th>0</th>\n",
       "      <td>@Negbawi @AndrewMMacLeod @Purna_Sen @GodivaRid...</td>\n",
       "      <td>...</td>\n",
       "      <td>0.160000</td>\n",
       "      <td>neutral</td>\n",
       "    </tr>\n",
       "    <tr>\n",
       "      <th>1</th>\n",
       "      <td>@MarcusRashford @Nike @MarcusRashford I would ...</td>\n",
       "      <td>I would Stand next to you Any Day for all o...</td>\n",
       "      <td>0.428571</td>\n",
       "      <td>positive</td>\n",
       "    </tr>\n",
       "    <tr>\n",
       "      <th>2</th>\n",
       "      <td>@YanitedAlways @MarcusRashford 👀 Should ask hi...</td>\n",
       "      <td>Should ask him and if he says no dig up dir...</td>\n",
       "      <td>0.000000</td>\n",
       "      <td>neutral</td>\n",
       "    </tr>\n",
       "    <tr>\n",
       "      <th>3</th>\n",
       "      <td>@MarcusRashford Get well soon bro</td>\n",
       "      <td>Get well soon bro</td>\n",
       "      <td>0.000000</td>\n",
       "      <td>neutral</td>\n",
       "    </tr>\n",
       "    <tr>\n",
       "      <th>4</th>\n",
       "      <td>@YanitedAlways @MarcusRashford Got any spare t...</td>\n",
       "      <td>Got any spare time?</td>\n",
       "      <td>0.000000</td>\n",
       "      <td>neutral</td>\n",
       "    </tr>\n",
       "  </tbody>\n",
       "</table>\n",
       "</div>"
      ],
      "text/plain": [
       "                                                Text  \\\n",
       "0  @Negbawi @AndrewMMacLeod @Purna_Sen @GodivaRid...   \n",
       "1  @MarcusRashford @Nike @MarcusRashford I would ...   \n",
       "2  @YanitedAlways @MarcusRashford 👀 Should ask hi...   \n",
       "3                  @MarcusRashford Get well soon bro   \n",
       "4  @YanitedAlways @MarcusRashford Got any spare t...   \n",
       "\n",
       "                                          clean_text  sentiment_score  \\\n",
       "0                                                ...         0.160000   \n",
       "1     I would Stand next to you Any Day for all o...         0.428571   \n",
       "2     Should ask him and if he says no dig up dir...         0.000000   \n",
       "3                                  Get well soon bro         0.000000   \n",
       "4                                Got any spare time?         0.000000   \n",
       "\n",
       "  senti_label  \n",
       "0     neutral  \n",
       "1    positive  \n",
       "2     neutral  \n",
       "3     neutral  \n",
       "4     neutral  "
      ]
     },
     "execution_count": 6,
     "metadata": {},
     "output_type": "execute_result"
    }
   ],
   "source": [
    "df['clean_text']= df.apply(lambda row: clean_tweet(row['Text']), axis=1)\n",
    "df['sentiment_score']= df.apply(lambda row: sentiment(row['clean_text']), axis=1)\n",
    "df['senti_label']= df.apply(lambda row: sentiment_label(row['sentiment_score']), axis=1)\n",
    "\n",
    "df.head()"
   ]
  },
  {
   "cell_type": "code",
   "execution_count": 7,
   "metadata": {
    "cell_id": "93f2ac70-9152-4673-bcb4-fd53a122eff2",
    "deepnote_cell_type": "code",
    "deepnote_output_heights": [
     21.1875
    ],
    "deepnote_to_be_reexecuted": false,
    "execution_millis": 11,
    "execution_start": 1643461043127,
    "source_hash": "14c22647",
    "tags": []
   },
   "outputs": [
    {
     "data": {
      "text/plain": [
       "0.1263575103577549"
      ]
     },
     "execution_count": 7,
     "metadata": {},
     "output_type": "execute_result"
    }
   ],
   "source": [
    "df.sentiment_score.mean()"
   ]
  },
  {
   "cell_type": "code",
   "execution_count": 8,
   "metadata": {
    "cell_id": "6eba8edb-a56d-423d-84fb-0f2c1dadaef7",
    "deepnote_cell_type": "code",
    "deepnote_output_heights": [
     136.3125
    ],
    "deepnote_to_be_reexecuted": false,
    "execution_millis": 155,
    "execution_start": 1643461043163,
    "source_hash": "37c22614",
    "tags": []
   },
   "outputs": [
    {
     "name": "stdout",
     "output_type": "stream",
     "text": [
      "There are 193377  tweets overall during the span about Marcus Rashford.\n",
      "1774 tweets ( 0.917 % ) are labeled as NEGATIVE\n",
      "13895 tweets ( 7.185 % ) are labeled as POSITIVE\n",
      "13552 tweets ( 7.008 % ) are labeled as negative\n",
      "117030 tweets ( 60.519 % ) are labeled as neutral\n",
      "47126 tweets ( 24.37 % ) are labeled as positive\n"
     ]
    }
   ],
   "source": [
    "result = df.groupby('senti_label').count()['Text']\n",
    "result = result.reset_index()\n",
    "total = df.shape[0]\n",
    "\n",
    "print('There are',total, ' tweets overall during the span about Marcus Rashford.')\n",
    "\n",
    "for i in range(5):\n",
    "    value = result['Text'][i]\n",
    "    label = result['senti_label'][i]\n",
    "    rate = round(100*value/total,3)\n",
    "    print(value, 'tweets (',rate, '% ) are labeled as',label)"
   ]
  },
  {
   "cell_type": "markdown",
   "metadata": {},
   "source": [
    "### Cristiano Ronaldo"
   ]
  },
  {
   "cell_type": "code",
   "execution_count": 9,
   "metadata": {},
   "outputs": [
    {
     "name": "stdout",
     "output_type": "stream",
     "text": [
      "(1060624, 4)\n"
     ]
    }
   ],
   "source": [
    "tweets_list = []\n",
    "\n",
    "for i in range(len(l)-1):\n",
    "    start=l[i]\n",
    "    end=l[i+1]\n",
    "    tweets= get_tweet('Cristiano Ronaldo', start, end)\n",
    "    tweets_list += tweets\n",
    "\n",
    "df1 = pd.DataFrame(tweets_list, columns=['Text'])\n",
    "df1['clean_text']= df1.apply(lambda row: clean_tweet(row['Text']), axis=1)\n",
    "df1['sentiment_score']= df1.apply(lambda row: sentiment(row['clean_text']), axis=1)\n",
    "df1['senti_label']= df1.apply(lambda row: sentiment_label(row['sentiment_score']), axis=1)\n",
    "\n",
    "df1.shape"
   ]
  },
  {
   "cell_type": "code",
   "execution_count": 10,
   "metadata": {
    "cell_id": "8e080e2b-4aee-425f-91a7-a813b8387f29",
    "deepnote_cell_type": "code",
    "deepnote_output_heights": [
     21.1875,
     21.1875
    ],
    "deepnote_to_be_reexecuted": false,
    "execution_millis": 452,
    "execution_start": 1643480021792,
    "source_hash": "8f9fe6d8",
    "tags": []
   },
   "outputs": [
    {
     "name": "stdout",
     "output_type": "stream",
     "text": [
      "0.1348961834119247\n"
     ]
    }
   ],
   "source": [
    "df1.sentiment_score.mean()"
   ]
  },
  {
   "cell_type": "code",
   "execution_count": 11,
   "metadata": {},
   "outputs": [
    {
     "name": "stdout",
     "output_type": "stream",
     "text": [
      "There are 1060624  tweets overall during the span about Cristiano Ronaldo.\n",
      "6901 tweets ( 0.651 % ) are labeled as NEGATIVE\n",
      "73710 tweets ( 6.95 % ) are labeled as POSITIVE\n",
      "57310 tweets ( 5.403 % ) are labeled as negative\n",
      "669959 tweets ( 63.166 % ) are labeled as neutral\n",
      "252744 tweets ( 23.83 % ) are labeled as positive\n"
     ]
    }
   ],
   "source": [
    "result = df1.groupby('senti_label').count()['Text']\n",
    "result = result.reset_index()\n",
    "total = df1.shape[0]\n",
    "\n",
    "print('There are',total, ' tweets overall during the span about Cristiano Ronaldo.')\n",
    "\n",
    "for i in range(5):\n",
    "    value = result['Text'][i]\n",
    "    label = result['senti_label'][i]\n",
    "    rate = round(100*value/total,3)\n",
    "    print(value, 'tweets (',rate, '% ) are labeled as',label)"
   ]
  },
  {
   "cell_type": "code",
   "execution_count": null,
   "metadata": {},
   "outputs": [],
   "source": []
  }
 ],
 "metadata": {
  "deepnote": {
   "is_reactive": false
  },
  "deepnote_execution_queue": [],
  "deepnote_notebook_id": "d87c977e-0a72-4e35-8857-4757f0d10d9b",
  "kernelspec": {
   "display_name": "Python 3",
   "language": "python",
   "name": "python3"
  },
  "language_info": {
   "codemirror_mode": {
    "name": "ipython",
    "version": 3
   },
   "file_extension": ".py",
   "mimetype": "text/x-python",
   "name": "python",
   "nbconvert_exporter": "python",
   "pygments_lexer": "ipython3",
   "version": "3.7.10"
  }
 },
 "nbformat": 4,
 "nbformat_minor": 2
}
